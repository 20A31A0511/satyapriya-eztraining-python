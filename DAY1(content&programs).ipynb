{
  "nbformat": 4,
  "nbformat_minor": 0,
  "metadata": {
    "colab": {
      "provenance": [],
      "authorship_tag": "ABX9TyPdS0Bakvn3VUoDLFzKzy+0",
      "include_colab_link": true
    },
    "kernelspec": {
      "name": "python3",
      "display_name": "Python 3"
    },
    "language_info": {
      "name": "python"
    }
  },
  "cells": [
    {
      "cell_type": "markdown",
      "metadata": {
        "id": "view-in-github",
        "colab_type": "text"
      },
      "source": [
        "<a href=\"https://colab.research.google.com/github/20A31A0511/satyapriya-eztraining-python/blob/main/DAY1(content%26programs).ipynb\" target=\"_parent\"><img src=\"https://colab.research.google.com/assets/colab-badge.svg\" alt=\"Open In Colab\"/></a>"
      ]
    },
    {
      "cell_type": "markdown",
      "source": [
        "\n",
        "\n",
        "INTRO\n",
        "\n",
        "Python is famous in the market and it is called as the language of future\n",
        "It supports current technologies and upcoming technologies.\n",
        "Mediums: Idle-Interpreted development learning environment, Jupyter notebook, Anaconda, Thoni, VS code. python-scripting language"
      ],
      "metadata": {
        "id": "0hpzZci80r51"
      }
    },
    {
      "cell_type": "markdown",
      "source": [
        "# Displaying name in mother tongue using unicode for letters"
      ],
      "metadata": {
        "id": "LjrK4OE4IXDt"
      }
    },
    {
      "cell_type": "code",
      "source": [],
      "metadata": {
        "id": "XqXMx3Nq1Wqs"
      },
      "execution_count": null,
      "outputs": []
    },
    {
      "cell_type": "markdown",
      "source": [
        "# *Assignment-sudarsan,mounya "
      ],
      "metadata": {
        "id": "JBgwGNuYK9Sq"
      }
    },
    {
      "cell_type": "code",
      "source": [
        "print(chr(3128)+chr(3137)+chr(3110)+chr(3120)+chr(3149)+chr(3126)+chr(3112)+chr(3149))"
      ],
      "metadata": {
        "colab": {
          "base_uri": "https://localhost:8080/"
        },
        "id": "UgeVxikXXf5C",
        "outputId": "98bdcdf1-6ac6-4c2c-a6a7-15d43215fcfd"
      },
      "execution_count": null,
      "outputs": [
        {
          "output_type": "stream",
          "name": "stdout",
          "text": [
            "సుదర్శన్\n"
          ]
        }
      ]
    },
    {
      "cell_type": "code",
      "source": [
        "print(chr(3118)+chr(3148)+chr(3112)+chr(3149)+chr(3119))"
      ],
      "metadata": {
        "colab": {
          "base_uri": "https://localhost:8080/"
        },
        "id": "9abrhRb_Xruf",
        "outputId": "67e295a8-d21a-4589-85fc-863a9cb13228"
      },
      "execution_count": null,
      "outputs": [
        {
          "output_type": "stream",
          "name": "stdout",
          "text": [
            "మౌన్య\n"
          ]
        }
      ]
    },
    {
      "cell_type": "markdown",
      "source": [
        "# Checking valid and invalid varaiable names"
      ],
      "metadata": {
        "id": "R7aQ7c0HX0Yl"
      }
    },
    {
      "cell_type": "code",
      "source": [
        "num1=11\n",
        "_num2=80\n",
        "num_3=49"
      ],
      "metadata": {
        "id": "chcXayhMYBqD"
      },
      "execution_count": null,
      "outputs": []
    },
    {
      "cell_type": "code",
      "source": [
        "4num=5\n",
        ">num5=99\n",
        "6=10"
      ],
      "metadata": {
        "colab": {
          "base_uri": "https://localhost:8080/",
          "height": 131
        },
        "id": "_mDBxa8KYYe9",
        "outputId": "7a4626d0-c2cb-4f26-acdd-1483945dfec0"
      },
      "execution_count": null,
      "outputs": [
        {
          "output_type": "error",
          "ename": "SyntaxError",
          "evalue": "ignored",
          "traceback": [
            "\u001b[0;36m  File \u001b[0;32m\"<ipython-input-4-de8c747c18ac>\"\u001b[0;36m, line \u001b[0;32m1\u001b[0m\n\u001b[0;31m    4num=5\u001b[0m\n\u001b[0m     ^\u001b[0m\n\u001b[0;31mSyntaxError\u001b[0m\u001b[0;31m:\u001b[0m invalid syntax\n"
          ]
        }
      ]
    },
    {
      "cell_type": "markdown",
      "source": [
        "# Data types\n",
        "\n",
        "*   Numerical data type - int,float,complex\n",
        "*   Boolean Datatype - True,False\n",
        "*   Sequence Datatype - string,list,tuple,dictionary\n"
      ],
      "metadata": {
        "id": "hntSPQNeYtA_"
      }
    },
    {
      "cell_type": "code",
      "source": [
        "#Numeric datatypes\n",
        "print(type(11))\n",
        "print(type(1.89))\n",
        "print(type(1+2j))"
      ],
      "metadata": {
        "colab": {
          "base_uri": "https://localhost:8080/"
        },
        "id": "i6z-eZqBZFVI",
        "outputId": "97d127a8-25ff-4481-a8fd-133e0a1d4d6e"
      },
      "execution_count": null,
      "outputs": [
        {
          "output_type": "stream",
          "name": "stdout",
          "text": [
            "<class 'int'>\n",
            "<class 'float'>\n",
            "<class 'complex'>\n"
          ]
        }
      ]
    },
    {
      "cell_type": "code",
      "source": [
        "#Boolean Datatype\n",
        "print(type(True))\n",
        "print(type(False))"
      ],
      "metadata": {
        "colab": {
          "base_uri": "https://localhost:8080/"
        },
        "id": "xJBPW8FuZeva",
        "outputId": "8f775002-1b5c-497e-d3ca-f52470a24bbc"
      },
      "execution_count": null,
      "outputs": [
        {
          "output_type": "stream",
          "name": "stdout",
          "text": [
            "<class 'bool'>\n",
            "<class 'bool'>\n"
          ]
        }
      ]
    },
    {
      "cell_type": "code",
      "source": [
        "#Sequence datatypes\n",
        "print(type(\"satya\"))\n",
        "print(type([3,6,9]))"
      ],
      "metadata": {
        "colab": {
          "base_uri": "https://localhost:8080/"
        },
        "id": "MWLrYUjRZt6M",
        "outputId": "10d06430-b6a3-4979-baf2-62759e143778"
      },
      "execution_count": null,
      "outputs": [
        {
          "output_type": "stream",
          "name": "stdout",
          "text": [
            "<class 'str'>\n",
            "<class 'list'>\n"
          ]
        }
      ]
    },
    {
      "cell_type": "markdown",
      "source": [
        "# Type Conversion"
      ],
      "metadata": {
        "id": "oOTPi7sfan57"
      }
    },
    {
      "cell_type": "code",
      "source": [
        "print(int(34.6))\n",
        "print(id(56))\n",
        "print(isinstance(10,int))\n",
        "print(isinstance(10,float))"
      ],
      "metadata": {
        "colab": {
          "base_uri": "https://localhost:8080/"
        },
        "id": "oHaVbUDrappw",
        "outputId": "ac8027f9-6fde-49e8-c7cd-39e099485c90"
      },
      "execution_count": null,
      "outputs": [
        {
          "output_type": "stream",
          "name": "stdout",
          "text": [
            "34\n",
            "9794848\n",
            "True\n",
            "False\n"
          ]
        }
      ]
    },
    {
      "cell_type": "markdown",
      "source": [
        "# *concatenating strings using type coversion"
      ],
      "metadata": {
        "id": "58mpLMszoJw8"
      }
    },
    {
      "cell_type": "code",
      "source": [
        "a=30\n",
        "print(\"The value is:\"+a)"
      ],
      "metadata": {
        "colab": {
          "base_uri": "https://localhost:8080/",
          "height": 183
        },
        "id": "n64g2fprnrCd",
        "outputId": "c8dd97a1-d58b-453d-aaf0-796ac0686f40"
      },
      "execution_count": null,
      "outputs": [
        {
          "output_type": "error",
          "ename": "TypeError",
          "evalue": "ignored",
          "traceback": [
            "\u001b[0;31m---------------------------------------------------------------------------\u001b[0m",
            "\u001b[0;31mTypeError\u001b[0m                                 Traceback (most recent call last)",
            "\u001b[0;32m<ipython-input-10-c9b128b07049>\u001b[0m in \u001b[0;36m<module>\u001b[0;34m\u001b[0m\n\u001b[1;32m      1\u001b[0m \u001b[0ma\u001b[0m\u001b[0;34m=\u001b[0m\u001b[0;36m30\u001b[0m\u001b[0;34m\u001b[0m\u001b[0;34m\u001b[0m\u001b[0m\n\u001b[0;32m----> 2\u001b[0;31m \u001b[0mprint\u001b[0m\u001b[0;34m(\u001b[0m\u001b[0;34m\"The value is:\"\u001b[0m\u001b[0;34m+\u001b[0m\u001b[0ma\u001b[0m\u001b[0;34m)\u001b[0m\u001b[0;34m\u001b[0m\u001b[0;34m\u001b[0m\u001b[0m\n\u001b[0m",
            "\u001b[0;31mTypeError\u001b[0m: can only concatenate str (not \"int\") to str"
          ]
        }
      ]
    },
    {
      "cell_type": "code",
      "source": [
        "a=54\n",
        "print(\"the value is :\"+str(a))"
      ],
      "metadata": {
        "colab": {
          "base_uri": "https://localhost:8080/"
        },
        "id": "ah5gzgBQoApl",
        "outputId": "d92a1bb3-6cf1-4a7e-f43b-7e7602fe82a2"
      },
      "execution_count": null,
      "outputs": [
        {
          "output_type": "stream",
          "name": "stdout",
          "text": [
            "the value is :54\n"
          ]
        }
      ]
    },
    {
      "cell_type": "markdown",
      "source": [
        "# Operators's Precedence and Associativity\n",
        "\n",
        "\n",
        "Every operator has it's own priority.\n",
        "we can use BODMAS rule\n",
        "If there is same priority operators present in the expression,evaluation happens left to right except assignment operator(evaluates right to left) \n",
        "\n",
        "\n"
      ],
      "metadata": {
        "id": "Mk6X4VtAVDrF"
      }
    },
    {
      "cell_type": "markdown",
      "source": [
        "# Input statement\n",
        "*   input() --- by default --- string\n",
        "-for int -- int(input())\n",
        "-for float -- float(input())\n",
        "-for complex -- complex(input())"
      ],
      "metadata": {
        "id": "DsdIb0EtpA6s"
      }
    },
    {
      "cell_type": "markdown",
      "source": [
        "PROGRAM--*Take 3 integers,3float numbers,2 strings and 1 complex number as input and print the same on the screen(note* use formatted output) "
      ],
      "metadata": {
        "id": "ZFmH6iBHpLdL"
      }
    },
    {
      "cell_type": "code",
      "source": [
        "int1=int(input(\"Enter first integer:\"))\n",
        "int2=int(input(\"Enter second integer:\"))\n",
        "int3=int(input(\"Enter third integer:\"))\n",
        "fl1=float(input(\"Enter first float:\"))\n",
        "fl2=float(input(\"Enter second float:\"))\n",
        "fl3=float(input(\"Enter third float:\"))\n",
        "string1=input(\"Enter first string:\")\n",
        "string2=input(\"Enter second string:\")\n",
        "cmpl=complex(input(\"Enter first complex:\"))\n",
        "print()\n",
        "print(\"first integer:\",int1)\n",
        "print(\"second integer:\",int2)\n",
        "print(\"third integer:\",int3)\n",
        "print(\"first float:\",fl1)\n",
        "print(\"second float:\",fl2)\n",
        "print(\"third float:\",fl3)\n",
        "print(\"first string:\",string1)\n",
        "print(\"second string:\",string2)\n",
        "print(\"first complex:\",cmpl6)"
      ],
      "metadata": {
        "colab": {
          "base_uri": "https://localhost:8080/"
        },
        "id": "-fj-RBFhp39j",
        "outputId": "c7a1c31b-e2be-4ef0-9278-f4a657bb2686"
      },
      "execution_count": null,
      "outputs": [
        {
          "output_type": "stream",
          "name": "stdout",
          "text": [
            "Enter first integer:11\n",
            "Enter second integer:22\n",
            "Enter third integer:33\n",
            "Enter first float:3.5\n",
            "Enter second float:4.5\n",
            "Enter third float:6.7\n",
            "Enter first string:satya\n",
            "Enter second string:priya\n",
            "Enter first complex:3+3j\n",
            "\n",
            "first integer: 11\n",
            "second integer: 22\n",
            "third integer: 33\n",
            "first float: 3.5\n",
            "second float: 4.5\n",
            "third float: 6.7\n",
            "first string: satya\n",
            "second string: priya\n",
            "first complex: (3+3j)\n"
          ]
        }
      ]
    },
    {
      "cell_type": "markdown",
      "source": [
        "# Programs"
      ],
      "metadata": {
        "id": "HZDyASDNv88g"
      }
    },
    {
      "cell_type": "code",
      "source": [
        "#Program 1\n",
        "initial=int(input(\"enter initial sugar candy wt:\"))\n",
        "final=(0.75)*initial\n",
        "print(\"amount of candy kumar got\",final)\n",
        "remain=initial-final\n",
        "print(\"amount of candyb sam got\",remain)"
      ],
      "metadata": {
        "colab": {
          "base_uri": "https://localhost:8080/"
        },
        "id": "DvdiPZoEyLcv",
        "outputId": "28ba5d56-35d4-479f-845d-a84fa7635a35"
      },
      "execution_count": null,
      "outputs": [
        {
          "output_type": "stream",
          "name": "stdout",
          "text": [
            "enter initial sugar candy wt:75\n",
            "amount of candy kumar got 56.25\n",
            "amount of candyb sam got 18.75\n"
          ]
        }
      ]
    },
    {
      "cell_type": "code",
      "source": [
        "#Program 2\n",
        "n=float(input(\"enter a number\"))\n",
        "prod=3*n\n",
        "add=56.19+prod\n",
        "sub=add-10\n",
        "result=sub\n",
        "print(\"result:\",result)"
      ],
      "metadata": {
        "colab": {
          "base_uri": "https://localhost:8080/"
        },
        "id": "I-RNA6_lzRu_",
        "outputId": "40feeb72-027c-4e69-f9ce-87d275a83884"
      },
      "execution_count": null,
      "outputs": [
        {
          "output_type": "stream",
          "name": "stdout",
          "text": [
            "enter a number36.32\n",
            "result: 155.15\n"
          ]
        }
      ]
    },
    {
      "cell_type": "code",
      "source": [
        "n1=int(input(\"enter a positive number:\"))\n",
        "n2=float(input(\"enter a negative float num:\"))\n",
        "mul=n1*n2\n",
        "print(\"product:\",mul)"
      ],
      "metadata": {
        "colab": {
          "base_uri": "https://localhost:8080/"
        },
        "id": "AUJ6UrA21PYN",
        "outputId": "a42d4027-a588-48db-dd6c-ca64ff6ee588"
      },
      "execution_count": null,
      "outputs": [
        {
          "output_type": "stream",
          "name": "stdout",
          "text": [
            "enter a positive number:11\n",
            "enter a negative float num:-11\n",
            "product: -121.0\n"
          ]
        }
      ]
    },
    {
      "cell_type": "markdown",
      "source": [
        "# Operators\n",
        "\n",
        "\n",
        "   ### 1.Arithmetic operators\n",
        "\n",
        "*   addition  +\n",
        "-subtraction  -\n",
        "-multiplication  *\n",
        "-dividion  (float)  /\n",
        "-floor division  (int)  //\n",
        "*   modulus  %\n",
        "\n",
        "   ### 2.Relational/Comparision operators(compares two or more values)\n",
        "\n",
        "* '>'\n",
        "-<\n",
        "-==\n",
        "-<=\n",
        "*   '>='\n",
        "-!=\n",
        "\n",
        "   ### 3.Logical operators\n",
        "\n",
        "*   and\n",
        "*   or\n",
        "*   not\n",
        "\n",
        "   ### 4.Assignment opeartors\n",
        "\n",
        "\n",
        "*   =\n",
        "*   +=\n",
        "*   -=\n",
        "*   *=\n",
        "*   /="
      ],
      "metadata": {
        "id": "dL_sAPM74NSd"
      }
    },
    {
      "cell_type": "code",
      "source": [
        "#arithmetic\n",
        "print(11+11)\n",
        "print(22-21)\n",
        "print(12*2)\n",
        "print(10/2)\n",
        "print(10//2)\n",
        "print(10%5)"
      ],
      "metadata": {
        "colab": {
          "base_uri": "https://localhost:8080/"
        },
        "id": "NVgyZriH52Fs",
        "outputId": "9caea4b5-0692-4b61-937f-7f3c86f21c48"
      },
      "execution_count": null,
      "outputs": [
        {
          "output_type": "stream",
          "name": "stdout",
          "text": [
            "22\n",
            "1\n",
            "24\n",
            "5.0\n",
            "5\n",
            "0\n"
          ]
        }
      ]
    },
    {
      "cell_type": "code",
      "source": [
        "#relational\n",
        "print(10<22)\n",
        "print(10>22)\n",
        "print(1==2)\n",
        "print(2>=3)\n",
        "print(2>=2)\n",
        "print(1!=2)"
      ],
      "metadata": {
        "colab": {
          "base_uri": "https://localhost:8080/"
        },
        "id": "73yXvIH96KTE",
        "outputId": "517c77eb-97f4-4e4e-c6ce-359e94347823"
      },
      "execution_count": null,
      "outputs": [
        {
          "output_type": "stream",
          "name": "stdout",
          "text": [
            "True\n",
            "False\n",
            "False\n",
            "False\n",
            "True\n",
            "True\n"
          ]
        }
      ]
    },
    {
      "cell_type": "code",
      "source": [
        "#logical\n",
        "print(22>11 and 33<44)\n",
        "print(22>11 or 33>44) \n",
        "print(not(1==2))\n",
        "print(not(1==1))"
      ],
      "metadata": {
        "colab": {
          "base_uri": "https://localhost:8080/"
        },
        "id": "nRfuS18_7Ejz",
        "outputId": "65dcb3b8-7ea8-4c12-bb62-e93efaa5aa75"
      },
      "execution_count": null,
      "outputs": [
        {
          "output_type": "stream",
          "name": "stdout",
          "text": [
            "True\n",
            "True\n",
            "True\n",
            "False\n"
          ]
        }
      ]
    },
    {
      "cell_type": "markdown",
      "source": [
        "# Multiple inputs in single line"
      ],
      "metadata": {
        "id": "KgeM-xx1-y_C"
      }
    },
    {
      "cell_type": "code",
      "source": [
        "n1,n2=input(\"enter two integers:\").split(\",\")\n",
        "print(n1)\n",
        "print(n2)\n",
        "print(n1+n2)"
      ],
      "metadata": {
        "colab": {
          "base_uri": "https://localhost:8080/"
        },
        "id": "Q4pZx6MD-7FZ",
        "outputId": "058e976a-4efb-460c-8f54-4ea18edd4329"
      },
      "execution_count": null,
      "outputs": [
        {
          "output_type": "stream",
          "name": "stdout",
          "text": [
            "enter two integers:11,5\n",
            "11\n",
            "5\n",
            "115\n"
          ]
        }
      ]
    },
    {
      "cell_type": "code",
      "source": [
        "n1,n2=input(\"enter two integers:\").split(\".\")\n",
        "print(n1)\n",
        "print(n2)\n",
        "print(n1+n2)"
      ],
      "metadata": {
        "colab": {
          "base_uri": "https://localhost:8080/"
        },
        "id": "AH1Tle7E_9ws",
        "outputId": "ee82ac99-82c1-42fa-a13d-cfac0c70142e"
      },
      "execution_count": null,
      "outputs": [
        {
          "output_type": "stream",
          "name": "stdout",
          "text": [
            "enter two integers:1.2\n",
            "1\n",
            "2\n",
            "12\n"
          ]
        }
      ]
    },
    {
      "cell_type": "code",
      "source": [
        "n1,n2=input(\"enter two integers:\").split(\" \")\n",
        "print(n1)\n",
        "print(n2)\n",
        "print(type(n1))\n",
        "print(n1+n2)"
      ],
      "metadata": {
        "colab": {
          "base_uri": "https://localhost:8080/"
        },
        "id": "hpqQUmT_ADQo",
        "outputId": "2b167a94-2a5c-4918-f87d-dd04138a621b"
      },
      "execution_count": null,
      "outputs": [
        {
          "output_type": "stream",
          "name": "stdout",
          "text": [
            "enter two integers:4 6\n",
            "4\n",
            "6\n",
            "<class 'str'>\n",
            "46\n"
          ]
        }
      ]
    },
    {
      "cell_type": "code",
      "source": [
        "n1,n2=input(\"enter two integers:\").split(\".\")\n",
        "print(n1)\n",
        "print(n2)\n",
        "print(int(n1)+int(n2))"
      ],
      "metadata": {
        "colab": {
          "base_uri": "https://localhost:8080/"
        },
        "id": "uVg54ABbCvbf",
        "outputId": "bb1e77a9-612c-4ad7-bc59-10f02494c4b2"
      },
      "execution_count": null,
      "outputs": [
        {
          "output_type": "stream",
          "name": "stdout",
          "text": [
            "enter two integers:7.5\n",
            "7\n",
            "5\n",
            "12\n"
          ]
        }
      ]
    },
    {
      "cell_type": "markdown",
      "source": [
        "# Programs\n",
        "\n",
        "*   Swapping of numbers using temp\n",
        "*   Swapping numbers without using temp\n",
        "*   Area of rectangle\n",
        "*   Perimeter of rectangle\n"
      ],
      "metadata": {
        "id": "q9HGD3ZEz_Oz"
      }
    },
    {
      "cell_type": "code",
      "source": [],
      "metadata": {
        "id": "91u-I2wv0bFb"
      },
      "execution_count": null,
      "outputs": []
    },
    {
      "cell_type": "code",
      "source": [
        "#swappingwithtemp\n",
        "n1=int(input(\"Enter a number:\"))\n",
        "n2=int(input(\"Enter a number:\"))\n",
        "print(\"before swapping\")\n",
        "print(\"n1:\",n1)\n",
        "print(\"n2:\",n2)\n",
        "temp=n1\n",
        "n1=n2\n",
        "n2=temp\n",
        "print(\"After swapping\")\n",
        "print(\"n1:\",n1)\n",
        "print(\"n2:\",n2)"
      ],
      "metadata": {
        "colab": {
          "base_uri": "https://localhost:8080/"
        },
        "id": "bQ2J0jBYDaY_",
        "outputId": "433aea9f-c7b4-44d6-96db-617b641ecbc3"
      },
      "execution_count": null,
      "outputs": [
        {
          "output_type": "stream",
          "name": "stdout",
          "text": [
            "Enter a number:10\n",
            "Enter a number:90\n",
            "before swapping\n",
            "n1: 10\n",
            "n2: 90\n",
            "After swapping\n",
            "n1: 90\n",
            "n2: 10\n"
          ]
        }
      ]
    },
    {
      "cell_type": "code",
      "source": [],
      "metadata": {
        "id": "-a9tpNfa09RP"
      },
      "execution_count": null,
      "outputs": []
    },
    {
      "cell_type": "code",
      "source": [
        "#swappingwithouttemp\n",
        "n1=int(input(\"Enter a number:\"))\n",
        "n2=int(input(\"Enter a number:\"))\n",
        "print(\"before swapping\")\n",
        "print(\"n1:\",n1)\n",
        "print(\"n2:\",n2)\n",
        "total=n1+n2\n",
        "n1=total-n1\n",
        "n2=total-n2\n",
        "print(\"After swapping\")\n",
        "print(\"n1:\",n1)\n",
        "print(\"n2:\",n2)"
      ],
      "metadata": {
        "colab": {
          "base_uri": "https://localhost:8080/"
        },
        "id": "XpYt6sKgEr-Y",
        "outputId": "6c4c14e6-41b7-4511-819e-c868ac77a742"
      },
      "execution_count": null,
      "outputs": [
        {
          "output_type": "stream",
          "name": "stdout",
          "text": [
            "Enter a number:10\n",
            "Enter a number:90\n",
            "before swapping\n",
            "n1: 10\n",
            "n2: 90\n",
            "After swapping\n",
            "n1: 90\n",
            "n2: 10\n"
          ]
        }
      ]
    },
    {
      "cell_type": "code",
      "source": [
        "#area\n",
        "l=int(input(\"length:\"))\n",
        "b=int(input(\"breadth:\"))\n",
        "area=l*b\n",
        "print(\"area of the rectangle:\",area)"
      ],
      "metadata": {
        "colab": {
          "base_uri": "https://localhost:8080/"
        },
        "id": "GuCYU4PqFaGP",
        "outputId": "475532e0-17ac-4be1-d70b-a89651f4af07"
      },
      "execution_count": null,
      "outputs": [
        {
          "output_type": "stream",
          "name": "stdout",
          "text": [
            "length:6\n",
            "breadth:5\n",
            "area of the rectangle: 30\n"
          ]
        }
      ]
    },
    {
      "cell_type": "code",
      "source": [
        "#perimeter\n",
        "l=int(input(\"length:\"))\n",
        "b=int(input(\"breadth:\"))\n",
        "perimeter=2*(l+b)\n",
        "print(\"perimeter of the rectangle:\",perimeter)"
      ],
      "metadata": {
        "colab": {
          "base_uri": "https://localhost:8080/"
        },
        "id": "vl8DJMkOFzCF",
        "outputId": "5fb81eff-9bdc-40e7-ec09-719c747ef869"
      },
      "execution_count": null,
      "outputs": [
        {
          "output_type": "stream",
          "name": "stdout",
          "text": [
            "length:6\n",
            "breadth:5\n",
            "perimeter of the rectangle: 22\n"
          ]
        }
      ]
    }
  ]
}