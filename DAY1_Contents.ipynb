{
  "nbformat": 4,
  "nbformat_minor": 0,
  "metadata": {
    "colab": {
      "provenance": [],
      "authorship_tag": "ABX9TyOIH2SRk2pZkbPcT/DX805I",
      "include_colab_link": true
    },
    "kernelspec": {
      "name": "python3",
      "display_name": "Python 3"
    },
    "language_info": {
      "name": "python"
    }
  },
  "cells": [
    {
      "cell_type": "markdown",
      "metadata": {
        "id": "view-in-github",
        "colab_type": "text"
      },
      "source": [
        "<a href=\"https://colab.research.google.com/github/20A31A0511/satyapriya-eztraining-python/blob/main/DAY1_Contents.ipynb\" target=\"_parent\"><img src=\"https://colab.research.google.com/assets/colab-badge.svg\" alt=\"Open In Colab\"/></a>"
      ]
    },
    {
      "cell_type": "markdown",
      "source": [
        "# **lambda function**\n",
        "\n",
        "*   called as anonymous function\n",
        "*   When we want to use function concept without using function name then we apply concept of lambda function"
      ],
      "metadata": {
        "id": "Kxvxzjv7m0_Z"
      }
    },
    {
      "cell_type": "markdown",
      "source": [
        "# **Four pillars of oops**\n",
        "\n",
        "\n",
        "*   **Abstraction::**Hiding the implementation part showing what is required for the users.Example:exe file\n",
        "  *   we can make class or method as abstract.opposite to abstract is concrete\n",
        "\n",
        "\n",
        "*   **Encapsulation::**Binding data and functions into a single unit\n",
        "  *   public--one class info can be accessed by other class\n",
        "  *   private--can be used where it is declared and not in inherited class\n",
        "  *   protected--can be accessed only where it got declared and can be used in inherited class\n",
        "\n",
        "  \n",
        "*   **Inheritance::**Base class and derived class.Derived class will inherit the properties of base class.\n",
        "  *   Base class-parent class\n",
        "  *   Dervied class-child class\n",
        "  *   Types of inheritance-single,multiple,multilevel,hierarchal,hybrid\n",
        "\n",
        "  \n",
        "\n",
        "\n",
        "\n"
      ],
      "metadata": {
        "id": "G-2f_7mEqjpC"
      }
    }
  ]
}