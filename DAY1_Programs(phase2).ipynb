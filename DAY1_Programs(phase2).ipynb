{
  "nbformat": 4,
  "nbformat_minor": 0,
  "metadata": {
    "colab": {
      "provenance": [],
      "authorship_tag": "ABX9TyPql2ZuS4sj1KXlm4wBgrz5",
      "include_colab_link": true
    },
    "kernelspec": {
      "name": "python3",
      "display_name": "Python 3"
    },
    "language_info": {
      "name": "python"
    }
  },
  "cells": [
    {
      "cell_type": "markdown",
      "metadata": {
        "id": "view-in-github",
        "colab_type": "text"
      },
      "source": [
        "<a href=\"https://colab.research.google.com/github/20A31A0511/satyapriya-eztraining-python/blob/main/DAY1_Programs(phase2).ipynb\" target=\"_parent\"><img src=\"https://colab.research.google.com/assets/colab-badge.svg\" alt=\"Open In Colab\"/></a>"
      ]
    },
    {
      "cell_type": "code",
      "execution_count": null,
      "metadata": {
        "colab": {
          "base_uri": "https://localhost:8080/"
        },
        "id": "5ehiVTIgosCZ",
        "outputId": "b3aaebe8-dd57-49d8-dd71-7967cb0d0729"
      },
      "outputs": [
        {
          "output_type": "stream",
          "name": "stdout",
          "text": [
            "[2, 4, 6]\n",
            "[1, 4, 9]\n",
            "satya\n"
          ]
        }
      ],
      "source": [
        "#lambda function\n",
        "l=[1,2,3]\n",
        "r=map(lambda x:x+x,l)\n",
        "print(list(r))\n",
        "res=map(lambda n:pow(n,2),l)\n",
        "print(list(res))\n",
        "name=\"satya\"\n",
        "(lambda name:print(name))(name)"
      ]
    },
    {
      "cell_type": "code",
      "source": [
        "#Write a program after creating a list with even numbers within the range 1 to 15 now apply lambda function and create a new list which should have square roots of the elements.\n",
        "l=[]\n",
        "for i in range(1,16):\n",
        "  if i%2==0:\n",
        "    l.append(i)\n",
        "print(l)\n",
        "res=map(lambda n:math.sqrt(n),l)\n",
        "print(list(res))"
      ],
      "metadata": {
        "colab": {
          "base_uri": "https://localhost:8080/"
        },
        "id": "c04Nzi6gsDui",
        "outputId": "4847efc4-2285-4a5f-b55e-f1c3e14b4b74"
      },
      "execution_count": null,
      "outputs": [
        {
          "output_type": "stream",
          "name": "stdout",
          "text": [
            "[2, 4, 6, 8, 10, 12, 14]\n",
            "[1.4142135623730951, 2.0, 2.449489742783178, 2.8284271247461903, 3.1622776601683795, 3.4641016151377544, 3.7416573867739413]\n"
          ]
        }
      ]
    },
    {
      "cell_type": "code",
      "source": [
        "from abc import ABC,abstractmethod\n",
        "class abstractdemo(ABC):\n",
        "  @abstractmethod\n",
        "  def display(self):\n",
        "    None\n",
        "  @abstractmethod\n",
        "  def show(self):\n",
        "    None\n",
        "class demo(abstractdemo):\n",
        "  def display(self):\n",
        "    print(\"abstraction mathod\")\n",
        "  def show(self):\n",
        "    print(\"2nd function\")\n",
        "obj=demo()\n",
        "obj.display()\n",
        "obj.show()"
      ],
      "metadata": {
        "colab": {
          "base_uri": "https://localhost:8080/"
        },
        "id": "-J6JF0fm4ReS",
        "outputId": "31fd4ec7-c842-4a08-ca81-194489fb9569"
      },
      "execution_count": null,
      "outputs": [
        {
          "output_type": "stream",
          "name": "stdout",
          "text": [
            "abstraction mathod\n",
            "2nd function\n"
          ]
        }
      ]
    },
    {
      "cell_type": "code",
      "source": [
        "#inheritance\n",
        "class parent:\n",
        "  def display(self):\n",
        "    print(\"parent class\")\n",
        "class child(parent):\n",
        "  def show(self):\n",
        "    print(\"child class\")\n",
        "c=child()\n",
        "c.display()\n",
        "c.show()"
      ],
      "metadata": {
        "colab": {
          "base_uri": "https://localhost:8080/"
        },
        "id": "reBaGzKHCzgq",
        "outputId": "c038ac4d-5dac-4c2b-e320-ea6635682f96"
      },
      "execution_count": null,
      "outputs": [
        {
          "output_type": "stream",
          "name": "stdout",
          "text": [
            "parent class\n",
            "child class\n"
          ]
        }
      ]
    },
    {
      "cell_type": "code",
      "source": [
        "#single inheritance\n",
        "class A:\n",
        "  n=30\n",
        "class B(A):\n",
        "  def calc(self):\n",
        "    c=self.n+70\n",
        "    print(c)\n",
        "obj=B()\n",
        "obj.calc()"
      ],
      "metadata": {
        "colab": {
          "base_uri": "https://localhost:8080/"
        },
        "id": "uxr8Z9mFFkiO",
        "outputId": "b75f75c3-6117-455c-8ddb-87dfde324f98"
      },
      "execution_count": null,
      "outputs": [
        {
          "output_type": "stream",
          "name": "stdout",
          "text": [
            "100\n"
          ]
        }
      ]
    },
    {
      "cell_type": "code",
      "source": [
        "#Mutliple inheritance\n",
        "class dad:\n",
        "  def ddisplay(self):\n",
        "    print(\"dad class\")\n",
        "class mom:\n",
        "  def mdisplay(self):\n",
        "    print(\"mom class\")\n",
        "class child(dad,mom):\n",
        "  def cdisplay(self):\n",
        "    print(\"child class\")\n",
        "c1=child()\n",
        "c1.cdisplay()\n",
        "c1.ddisplay()\n",
        "c1.mdisplay()"
      ],
      "metadata": {
        "colab": {
          "base_uri": "https://localhost:8080/"
        },
        "id": "Zk8_nTAkbKjH",
        "outputId": "1ea4f8ac-7e52-4625-dd29-55f5b0cc4e91"
      },
      "execution_count": null,
      "outputs": [
        {
          "output_type": "stream",
          "name": "stdout",
          "text": [
            "child class\n",
            "dad class\n",
            "mom class\n"
          ]
        }
      ]
    },
    {
      "cell_type": "code",
      "source": [
        "#multilevel inheritance\n",
        "class grandparent:\n",
        "  def display(self):\n",
        "    print(\"grandparent class\")\n",
        "class parent(grandparent):\n",
        "  def show(self):\n",
        "    print(\"parent class\")\n",
        "class child(parent):\n",
        "  def cdisplay(self):\n",
        "    print(\"child class\")\n",
        "c1=child()\n",
        "c1.display()\n",
        "c1.show()\n",
        "c1.cdisplay()            "
      ],
      "metadata": {
        "colab": {
          "base_uri": "https://localhost:8080/"
        },
        "id": "a65Li620ctGa",
        "outputId": "50b1e973-989e-439f-9e4a-a33087aefd4c"
      },
      "execution_count": null,
      "outputs": [
        {
          "output_type": "stream",
          "name": "stdout",
          "text": [
            "grandparent class\n",
            "parent class\n",
            "child class\n"
          ]
        }
      ]
    },
    {
      "cell_type": "code",
      "source": [
        "#hierarchial inheritance\n",
        "class parent:\n",
        "  def display(self):\n",
        "    print(\"class parent\")\n",
        "class child1(parent):\n",
        "  def c1show(self):\n",
        "    print(\"child1 class\")\n",
        "class child2(parent):\n",
        "  def c2show(self):\n",
        "    print(\"child2 class\")\n",
        "c1=child1()\n",
        "c1.c1show()\n",
        "c1.display()\n",
        "c2=child2()\n",
        "c2.c2show()\n",
        "c2.display()              "
      ],
      "metadata": {
        "colab": {
          "base_uri": "https://localhost:8080/"
        },
        "id": "-XkhsomQfdlJ",
        "outputId": "2b9ff1d1-20f0-4004-8166-2e8fa523aed5"
      },
      "execution_count": null,
      "outputs": [
        {
          "output_type": "stream",
          "name": "stdout",
          "text": [
            "child1 class\n",
            "class parent\n",
            "child2 class\n",
            "class parent\n"
          ]
        }
      ]
    },
    {
      "cell_type": "code",
      "source": [
        "#hybrid inheritance\n",
        "class parent:\n",
        "  def display(self):\n",
        "    print(\"parent class\")\n",
        "class child1(parent):\n",
        "  def c1show(self):\n",
        "    print(\"child1 class\")\n",
        "class child2(parent):\n",
        "  def c2show(self):\n",
        "    print(\"child2 class\")\n",
        "class kid1(child1):\n",
        "  def k1display(self):\n",
        "    print(\"kid1 class\")\n",
        "class kid2(child1):\n",
        "  def k2display(self):\n",
        "    print(\"kid2 class\")\n",
        "class kidd1(child2):\n",
        "  def k1show(self):\n",
        "    print(\"kidd1 class\")\n",
        "class kidd2(child2):\n",
        "  def k2show(self):\n",
        "    print(\"kidd2 class\")\n",
        "c1=kid1()\n",
        "c1.c1show()\n",
        "c1.display()\n",
        "c1.k1display()\n",
        "c2=kid2()\n",
        "c2.c1show()\n",
        "c2.display()\n",
        "c2.k2display()\n",
        "c3=kidd1()\n",
        "c3.c2show()\n",
        "c3.k1show()\n",
        "c3.display()\n",
        "c4=kidd2()\n",
        "c4.c2show()\n",
        "c4.display()\n",
        "c4.k2show()  "
      ],
      "metadata": {
        "colab": {
          "base_uri": "https://localhost:8080/"
        },
        "id": "tdzlonV8h8s5",
        "outputId": "e6e810d9-5957-4c96-ac01-8dc11b62d54c"
      },
      "execution_count": null,
      "outputs": [
        {
          "output_type": "stream",
          "name": "stdout",
          "text": [
            "child1 class\n",
            "parent class\n",
            "kid1 class\n",
            "child1 class\n",
            "parent class\n",
            "kid2 class\n",
            "child2 class\n",
            "kidd1 class\n",
            "parent class\n",
            "child2 class\n",
            "parent class\n",
            "kidd2 class\n"
          ]
        }
      ]
    }
  ]
}