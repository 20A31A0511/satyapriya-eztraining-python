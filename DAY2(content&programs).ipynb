{
  "nbformat": 4,
  "nbformat_minor": 0,
  "metadata": {
    "colab": {
      "provenance": [],
      "authorship_tag": "ABX9TyNcYafpNhiVNwB7VlU2JMA+",
      "include_colab_link": true
    },
    "kernelspec": {
      "name": "python3",
      "display_name": "Python 3"
    },
    "language_info": {
      "name": "python"
    }
  },
  "cells": [
    {
      "cell_type": "markdown",
      "metadata": {
        "id": "view-in-github",
        "colab_type": "text"
      },
      "source": [
        "<a href=\"https://colab.research.google.com/github/20A31A0511/satyapriya-eztraining-python/blob/main/DAY2(content%26programs).ipynb\" target=\"_parent\"><img src=\"https://colab.research.google.com/assets/colab-badge.svg\" alt=\"Open In Colab\"/></a>"
      ]
    },
    {
      "cell_type": "markdown",
      "source": [
        "# Bitwise operators\n",
        "\n",
        "*   0's and 1's\n",
        "*   some operations if u do like dz it wil be faster like compressing the  data\n",
        "*   sending data in network to network 0 => false;1 => true \n",
        "*   bitwise AND - &\n",
        "*   bitwise OR - |\n",
        "*   NOT - ~\n",
        "*   XOR - ^\n",
        "*   LEFT SHIFT - <<\n",
        "*   RIGHT SHIFT - >>"
      ],
      "metadata": {
        "id": "f8bF4vJy9eha"
      }
    },
    {
      "cell_type": "code",
      "source": [
        "#bitwise AND operator\n",
        "print(10&4)\n",
        "print(11&11)\n",
        "n1=int(input())\n",
        "n2=int(input())\n",
        "n3=n1&n2\n",
        "print(bin(n3))"
      ],
      "metadata": {
        "colab": {
          "base_uri": "https://localhost:8080/"
        },
        "id": "UNWwanUX_E_I",
        "outputId": "ee38997e-8293-4f15-c112-a6de2e14d230"
      },
      "execution_count": null,
      "outputs": [
        {
          "output_type": "stream",
          "name": "stdout",
          "text": [
            "0\n",
            "11\n",
            "18\n",
            "23\n",
            "0b10010\n"
          ]
        }
      ]
    },
    {
      "cell_type": "code",
      "source": [
        "#bitwise OR operator\n",
        "print(10|4)\n",
        "n1=int(input())\n",
        "n2=int(input())\n",
        "n3=n1|n2\n",
        "print(bin(n3))"
      ],
      "metadata": {
        "colab": {
          "base_uri": "https://localhost:8080/"
        },
        "id": "lkYpo7gqBTtI",
        "outputId": "b5d0699c-c9d3-4920-bf30-2107158da851"
      },
      "execution_count": null,
      "outputs": [
        {
          "output_type": "stream",
          "name": "stdout",
          "text": [
            "14\n",
            "18\n",
            "23\n",
            "0b10111\n"
          ]
        }
      ]
    },
    {
      "cell_type": "code",
      "source": [
        "#bitwise NOT operator\n",
        "print(~10)\n",
        "print(~4)\n"
      ],
      "metadata": {
        "colab": {
          "base_uri": "https://localhost:8080/"
        },
        "id": "odOOxS7uB5v_",
        "outputId": "e02d828c-6bb6-4a39-a2ee-a9f5856f0071"
      },
      "execution_count": null,
      "outputs": [
        {
          "output_type": "stream",
          "name": "stdout",
          "text": [
            "-11\n",
            "-5\n"
          ]
        }
      ]
    },
    {
      "cell_type": "code",
      "source": [
        "#bitwise XOR operator\n",
        "print(10^4)\n",
        "n1=int(input())\n",
        "n2=int(input())\n",
        "n3=n1^n2\n",
        "print(bin(n3))\n",
        "print(9^8)"
      ],
      "metadata": {
        "colab": {
          "base_uri": "https://localhost:8080/"
        },
        "id": "Wgm_hwp-CMvF",
        "outputId": "924fa321-810f-4068-e213-5b7fbf2ca11c"
      },
      "execution_count": null,
      "outputs": [
        {
          "output_type": "stream",
          "name": "stdout",
          "text": [
            "14\n",
            "18\n",
            "23\n",
            "0b101\n",
            "1\n"
          ]
        }
      ]
    },
    {
      "cell_type": "code",
      "source": [
        "#left shift\n",
        "print(10<<2)\n",
        "print(bin(10<<2))"
      ],
      "metadata": {
        "colab": {
          "base_uri": "https://localhost:8080/"
        },
        "id": "9p_3uAktDVgp",
        "outputId": "9c0ee57a-ec1c-482f-9bde-fe6d370f320e"
      },
      "execution_count": null,
      "outputs": [
        {
          "output_type": "stream",
          "name": "stdout",
          "text": [
            "40\n",
            "0b101000\n"
          ]
        }
      ]
    },
    {
      "cell_type": "markdown",
      "source": [
        "**get two numbers as input both less than or equal to 15 and perform and,or,xor** "
      ],
      "metadata": {
        "id": "qCZEx3l4EPIv"
      }
    },
    {
      "cell_type": "code",
      "source": [
        "num1,num2=int(input(\"enter num1:\")),int(input(\"enter num2:\"))\n",
        "print(bin(num1))\n",
        "print(bin(num2))\n",
        "print(\"bitwise and operation of:\",num1&num2)\n",
        "print(\"bitwise or opeartion:\",num1|num2)\n",
        "print(\"bitwise xor operstion:\",num1^num2)"
      ],
      "metadata": {
        "colab": {
          "base_uri": "https://localhost:8080/"
        },
        "id": "ZJKFK_ZMEw5_",
        "outputId": "9d73f8cf-9b91-4a8c-d830-a6eafff8713b"
      },
      "execution_count": null,
      "outputs": [
        {
          "output_type": "stream",
          "name": "stdout",
          "text": [
            "enter num1:6\n",
            "enter num2:12\n",
            "0b110\n",
            "0b1100\n",
            "bitwise and operation of: 4\n",
            "bitwise or opeartion: 14\n",
            "bitwise xor operstion: 10\n"
          ]
        }
      ]
    },
    {
      "cell_type": "code",
      "source": [
        "#Multiple inputs in one line\n",
        "n=int(input(\"size:\"))\n",
        "a=list(map(int,input(\"numbers:\").strip().split()))\n",
        "print(a)"
      ],
      "metadata": {
        "colab": {
          "base_uri": "https://localhost:8080/"
        },
        "id": "RuTF92LUJ1xg",
        "outputId": "fbc4d0a9-f1ec-4e51-ee15-e011fb7dfdb0"
      },
      "execution_count": null,
      "outputs": [
        {
          "output_type": "stream",
          "name": "stdout",
          "text": [
            "size:4 \n",
            "numbers:12 10 7 8 5 6\n",
            "[12, 10, 7, 8, 5, 6]\n"
          ]
        }
      ]
    },
    {
      "cell_type": "code",
      "source": [
        "#Multiple inputs in one line\n",
        "n=int(input(\"size:\"))\n",
        "a=list(map(int,input(\"numbers:\").strip().split()))[:n]\n",
        "print(a)"
      ],
      "metadata": {
        "colab": {
          "base_uri": "https://localhost:8080/"
        },
        "id": "dV10RLoqL4CX",
        "outputId": "fe1651ed-7c77-4451-f2b0-4018543a77c3"
      },
      "execution_count": null,
      "outputs": [
        {
          "output_type": "stream",
          "name": "stdout",
          "text": [
            "size:4\n",
            "numbers:12 10 7 8 5 6\n",
            "[12, 10, 7, 8]\n"
          ]
        }
      ]
    },
    {
      "cell_type": "markdown",
      "source": [
        "**Find the product of 10 integer numbers**"
      ],
      "metadata": {
        "id": "vyILpECbNAR3"
      }
    },
    {
      "cell_type": "code",
      "source": [
        "def product(numbers):\n",
        "  result=1\n",
        "  for i in numbers:\n",
        "    result=result*i\n",
        "  return result\n",
        "numbers=list(map(int,input(\"Numbers:\").split()))\n",
        "print(\"result:\",product(numbers))"
      ],
      "metadata": {
        "colab": {
          "base_uri": "https://localhost:8080/"
        },
        "id": "MbEtGfaiML16",
        "outputId": "17b7b122-2070-4488-bd78-12edbc5adae9"
      },
      "execution_count": null,
      "outputs": [
        {
          "output_type": "stream",
          "name": "stdout",
          "text": [
            "Numbers:1 2 3 4 5\n",
            "result: 120\n"
          ]
        }
      ]
    },
    {
      "cell_type": "code",
      "source": [
        "print(\"It's\",\"a\",\"good\",\"day\",end=\"  \")\n",
        "print(\"all\",\"is\",\"good\",sep=\"**\",end=\"   \")\n",
        "print(\"It's\",\"a\",\"good\",\"day\")\n",
        "print(\"all\",\"is\",\"good\",sep=\":\",end=\"\")\n",
        "print(\"joy\")"
      ],
      "metadata": {
        "colab": {
          "base_uri": "https://localhost:8080/"
        },
        "id": "tx_WeOImOust",
        "outputId": "bbbdbbd9-9078-4f57-a707-593b92b7fb7a"
      },
      "execution_count": null,
      "outputs": [
        {
          "output_type": "stream",
          "name": "stdout",
          "text": [
            "It's a good day  all**is**good   It's a good day\n",
            "all:is:goodjoy\n"
          ]
        }
      ]
    },
    {
      "cell_type": "markdown",
      "source": [
        " **using print statement print:**\n",
        "*   **upside down filled triangle**\n",
        "*   **hallow heart**\n",
        "*   **frog**\n",
        "\n",
        "\n",
        "\n",
        "\n",
        "\n",
        "\n"
      ],
      "metadata": {
        "id": "VEIHFrZQRh5O"
      }
    },
    {
      "cell_type": "code",
      "source": [
        "#Triangle\n",
        "print(\"*\",\"*\",\"*\",\"*\",\"*\",sep=\" \")\n",
        "print(\" \",\"*\",\"*\",\"*\",\" \",sep=\" \")\n",
        "print(\" \",\" \",\"*\",\" \",\" \",sep=\" \")"
      ],
      "metadata": {
        "colab": {
          "base_uri": "https://localhost:8080/"
        },
        "id": "ezqxRBUoPh90",
        "outputId": "a7e6fe31-5fbc-49b3-fe1a-afe7e26de707"
      },
      "execution_count": null,
      "outputs": [
        {
          "output_type": "stream",
          "name": "stdout",
          "text": [
            "* * * * *\n",
            "  * * *  \n",
            "    *    \n"
          ]
        }
      ]
    },
    {
      "cell_type": "code",
      "source": [
        "#Hallow heart\n",
        "print(\"*\",\"*\",\" \",\"*\",\"*\",sep=\" \")\n",
        "print(\"*\",\" \",\"*\",\" \",\"*\",sep=\" \")\n",
        "print(\" \",\"*\",\" \",\"*\",\" \",sep=\" \")\n",
        "print(\" \",\" \",\"*\",\" \",\" \",sep=\" \")"
      ],
      "metadata": {
        "colab": {
          "base_uri": "https://localhost:8080/"
        },
        "id": "K3fgiD92U_zb",
        "outputId": "77c9ff73-3c3d-4b27-ff6a-8d8e23f5b050"
      },
      "execution_count": null,
      "outputs": [
        {
          "output_type": "stream",
          "name": "stdout",
          "text": [
            "* *   * *\n",
            "*   *   *\n",
            "  *   *  \n",
            "    *    \n"
          ]
        }
      ]
    },
    {
      "cell_type": "code",
      "source": [
        "#Frog"
      ],
      "metadata": {
        "id": "MElmxhovXmz_"
      },
      "execution_count": null,
      "outputs": []
    },
    {
      "cell_type": "markdown",
      "source": [
        "# Control/Conditonal statements\n",
        "*   If\n",
        "*   If else\n",
        "*   Else if\n",
        "*   Else if ladder\n",
        "*   Nested if\n"
      ],
      "metadata": {
        "id": "RwqFxqf0YwMM"
      }
    },
    {
      "cell_type": "markdown",
      "source": [
        "Program using below conditions:\n",
        "*   Temp>45::Hottest\n",
        "*   Temp 40-45::Hot\n",
        "*   Temp 25-40::Moderate\n",
        "*   Temp 10-25::Cold\n",
        "*   Temp below 10::Freezing  \n"
      ],
      "metadata": {
        "id": "D3Qxc9GaZxol"
      }
    },
    {
      "cell_type": "code",
      "source": [
        "Temp=int(input(\"Enter temperature:\"))\n",
        "if(Temp>45):\n",
        "  print(\"Hottest\")\n",
        "elif(Temp>40 and Temp<=45):\n",
        "  print(\"Hot\")\n",
        "elif(Temp>25 and Temp<=40):\n",
        "  print(\"Moderate\")\n",
        "elif(Temp>10 and Temp<=25):\n",
        "  print(\"Cold\")\n",
        "else:\n",
        "  print(\"Freezing\")"
      ],
      "metadata": {
        "colab": {
          "base_uri": "https://localhost:8080/"
        },
        "id": "8NP6CddQb8_r",
        "outputId": "3c7294d6-88d0-414a-ff59-1c87c5bb157c"
      },
      "execution_count": null,
      "outputs": [
        {
          "output_type": "stream",
          "name": "stdout",
          "text": [
            "Enter temperature:17\n",
            "Cold\n"
          ]
        }
      ]
    },
    {
      "cell_type": "markdown",
      "source": [
        "# Programs\n",
        "*   **Get a number as input and find out whether it is 500 or not**\n",
        "*   **Check the number is \"even-positive\" or \"odd positive\" or \"even negative\"or \"odd negative\"**\n",
        "*   **Get 2 numbers as input and find out the biggest**\n",
        "*   **Get 3 numbers as input and print the greatest number among those numbers**\n",
        "*   **check given number is float or integer**\n",
        "*   **Check the given number is divisible by 11 or not**\n",
        "*   **Check the given number is divisible by both 2 and 5**"
      ],
      "metadata": {
        "id": "fK88NYKOwrQX"
      }
    },
    {
      "cell_type": "code",
      "source": [
        "#program 1\n",
        "num=int(input(\"enter a number\"))\n",
        "if num==500:\n",
        "  print(\"number is 500\")\n",
        "else:\n",
        "  print(\"number is not 500\")"
      ],
      "metadata": {
        "colab": {
          "base_uri": "https://localhost:8080/"
        },
        "id": "nIkr-MVUyFvt",
        "outputId": "e349f11b-e630-4032-d1c0-2a6631da211d"
      },
      "execution_count": null,
      "outputs": [
        {
          "output_type": "stream",
          "name": "stdout",
          "text": [
            "enter a number500\n",
            "number is 500\n"
          ]
        }
      ]
    },
    {
      "cell_type": "code",
      "source": [
        "#program 2\n",
        "num=int(input(\"enter a number\"))\n",
        "if num%2==0:\n",
        "  if num>=0:\n",
        "    print(\"number is even-positive\")\n",
        "  if num<0:\n",
        "    print(\"number is even-negative\")\n",
        "else:\n",
        "  if num>=0:\n",
        "    print(\"number is odd-positive\")\n",
        "  else:\n",
        "    print(\"number is odd-negative\")"
      ],
      "metadata": {
        "colab": {
          "base_uri": "https://localhost:8080/"
        },
        "id": "Ilx1-slVyhdd",
        "outputId": "dd95c1d0-14fc-48e2-e5b7-0c84151fb55b"
      },
      "execution_count": null,
      "outputs": [
        {
          "output_type": "stream",
          "name": "stdout",
          "text": [
            "enter a number-78\n",
            "number is even-negative\n"
          ]
        }
      ]
    },
    {
      "cell_type": "code",
      "source": [
        "#Program 3\n",
        "num1,num2=int(input(\"enter num1:\")),int(input(\"enter num2:\"))\n",
        "if num1>num2:\n",
        "  print(\"num1 is the biggest number\")\n",
        "else:\n",
        "  print(\"num2 is the biggest number\")"
      ],
      "metadata": {
        "colab": {
          "base_uri": "https://localhost:8080/"
        },
        "id": "47FsX_j8zS7G",
        "outputId": "5a6a8095-f27b-4fc1-d512-8981318aafa6"
      },
      "execution_count": null,
      "outputs": [
        {
          "output_type": "stream",
          "name": "stdout",
          "text": [
            "enter num1:11\n",
            "enter num2:5\n",
            "num1 is the biggest number\n"
          ]
        }
      ]
    },
    {
      "cell_type": "code",
      "source": [
        "#Program 5\n",
        "num=input(\"enter a number\")\n",
        "if(\".\" in num):\n",
        "  print(\"the number is float\")\n",
        "else:\n",
        "  print(\"the number is integer\")"
      ],
      "metadata": {
        "colab": {
          "base_uri": "https://localhost:8080/"
        },
        "id": "VcyF9w0i0JB0",
        "outputId": "e2fa42a1-c597-49a6-a6b1-e6075c8c23ad"
      },
      "execution_count": null,
      "outputs": [
        {
          "output_type": "stream",
          "name": "stdout",
          "text": [
            "enter a number44.44\n",
            "the number is float\n"
          ]
        }
      ]
    },
    {
      "cell_type": "code",
      "source": [
        "num=77\n",
        "print(isinstance(num,int))\n",
        "print(isinstance(num,float))"
      ],
      "metadata": {
        "colab": {
          "base_uri": "https://localhost:8080/"
        },
        "id": "XeyZRkGG6rtG",
        "outputId": "c8929262-a6b5-48ea-afdf-ea2e5b1ed503"
      },
      "execution_count": null,
      "outputs": [
        {
          "output_type": "stream",
          "name": "stdout",
          "text": [
            "True\n",
            "False\n"
          ]
        }
      ]
    },
    {
      "cell_type": "code",
      "source": [
        "num=77.98\n",
        "if(num%1==0):\n",
        "  print(\"the number is integer\")\n",
        "else:\n",
        "  print(\"The number is float\")"
      ],
      "metadata": {
        "colab": {
          "base_uri": "https://localhost:8080/"
        },
        "id": "fv0EtlXN-DgH",
        "outputId": "12fe728f-9c1e-428d-bbfd-1cdefc1791b2"
      },
      "execution_count": null,
      "outputs": [
        {
          "output_type": "stream",
          "name": "stdout",
          "text": [
            "The number is float\n"
          ]
        }
      ]
    },
    {
      "cell_type": "code",
      "source": [
        "n=10.3\n",
        "res=n-int(n)\n",
        "if(res!=0):\n",
        "  print(\"Float\")\n",
        "else:\n",
        "  print(\"integer\")"
      ],
      "metadata": {
        "colab": {
          "base_uri": "https://localhost:8080/"
        },
        "id": "y-wMd4uc_qkd",
        "outputId": "5c000f38-b98d-49db-a6d8-101f4da6d7d7"
      },
      "execution_count": null,
      "outputs": [
        {
          "output_type": "stream",
          "name": "stdout",
          "text": [
            "Float\n"
          ]
        }
      ]
    },
    {
      "cell_type": "code",
      "source": [
        "#Program 4\n",
        "num1,num2,num3=list(map(int,input(\"enter the numbers:\").split()))\n",
        "if (num1>num2 and num1>num3):\n",
        "  print(\"num1 is the biggest number\")\n",
        "elif(num2>num1 and num2>num3):\n",
        "  print(\"num2 is the biggest number\")\n",
        "else:\n",
        "  print(\"num3 is the biggest number\")"
      ],
      "metadata": {
        "colab": {
          "base_uri": "https://localhost:8080/"
        },
        "id": "czyLwUXv0sRP",
        "outputId": "bf44c650-8a05-4c27-d797-0d18ca127f64"
      },
      "execution_count": null,
      "outputs": [
        {
          "output_type": "stream",
          "name": "stdout",
          "text": [
            "enter the numbers:7 56 98\n",
            "num3 is the biggest number\n"
          ]
        }
      ]
    },
    {
      "cell_type": "code",
      "source": [
        "#Program 6\n",
        "num=int(input(\"Enter a number:\"))\n",
        "if(num%11==0):\n",
        "  print(\"The number is divisible by 11\")\n",
        "else:\n",
        "  print(\"The number is not divisible by 11\")"
      ],
      "metadata": {
        "colab": {
          "base_uri": "https://localhost:8080/"
        },
        "id": "hBKfP3h50sN_",
        "outputId": "c40ae2ff-6621-449e-efd0-1ccc222d4a0b"
      },
      "execution_count": null,
      "outputs": [
        {
          "output_type": "stream",
          "name": "stdout",
          "text": [
            "Enter a number:77\n",
            "The number is divisible by 11\n"
          ]
        }
      ]
    },
    {
      "cell_type": "code",
      "source": [
        "#Program 7\n",
        "num=int(input(\"Enter a number:\"))\n",
        "if(num%2==0 and num%5==0):\n",
        "  print(\"The number is divisible by both 2 and 5\")\n",
        "else:\n",
        "  print(\"The number is not divisble by 2 and 5\")"
      ],
      "metadata": {
        "colab": {
          "base_uri": "https://localhost:8080/"
        },
        "id": "EcAGn_iV15eC",
        "outputId": "8f227147-f09d-4afe-b0ac-c8ec102e65ca"
      },
      "execution_count": null,
      "outputs": [
        {
          "output_type": "stream",
          "name": "stdout",
          "text": [
            "Enter a number:16\n",
            "The number is not divisble by 2 and 5\n"
          ]
        }
      ]
    },
    {
      "cell_type": "code",
      "source": [
        "num=int(input())\n",
        "rem=num%10\n",
        "if rem==0:\n",
        "  print(\"divisible by 2 and 5\")\n",
        "else:\n",
        "  print(\"not divisible by 2 and 5\")"
      ],
      "metadata": {
        "colab": {
          "base_uri": "https://localhost:8080/"
        },
        "id": "pvuiAw8R7oBL",
        "outputId": "4c70304a-ee8f-4485-ba27-cc82628fe803"
      },
      "execution_count": null,
      "outputs": [
        {
          "output_type": "stream",
          "name": "stdout",
          "text": [
            "20\n",
            "divisible by 2 and 5\n"
          ]
        }
      ]
    },
    {
      "cell_type": "markdown",
      "source": [
        "# While loop"
      ],
      "metadata": {
        "id": "LCHQI0CgBHhc"
      }
    },
    {
      "cell_type": "code",
      "source": [
        "i=1\n",
        "while i<=10:\n",
        "  print(i)\n",
        "  i=i+1"
      ],
      "metadata": {
        "colab": {
          "base_uri": "https://localhost:8080/"
        },
        "id": "65-xVCvh_oTb",
        "outputId": "b4d47572-dcd2-4538-d3b0-f440bcd4179f"
      },
      "execution_count": null,
      "outputs": [
        {
          "output_type": "stream",
          "name": "stdout",
          "text": [
            "1\n",
            "2\n",
            "3\n",
            "4\n",
            "5\n",
            "6\n",
            "7\n",
            "8\n",
            "9\n",
            "10\n"
          ]
        }
      ]
    },
    {
      "cell_type": "code",
      "source": [
        "#even numbers 2 to 20\n",
        "n=2\n",
        "while n<=20:\n",
        "  if n%2==0:\n",
        "    print(n)\n",
        "    n+=2\n",
        "\n"
      ],
      "metadata": {
        "colab": {
          "base_uri": "https://localhost:8080/"
        },
        "id": "IT7NsN1rDx97",
        "outputId": "2bdf7c96-9ebd-4655-ff7f-74fc25ee9203"
      },
      "execution_count": null,
      "outputs": [
        {
          "output_type": "stream",
          "name": "stdout",
          "text": [
            "2\n",
            "4\n",
            "6\n",
            "8\n",
            "10\n",
            "12\n",
            "14\n",
            "16\n",
            "18\n",
            "20\n"
          ]
        }
      ]
    },
    {
      "cell_type": "code",
      "source": [
        "#Odd numbers from 1 to 30\n",
        "n=1\n",
        "while n<=30:\n",
        "  if n%2!=0:\n",
        "    print(n)\n",
        "  n+=1"
      ],
      "metadata": {
        "colab": {
          "base_uri": "https://localhost:8080/"
        },
        "id": "ZYptNYUmEWNq",
        "outputId": "c0bc7b86-851f-47e8-b14a-34ff65d94490"
      },
      "execution_count": null,
      "outputs": [
        {
          "output_type": "stream",
          "name": "stdout",
          "text": [
            "1\n",
            "3\n",
            "5\n",
            "7\n",
            "9\n",
            "11\n",
            "13\n",
            "15\n",
            "17\n",
            "19\n",
            "21\n",
            "23\n",
            "25\n",
            "27\n",
            "29\n"
          ]
        }
      ]
    },
    {
      "cell_type": "markdown",
      "source": [
        "# For loop"
      ],
      "metadata": {
        "id": "ka9Xm_kXISPR"
      }
    },
    {
      "cell_type": "code",
      "source": [
        "for i in range(1,11):\n",
        "  print(i)"
      ],
      "metadata": {
        "colab": {
          "base_uri": "https://localhost:8080/"
        },
        "id": "Ief-MnfBHs8a",
        "outputId": "af953dee-bca0-45f9-af71-b8094c9322a8"
      },
      "execution_count": null,
      "outputs": [
        {
          "output_type": "stream",
          "name": "stdout",
          "text": [
            "1\n",
            "2\n",
            "3\n",
            "4\n",
            "5\n",
            "6\n",
            "7\n",
            "8\n",
            "9\n",
            "10\n"
          ]
        }
      ]
    },
    {
      "cell_type": "code",
      "source": [
        "for i in range(1,11,2):\n",
        "  print(i)"
      ],
      "metadata": {
        "colab": {
          "base_uri": "https://localhost:8080/"
        },
        "id": "cuGF1fjcIEWF",
        "outputId": "4098b290-21a9-4224-f385-1f446fc8e2ba"
      },
      "execution_count": null,
      "outputs": [
        {
          "output_type": "stream",
          "name": "stdout",
          "text": [
            "1\n",
            "3\n",
            "5\n",
            "7\n",
            "9\n"
          ]
        }
      ]
    },
    {
      "cell_type": "code",
      "source": [
        "import random\n",
        "n=random.randrange(1,50)\n",
        "guess=int(input(\"Enter a number:\"))\n",
        "while n!=guess:\n",
        "  if guess<n:\n",
        "    print(\"Too low\")\n",
        "    guess=int(input(\"Enter the number again\"))\n",
        "  elif guess>n:\n",
        "    print(\"Too high\")\n",
        "    guess=int(input(\"Enter the number again\"))\n",
        "  else:\n",
        "    break\n",
        "print(\"Your guess is right\")"
      ],
      "metadata": {
        "colab": {
          "base_uri": "https://localhost:8080/"
        },
        "id": "Ugik5flsO-Be",
        "outputId": "fe739a37-2a95-473e-b9a3-1b62a1b945cd"
      },
      "execution_count": null,
      "outputs": [
        {
          "output_type": "stream",
          "name": "stdout",
          "text": [
            "Enter a number:51\n",
            "Too high\n",
            "Enter the number again26\n",
            "Too low\n",
            "Enter the number again34\n",
            "Too low\n",
            "Enter the number again47\n",
            "Too high\n",
            "Enter the number again40\n",
            "Your guess is right\n"
          ]
        }
      ]
    }
  ]
}