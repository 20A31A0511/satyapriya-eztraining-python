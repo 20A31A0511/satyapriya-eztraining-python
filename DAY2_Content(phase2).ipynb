{
  "nbformat": 4,
  "nbformat_minor": 0,
  "metadata": {
    "colab": {
      "provenance": [],
      "authorship_tag": "ABX9TyNkX1natbl0trQd4hJEZP3l",
      "include_colab_link": true
    },
    "kernelspec": {
      "name": "python3",
      "display_name": "Python 3"
    },
    "language_info": {
      "name": "python"
    }
  },
  "cells": [
    {
      "cell_type": "markdown",
      "metadata": {
        "id": "view-in-github",
        "colab_type": "text"
      },
      "source": [
        "<a href=\"https://colab.research.google.com/github/20A31A0511/satyapriya-eztraining-python/blob/main/DAY2_Content(phase2).ipynb\" target=\"_parent\"><img src=\"https://colab.research.google.com/assets/colab-badge.svg\" alt=\"Open In Colab\"/></a>"
      ]
    },
    {
      "cell_type": "markdown",
      "source": [
        "# Polymorphism\n",
        "\n",
        "*   One item or same item used for different purposes\n",
        "\n",
        "###   Types\n",
        "\n",
        "*   Overloading\n",
        "        a)operator overloading\n",
        "        b)method overloading\n",
        "*   Overriding::If a method is defective or cannot be used inside derived class it will take it from its base class or parent class"
      ],
      "metadata": {
        "id": "NfR32VfI1hEr"
      }
    },
    {
      "cell_type": "markdown",
      "source": [
        "# **DATA STRUCTURES**\n",
        "\n",
        "\n",
        "*   Helps to write efficient programs\n",
        "*   Linear-Array/Linked List/Stack/Queue/Matrix\n",
        "*   Non Linear-Binary Tree/Heap/Hash Table/Graph\n",
        "*   Linear-Storing data sequentially\n",
        "*   Non Linear-No sequential sttyle required\n",
        "*   Static-Array\n",
        "*   Dynamic-List,Static,Queue\n",
        "\n",
        "\n",
        "\n",
        "\n",
        "\n"
      ],
      "metadata": {
        "id": "7JfV4UYY6KEW"
      }
    },
    {
      "cell_type": "markdown",
      "source": [
        "# Linked List\n",
        "\n",
        "*   Real time example:Train\n",
        "*   A list of items which are linked to each other\n",
        "\n",
        "### Types\n",
        "\n",
        "*   Singly Linked List\n",
        "*   Doubly Linked List\n",
        "*   Circular Linked List\n",
        "\n",
        "### Creation of Linked List\n",
        "\n",
        "*   Step1-Create the node\n",
        "*   Step2-Partition the node with 2 segments data and none\n",
        "*   Step3-Add value into the blank node\n",
        "*   Step4-Mark the node as head\n",
        "*   Step5-Create the next node by following the above steps\n",
        "*   Step6-Establish link between first node and second node\n",
        "\n",
        "### Displaying Linked List\n",
        "\n",
        "*   Traversal is required from first node till tail node in order to display exisiting linked list\n",
        "\n",
        "### Operations \n",
        "\n",
        "*   Insertion:\n",
        "    *   Begining\n",
        "    *   Ending\n",
        "    *   Position\n",
        "*   Deletion\n",
        "    *   Beginning\n",
        "    *   Ending\n",
        "    *   Position\n",
        "*  Searching\n",
        "\n",
        "\n",
        "\n",
        "\n",
        "\n",
        "\n"
      ],
      "metadata": {
        "id": "6J6s_Y5DHlrs"
      }
    }
  ]
}