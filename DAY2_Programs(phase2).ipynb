{
  "nbformat": 4,
  "nbformat_minor": 0,
  "metadata": {
    "colab": {
      "provenance": [],
      "authorship_tag": "ABX9TyN2uckpLi43Fkln+ShPDmhr",
      "include_colab_link": true
    },
    "kernelspec": {
      "name": "python3",
      "display_name": "Python 3"
    },
    "language_info": {
      "name": "python"
    }
  },
  "cells": [
    {
      "cell_type": "markdown",
      "metadata": {
        "id": "view-in-github",
        "colab_type": "text"
      },
      "source": [
        "<a href=\"https://colab.research.google.com/github/20A31A0511/satyapriya-eztraining-python/blob/main/DAY2_Programs(phase2).ipynb\" target=\"_parent\"><img src=\"https://colab.research.google.com/assets/colab-badge.svg\" alt=\"Open In Colab\"/></a>"
      ]
    },
    {
      "cell_type": "code",
      "source": [
        "#Happy number\n",
        "def happy(n):\n",
        "  r=s=0\n",
        "  while(n>=0):\n",
        "    for i in range(0,len(str(n))+1):\n",
        "      r=n%10\n",
        "      s+=r*r\n",
        "      n=n//10\n",
        "    return s\n",
        "n=int(input(\"enter a number:\"))\n",
        "res=n\n",
        "while(res!=1 and res!=4):\n",
        "  res=happy(res)\n",
        "if res==1:\n",
        "  print(\"happy number\")\n",
        "else:\n",
        "  print(\"not a happy number\")"
      ],
      "metadata": {
        "colab": {
          "base_uri": "https://localhost:8080/"
        },
        "id": "kROJtf66tw31",
        "outputId": "7a2e9441-e15b-49b2-b6ab-3085a23609ef"
      },
      "execution_count": null,
      "outputs": [
        {
          "output_type": "stream",
          "name": "stdout",
          "text": [
            "enter a number:13\n",
            "happy number\n"
          ]
        }
      ]
    },
    {
      "cell_type": "code",
      "source": [
        "#Protected\n",
        "class encap():\n",
        "  _a=10\n",
        "  c=20\n",
        "  def encapfunction(self):\n",
        "    _b=200\n",
        "    print(\"Encap function-accessing protected\")\n",
        "    print(self._a)\n",
        "obj=encap()\n",
        "print(obj._a)\n",
        "obj.encapfunction()\n",
        "print(obj.c)"
      ],
      "metadata": {
        "colab": {
          "base_uri": "https://localhost:8080/"
        },
        "id": "X3ONBjLJyNcQ",
        "outputId": "bea0129a-cd88-4e8e-8073-899869c27094"
      },
      "execution_count": null,
      "outputs": [
        {
          "output_type": "stream",
          "name": "stdout",
          "text": [
            "10\n",
            "Encap function-accessing protected\n",
            "10\n",
            "20\n"
          ]
        }
      ]
    },
    {
      "cell_type": "code",
      "source": [
        "#private\n",
        "class encap():\n",
        "  __a=10\n",
        "  print(__a)\n",
        "  def encapfunction(self):\n",
        "    print(\"encap function\")\n",
        "    print(self.__a)\n",
        "obj=encap()\n",
        "obj.encapfunction()\n",
        "print(obj.__a)"
      ],
      "metadata": {
        "colab": {
          "base_uri": "https://localhost:8080/",
          "height": 253
        },
        "id": "sBMcX8q6zKSL",
        "outputId": "0d577d26-746e-4c96-846f-879f3708ac39"
      },
      "execution_count": null,
      "outputs": [
        {
          "output_type": "stream",
          "name": "stdout",
          "text": [
            "10\n",
            "encap function\n",
            "10\n"
          ]
        },
        {
          "output_type": "error",
          "ename": "AttributeError",
          "evalue": "ignored",
          "traceback": [
            "\u001b[0;31m---------------------------------------------------------------------------\u001b[0m",
            "\u001b[0;31mAttributeError\u001b[0m                            Traceback (most recent call last)",
            "\u001b[0;32m<ipython-input-12-7ead5bad172a>\u001b[0m in \u001b[0;36m<module>\u001b[0;34m\u001b[0m\n\u001b[1;32m      8\u001b[0m \u001b[0mobj\u001b[0m\u001b[0;34m=\u001b[0m\u001b[0mencap\u001b[0m\u001b[0;34m(\u001b[0m\u001b[0;34m)\u001b[0m\u001b[0;34m\u001b[0m\u001b[0;34m\u001b[0m\u001b[0m\n\u001b[1;32m      9\u001b[0m \u001b[0mobj\u001b[0m\u001b[0;34m.\u001b[0m\u001b[0mencapfunction\u001b[0m\u001b[0;34m(\u001b[0m\u001b[0;34m)\u001b[0m\u001b[0;34m\u001b[0m\u001b[0;34m\u001b[0m\u001b[0m\n\u001b[0;32m---> 10\u001b[0;31m \u001b[0mprint\u001b[0m\u001b[0;34m(\u001b[0m\u001b[0mobj\u001b[0m\u001b[0;34m.\u001b[0m\u001b[0m__a\u001b[0m\u001b[0;34m)\u001b[0m\u001b[0;34m\u001b[0m\u001b[0;34m\u001b[0m\u001b[0m\n\u001b[0m",
            "\u001b[0;31mAttributeError\u001b[0m: 'encap' object has no attribute '__a'"
          ]
        }
      ]
    },
    {
      "cell_type": "code",
      "source": [
        "#method overloading\n",
        "class moverload():\n",
        "  def display(self,a=None,b=None):\n",
        "    print(a,b)\n",
        "obj=moverload()\n",
        "print(\"without arguments\")\n",
        "obj.display()\n",
        "print(\"with all arguments\")\n",
        "obj.display(20,30)\n",
        "print(\"with one argument\")\n",
        "obj.display(40)"
      ],
      "metadata": {
        "colab": {
          "base_uri": "https://localhost:8080/"
        },
        "id": "4dxQ1pTw3GSd",
        "outputId": "8ce6b0bc-fde4-40a3-a0da-943d3dea4925"
      },
      "execution_count": null,
      "outputs": [
        {
          "output_type": "stream",
          "name": "stdout",
          "text": [
            "without arguments\n",
            "None None\n",
            "with all arguments\n",
            "20 30\n",
            "with one argument\n",
            "40 None\n"
          ]
        }
      ]
    },
    {
      "cell_type": "code",
      "source": [
        "class parent:\n",
        "  def __init__(self):\n",
        "    self.value=\"inside parent\"\n",
        "  def show(self):\n",
        "    print(self.value)\n",
        "class child:\n",
        "  def __init__(self):\n",
        "    self.value=\"inside child\"\n",
        "  def show(self):\n",
        "    print(self.value)\n",
        "\n",
        "obj=parent()\n",
        "obj.show()\n",
        "obj1=child()\n",
        "obj1.show()"
      ],
      "metadata": {
        "colab": {
          "base_uri": "https://localhost:8080/"
        },
        "id": "exVLFOlWkozv",
        "outputId": "c2b200d9-e6ea-4433-b929-aac5e464c678"
      },
      "execution_count": null,
      "outputs": [
        {
          "output_type": "stream",
          "name": "stdout",
          "text": [
            "inside parent\n",
            "inside child\n"
          ]
        }
      ]
    },
    {
      "cell_type": "code",
      "source": [
        "class vijayawada():\n",
        "  def placements(self):\n",
        "    print(\"vijayawada placements is KLU\")\n",
        "  def student(self):\n",
        "    print(\"Yes-vijayawada\")\n",
        "  def which_year(self):\n",
        "    print(\"3rd year\")\n",
        "class hyderabad():\n",
        "  def placements(self):\n",
        "    print(\"Hyderabad placement is KLU\")\n",
        "  def student(self):\n",
        "    print(\"yes-hyderabad\")\n",
        "  def which_year(self):\n",
        "    print(\"3rd year\")\n",
        "obj_v=vijayawada()\n",
        "obj_h=hyderabad()\n",
        "for details in (obj_v,obj_h):\n",
        "  details.placements()\n",
        "  details.student()\n",
        "  details.which_year()"
      ],
      "metadata": {
        "id": "CEw2GYL94cv3",
        "colab": {
          "base_uri": "https://localhost:8080/"
        },
        "outputId": "7c72235f-3705-4cac-d083-3c14f6bf363f"
      },
      "execution_count": null,
      "outputs": [
        {
          "output_type": "stream",
          "name": "stdout",
          "text": [
            "vijayawada placements is KLU\n",
            "Yes-vijayawada\n",
            "3rd year\n",
            "Hyderabad placement is KLU\n",
            "yes-hyderabad\n",
            "3rd year\n"
          ]
        }
      ]
    },
    {
      "cell_type": "code",
      "source": [
        "#Linked List creation\n",
        "class Node():\n",
        "  def __init__(self,data):\n",
        "    self.data=data\n",
        "    self.next=None\n",
        "class singlelinkedlist():\n",
        "  def __init__(self):\n",
        "    self.head=None\n",
        "  def display(self):\n",
        "    if self.head is None:\n",
        "      print(\"Linked List is empty\")\n",
        "    else:\n",
        "      temp=self.head\n",
        "      while temp.next!=None:\n",
        "        print(temp.data,\"->\",end=\"\")\n",
        "        temp=temp.next\n",
        "      print(temp.data)\n",
        "obj=singlelinkedlist()\n",
        "n=Node(10)\n",
        "obj.head=n\n",
        "n1=Node(20)\n",
        "obj.head.next=n1\n",
        "n2=Node(30)\n",
        "n1.next=n2\n",
        "obj.display()"
      ],
      "metadata": {
        "id": "2tDvmDYWD5QC",
        "colab": {
          "base_uri": "https://localhost:8080/"
        },
        "outputId": "d03ef8b5-c029-4304-9094-ec24b181fecf"
      },
      "execution_count": null,
      "outputs": [
        {
          "output_type": "stream",
          "name": "stdout",
          "text": [
            "10 ->20 ->30\n"
          ]
        }
      ]
    },
    {
      "cell_type": "code",
      "source": [
        "class Node():\n",
        "  def __init__(self,data):\n",
        "    self.data=data\n",
        "    self.next=None\n",
        "class singlelinkedlist():\n",
        "  def __init__(self):\n",
        "    self.head=None\n",
        "  def display(self):\n",
        "    if self.head is None:\n",
        "      print(\"Linked List is empty\")\n",
        "    else:\n",
        "      temp=self.head\n",
        "      while temp:\n",
        "        print(temp.data,\"->\",end=\"\")\n",
        "        temp=temp.next\n",
        "obj=singlelinkedlist()\n",
        "n=Node(\"W\")\n",
        "obj.head=n\n",
        "n1=Node(\"I\")\n",
        "obj.head.next=n1\n",
        "n2=Node(\"N\")\n",
        "n1.next=n2\n",
        "n3=Node(\"N\")\n",
        "n2.next=n3\n",
        "n4=Node(\"E\")\n",
        "n3.next=n4\n",
        "n5=Node(\"R\")\n",
        "n4.next=n5\n",
        "obj.display()"
      ],
      "metadata": {
        "colab": {
          "base_uri": "https://localhost:8080/"
        },
        "id": "kIWzPC3HnHx4",
        "outputId": "7bef271e-0258-4ce6-d67f-1e216c442e4d"
      },
      "execution_count": null,
      "outputs": [
        {
          "output_type": "stream",
          "name": "stdout",
          "text": [
            "W ->I ->N ->N ->E ->R ->"
          ]
        }
      ]
    },
    {
      "cell_type": "code",
      "source": [
        "#Insertion at beginning\n",
        "class Node():\n",
        "  def __init__(self,data):\n",
        "    self.data=data\n",
        "    self.next=None\n",
        "class singlelinkedlist():\n",
        "  def __init__(self):\n",
        "    self.head=None\n",
        "  def insert_beginning(self,data):\n",
        "    nb=Node(data)\n",
        "    nb.next=self.head\n",
        "    self.head=nb\n",
        "  def display(self):\n",
        "    if self.head is None:\n",
        "      print(\"Linked List is empty\")\n",
        "    else:\n",
        "      temp=self.head\n",
        "      while temp.next!=None:\n",
        "        print(temp.data,\"->\",end=\"\")\n",
        "        temp=temp.next\n",
        "      print(temp.data)\n",
        "obj=singlelinkedlist()\n",
        "n=Node(10)\n",
        "obj.head=n\n",
        "n1=Node(20)\n",
        "obj.head.next=n1\n",
        "n2=Node(30)\n",
        "n1.next=n2\n",
        "n3=Node(40)\n",
        "n2.next=n3\n",
        "n4=Node(50)\n",
        "n3.next=n4\n",
        "print(\"Before inserting 100\")\n",
        "obj.display()\n",
        "print(\"\")\n",
        "print(\"After inserting 100\")\n",
        "obj.insert_beginning(100)\n",
        "obj.display()\n",
        "print(\"\")\n",
        "print(\"After inserting 555\")\n",
        "obj.insert_beginning(555)\n",
        "obj.display()"
      ],
      "metadata": {
        "colab": {
          "base_uri": "https://localhost:8080/"
        },
        "id": "94kEaBMqwKD3",
        "outputId": "ce75527b-3f00-4e81-bb63-f3a166c6c57d"
      },
      "execution_count": null,
      "outputs": [
        {
          "output_type": "stream",
          "name": "stdout",
          "text": [
            "Before inserting 100\n",
            "10 ->20 ->30 ->40 ->50\n",
            "\n",
            "After inserting 100\n",
            "100 ->10 ->20 ->30 ->40 ->50\n",
            "\n",
            "After inserting 555\n",
            "555 ->100 ->10 ->20 ->30 ->40 ->50\n"
          ]
        }
      ]
    },
    {
      "cell_type": "code",
      "source": [
        "#Insertion at end\n",
        "class Node():\n",
        "  def __init__(self,data):\n",
        "    self.data=data\n",
        "    self.next=None\n",
        "class singlelinkedlist():\n",
        "  def __init__(self):\n",
        "    self.head=None\n",
        "  def insert_end(self,data):\n",
        "    ne=Node(data)\n",
        "    temp=self.head\n",
        "    while temp.next:\n",
        "      temp=temp.next\n",
        "    temp.next=ne\n",
        "  def display(self):\n",
        "    if self.head is None:\n",
        "      print(\"Linked List is empty\")\n",
        "    else:\n",
        "      temp=self.head\n",
        "      while temp.next!=None:\n",
        "        print(temp.data,\"->\",end=\"\")\n",
        "        temp=temp.next\n",
        "      print(temp.data)\n",
        "obj=singlelinkedlist()\n",
        "n=Node(10)\n",
        "obj.head=n\n",
        "n1=Node(20)\n",
        "obj.head.next=n1\n",
        "n2=Node(30)\n",
        "n1.next=n2\n",
        "n3=Node(40)\n",
        "n2.next=n3\n",
        "n4=Node(50)\n",
        "n3.next=n4\n",
        "print(\"Before inserting 100\")\n",
        "obj.display()\n",
        "print(\"\")\n",
        "print(\"After inserting 100\")\n",
        "obj.insert_end(100)\n",
        "obj.display()\n",
        "print(\"\")\n",
        "print(\"After inserting 555\")\n",
        "obj.insert_end(555)\n",
        "obj.display()"
      ],
      "metadata": {
        "colab": {
          "base_uri": "https://localhost:8080/"
        },
        "outputId": "6b839f6d-c81b-436a-ac94-dd6b37a47b0d",
        "id": "JtPk8kks18FT"
      },
      "execution_count": null,
      "outputs": [
        {
          "output_type": "stream",
          "name": "stdout",
          "text": [
            "Before inserting 100\n",
            "10 ->20 ->30 ->40 ->50\n",
            "\n",
            "After inserting 100\n",
            "10 ->20 ->30 ->40 ->50 ->100\n",
            "\n",
            "After inserting 555\n",
            "10 ->20 ->30 ->40 ->50 ->100 ->555\n"
          ]
        }
      ]
    },
    {
      "cell_type": "code",
      "source": [
        "#Insertion at position\n",
        "class Node():\n",
        "  def __init__(self,data):\n",
        "    self.data=data\n",
        "    self.next=None\n",
        "class singlelinkedlist():\n",
        "  def __init__(self):\n",
        "    self.head=None\n",
        "  def insert_position(self,pos,data):\n",
        "    new=Node(data)\n",
        "    temp=self.head\n",
        "    for i in range(pos-1):\n",
        "      temp=temp.next\n",
        "    new.next=temp.next\n",
        "    temp.next=new\n",
        "  def display(self):\n",
        "    if self.head is None:\n",
        "      print(\"Linked List is empty\")\n",
        "    else:\n",
        "      temp=self.head\n",
        "      while temp.next!=None:\n",
        "        print(temp.data,\"->\",end=\"\")\n",
        "        temp=temp.next\n",
        "      print(temp.data)\n",
        "obj=singlelinkedlist()\n",
        "n=Node(10)\n",
        "obj.head=n\n",
        "n1=Node(20)\n",
        "obj.head.next=n1\n",
        "n2=Node(30)\n",
        "n1.next=n2\n",
        "n3=Node(40)\n",
        "n2.next=n3\n",
        "n4=Node(50)\n",
        "n3.next=n4\n",
        "print(\"Before inserting 100\")\n",
        "obj.display()\n",
        "print(\"\")\n",
        "print(\"After inserting 100\")\n",
        "obj.insert_position(2,100)\n",
        "obj.display()\n",
        "print(\"\")\n",
        "print(\"After inserting 555\")\n",
        "obj.insert_position(4,555)\n",
        "obj.display()"
      ],
      "metadata": {
        "colab": {
          "base_uri": "https://localhost:8080/"
        },
        "outputId": "0780bbe7-f6c3-4008-8eaf-36d76256c91c",
        "id": "vXC76A6j_U2n"
      },
      "execution_count": null,
      "outputs": [
        {
          "output_type": "stream",
          "name": "stdout",
          "text": [
            "Before inserting 100\n",
            "10 ->20 ->30 ->40 ->50\n",
            "\n",
            "After inserting 100\n",
            "10 ->20 ->100 ->30 ->40 ->50\n",
            "\n",
            "After inserting 555\n",
            "10 ->20 ->100 ->30 ->555 ->40 ->50\n"
          ]
        }
      ]
    },
    {
      "cell_type": "code",
      "source": [
        "#Linked list creation with user input\n",
        "class Node:\n",
        "  def __init__(self,data):\n",
        "    self.data=data\n",
        "    self.next=None\n",
        "class singlelinkedlist:\n",
        "  def __init__(self):\n",
        "    self.head=None\n",
        "\n",
        "  def display(self):\n",
        "    if self.head is None :\n",
        "      print(\"Linked list is empty\")\n",
        "    else:\n",
        "      temp=self.head\n",
        "      while temp.next!=None:\n",
        "        print(temp.data,\"-->\",end=\" \")\n",
        "        temp=temp.next\n",
        "      print(temp.data)\n",
        "\n",
        "obj=singlelinkedlist()\n",
        "n=Node(int(input()))\n",
        "obj.head=n\n",
        "n1=Node(int(input()))\n",
        "obj.head.next=n1\n",
        "n2=Node(int(input()))\n",
        "n1.next=n2\n",
        "obj.display()\n"
      ],
      "metadata": {
        "id": "RDumZA5wC0aQ",
        "colab": {
          "base_uri": "https://localhost:8080/"
        },
        "outputId": "c085696c-21cb-4eab-c4b6-998eda1f54db"
      },
      "execution_count": null,
      "outputs": [
        {
          "output_type": "stream",
          "name": "stdout",
          "text": [
            "11\n",
            "22\n",
            "33\n",
            "11 --> 22 --> 33\n"
          ]
        }
      ]
    }
  ]
}