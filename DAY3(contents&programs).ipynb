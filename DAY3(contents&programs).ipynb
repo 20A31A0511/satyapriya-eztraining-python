{
  "nbformat": 4,
  "nbformat_minor": 0,
  "metadata": {
    "colab": {
      "provenance": [],
      "authorship_tag": "ABX9TyNBDcl48n5W76uxk+qLWd/y",
      "include_colab_link": true
    },
    "kernelspec": {
      "name": "python3",
      "display_name": "Python 3"
    },
    "language_info": {
      "name": "python"
    }
  },
  "cells": [
    {
      "cell_type": "markdown",
      "metadata": {
        "id": "view-in-github",
        "colab_type": "text"
      },
      "source": [
        "<a href=\"https://colab.research.google.com/github/20A31A0511/satyapriya-eztraining-python/blob/main/DAY3(contents%26programs).ipynb\" target=\"_parent\"><img src=\"https://colab.research.google.com/assets/colab-badge.svg\" alt=\"Open In Colab\"/></a>"
      ]
    },
    {
      "cell_type": "markdown",
      "source": [
        "# List"
      ],
      "metadata": {
        "id": "Z7a7tnsqRaUJ"
      }
    },
    {
      "cell_type": "code",
      "source": [
        "#Creation of list\n",
        "L=[11,6,8.9,\"satya\",[3]]\n",
        "print(type(L))\n",
        "print(L)\n"
      ],
      "metadata": {
        "colab": {
          "base_uri": "https://localhost:8080/"
        },
        "id": "k7bYFJTqUB1Z",
        "outputId": "8ce8944c-1dd6-458f-f33f-12b5ee922673"
      },
      "execution_count": null,
      "outputs": [
        {
          "output_type": "stream",
          "name": "stdout",
          "text": [
            "<class 'list'>\n",
            "[11, 6, 8.9, 'satya', [3]]\n"
          ]
        }
      ]
    },
    {
      "cell_type": "code",
      "source": [
        "#Slicing\n",
        "print(L[3])\n",
        "print(L[-1])\n",
        "print(L[0:5])\n",
        "print(L[2:])\n",
        "print(L[:-1])\n",
        "print(L[::-1])"
      ],
      "metadata": {
        "colab": {
          "base_uri": "https://localhost:8080/"
        },
        "id": "yi2h-GUlUfLl",
        "outputId": "4f35758e-f37a-4c58-bf5f-8a25c653a04d"
      },
      "execution_count": null,
      "outputs": [
        {
          "output_type": "stream",
          "name": "stdout",
          "text": [
            "satya\n",
            "[3]\n",
            "[11, 6, 8.9, 'satya', [3]]\n",
            "[8.9, 'satya', [3]]\n",
            "[11, 6, 8.9, 'satya']\n",
            "[[3], 'satya', 8.9, 6, 11]\n"
          ]
        }
      ]
    },
    {
      "cell_type": "markdown",
      "source": [
        "# List functions\n",
        "\n",
        "*   append()-adding element at the end\n",
        "*   extend()-adding more than one element\n",
        "*   insert()-adding element at a particular index\n",
        "*   remove()-removes an element\n",
        "*   pop()-removes and returns an element at the given index\n",
        "*   clear()-all elements removed\n",
        "*   index()-returns the index of first matched item\n",
        "*   count()-returns the count of the element\n",
        "*   sort()-sorts the elements in ascending order\n",
        "*   reverse()-reverses the list\n",
        "*   copy()-copies the list into new list\n",
        "\n",
        "\n"
      ],
      "metadata": {
        "id": "isXiX3reVjfm"
      }
    },
    {
      "cell_type": "code",
      "source": [
        "l=[1,3,11,\"satya\",66.6,12,11,\"priya\"]\n",
        "print(l)\n",
        "l.append(5)\n",
        "print(l)\n",
        "l.extend([\"hi\",7])\n",
        "print(l)\n",
        "l.insert(2,[])\n",
        "print(l)\n",
        "l.remove(11)\n",
        "print(l)\n",
        "l.pop(0)\n",
        "print(l)\n",
        "l.pop()\n",
        "print(l)\n",
        "print(l.index(\"satya\"))\n",
        "l.append(11)\n",
        "print(l)\n",
        "print(l.count(11))\n",
        "l.reverse()\n",
        "print(l)\n",
        "l1=[1,6,4]\n",
        "l1.sort()\n",
        "print(l1)\n",
        "l1.clear()\n",
        "print(l1)"
      ],
      "metadata": {
        "colab": {
          "base_uri": "https://localhost:8080/"
        },
        "id": "udJycLLcYzLC",
        "outputId": "9af0c578-0b91-4abe-8e6e-7098da66443a"
      },
      "execution_count": null,
      "outputs": [
        {
          "output_type": "stream",
          "name": "stdout",
          "text": [
            "[1, 3, 11, 'satya', 66.6, 12, 11, 'priya']\n",
            "[1, 3, 11, 'satya', 66.6, 12, 11, 'priya', 5]\n",
            "[1, 3, 11, 'satya', 66.6, 12, 11, 'priya', 5, 'hi', 7]\n",
            "[1, 3, [], 11, 'satya', 66.6, 12, 11, 'priya', 5, 'hi', 7]\n",
            "[1, 3, [], 'satya', 66.6, 12, 11, 'priya', 5, 'hi', 7]\n",
            "[3, [], 'satya', 66.6, 12, 11, 'priya', 5, 'hi', 7]\n",
            "[3, [], 'satya', 66.6, 12, 11, 'priya', 5, 'hi']\n",
            "2\n",
            "[3, [], 'satya', 66.6, 12, 11, 'priya', 5, 'hi', 11]\n",
            "2\n",
            "[11, 'hi', 5, 'priya', 11, 12, 66.6, 'satya', [], 3]\n",
            "[1, 4, 6]\n",
            "[]\n"
          ]
        }
      ]
    },
    {
      "cell_type": "markdown",
      "source": [
        "# **programs**\n",
        "\n",
        "*   Create a list with 10 items print the elements one by one\n",
        "*   Create a list with 5 float numbers and find and display,sum,avg of the list\n",
        "*   After creating a list with 6 elements from the user,extract only even numbers from the list\n",
        "\n",
        "\n"
      ],
      "metadata": {
        "id": "yJ1bMHsVfimd"
      }
    },
    {
      "cell_type": "code",
      "source": [
        "#Program 1\n",
        "l=[2,4,11,\"satya\",8.6,[],6.9,11,\"hi\",5]\n",
        "for i in l:\n",
        "  print(i)"
      ],
      "metadata": {
        "colab": {
          "base_uri": "https://localhost:8080/"
        },
        "id": "wtTr2yGmgaoA",
        "outputId": "4c436c55-d874-4eaa-8f71-f54d34c29e50"
      },
      "execution_count": null,
      "outputs": [
        {
          "output_type": "stream",
          "name": "stdout",
          "text": [
            "2\n",
            "4\n",
            "11\n",
            "satya\n",
            "8.6\n",
            "[]\n",
            "6.9\n",
            "11\n",
            "hi\n",
            "5\n"
          ]
        }
      ]
    },
    {
      "cell_type": "code",
      "source": [
        "l=[2,4,11,\"satya\",8.6,[],6.9,11,\"hi\",5]\n",
        "for i in range(len(l)):\n",
        "  print(l[i])"
      ],
      "metadata": {
        "colab": {
          "base_uri": "https://localhost:8080/"
        },
        "id": "WHr0xsHBhMSQ",
        "outputId": "5db83ba0-c2cf-4f96-d46c-0bd7b89f2da9"
      },
      "execution_count": null,
      "outputs": [
        {
          "output_type": "stream",
          "name": "stdout",
          "text": [
            "2\n",
            "4\n",
            "11\n",
            "satya\n",
            "8.6\n",
            "[]\n",
            "6.9\n",
            "11\n",
            "hi\n",
            "5\n"
          ]
        }
      ]
    },
    {
      "cell_type": "code",
      "source": [
        "#program 2\n",
        "l1=[1.1,2.2,3.3,4.4,5.5]\n",
        "print(sum(l1))\n",
        "avg=sum(l1)/len(l1)\n",
        "print(avg)"
      ],
      "metadata": {
        "colab": {
          "base_uri": "https://localhost:8080/"
        },
        "id": "r_CHPXv7huod",
        "outputId": "5892b03a-2eb5-46f3-bd97-5ee12be28234"
      },
      "execution_count": null,
      "outputs": [
        {
          "output_type": "stream",
          "name": "stdout",
          "text": [
            "16.5\n",
            "3.3\n"
          ]
        }
      ]
    },
    {
      "cell_type": "code",
      "source": [
        "#program 3\n",
        "list2=list(map(int,input(\"enter the numbers:\").split()))\n",
        "for i in list2:\n",
        "  if i%2==0:\n",
        "    print(i)"
      ],
      "metadata": {
        "colab": {
          "base_uri": "https://localhost:8080/"
        },
        "id": "SSrbmkgSi4da",
        "outputId": "a803bbab-4f07-4f62-c5ac-52eb71cb9a06"
      },
      "execution_count": null,
      "outputs": [
        {
          "output_type": "stream",
          "name": "stdout",
          "text": [
            "enter the numbers:9 8 7 6 5 4\n",
            "8\n",
            "6\n",
            "4\n"
          ]
        }
      ]
    },
    {
      "cell_type": "code",
      "source": [
        "l=list(map(int,input(\"enter the numbers in the list:\").split(\",\")))\n",
        "prod=1\n",
        "sum=0\n",
        "for i in l:\n",
        "  prod=prod*i\n",
        "if prod<750:\n",
        "  print(\"product:\",prod)\n",
        "else:\n",
        "  for i in l:\n",
        "    sum=sum+i\n",
        "  print(\"sum:\",sum)"
      ],
      "metadata": {
        "colab": {
          "base_uri": "https://localhost:8080/"
        },
        "id": "v0jG3C6r6ygh",
        "outputId": "45bdfd6f-2199-445f-9aa9-9e314fefe87f"
      },
      "execution_count": null,
      "outputs": [
        {
          "output_type": "stream",
          "name": "stdout",
          "text": [
            "enter the numbers in the list:11,5,10,9\n",
            "sum: 35\n"
          ]
        }
      ]
    },
    {
      "cell_type": "markdown",
      "source": [
        "# List comprehension"
      ],
      "metadata": {
        "id": "eqeQ18L1FAA4"
      }
    },
    {
      "cell_type": "code",
      "source": [
        "numbers=[elements for elements in \"great afternoon\"]\n",
        "print(numbers)"
      ],
      "metadata": {
        "colab": {
          "base_uri": "https://localhost:8080/"
        },
        "id": "NTYuKIPzFLoP",
        "outputId": "b4963bd3-3fc9-48ab-8dc6-cd8cbed4e9db"
      },
      "execution_count": null,
      "outputs": [
        {
          "output_type": "stream",
          "name": "stdout",
          "text": [
            "['g', 'r', 'e', 'a', 't', ' ', 'a', 'f', 't', 'e', 'r', 'n', 'o', 'o', 'n']\n"
          ]
        }
      ]
    },
    {
      "cell_type": "code",
      "source": [
        "l=[\"hyd\",\"vizag\",\"vijayawada\",\"kakinada\"]\n",
        "city=[]\n",
        "for i in l:\n",
        "  if \"v\" in i:\n",
        "    city.append(i)\n",
        "print(city)"
      ],
      "metadata": {
        "colab": {
          "base_uri": "https://localhost:8080/"
        },
        "id": "qnFF5VMAHbz6",
        "outputId": "bd15c67c-215a-42e3-f550-260181f30e85"
      },
      "execution_count": null,
      "outputs": [
        {
          "output_type": "stream",
          "name": "stdout",
          "text": [
            "['vizag', 'vijayawada']\n"
          ]
        }
      ]
    },
    {
      "cell_type": "code",
      "source": [
        "l=[2**x for x in range(1,11)]\n",
        "print(l)\n",
        "l1=[i for i in range(10,100,10)]\n",
        "print(l1)"
      ],
      "metadata": {
        "colab": {
          "base_uri": "https://localhost:8080/"
        },
        "id": "ERhpEj4XH-P8",
        "outputId": "0a9bd394-e7fa-4b29-c59e-0024b53aaa1b"
      },
      "execution_count": null,
      "outputs": [
        {
          "output_type": "stream",
          "name": "stdout",
          "text": [
            "[2, 4, 8, 16, 32, 64, 128, 256, 512, 1024]\n",
            "[10, 20, 30, 40, 50, 60, 70, 80, 90]\n"
          ]
        }
      ]
    },
    {
      "cell_type": "markdown",
      "source": [
        "# Set\n",
        "\n",
        "*   unordered \n",
        "*   mutable\n",
        "*   no index\n",
        "*   duplication not allowed\n",
        "\n",
        "\n",
        "# Set functions\n",
        "\n",
        "*   s.add()-one element\n",
        "*   s.update()-more than one element\n",
        "*   s.dicard()-removes the element from the set\n",
        "*   s.remove()-returns error when element is not present in the set\n"
      ],
      "metadata": {
        "id": "hE6FlLJiKGQa"
      }
    },
    {
      "cell_type": "code",
      "source": [
        "s={1,2,3,4,5,6}\n",
        "print(type(s))\n",
        "print(\"set:\",s)\n",
        "s.add(7)\n",
        "print(s)\n",
        "s.update([8,9])\n",
        "print(s)\n",
        "s.discard(2)\n",
        "print(s)\n",
        "s.discard(10)\n",
        "print(s)\n",
        "s.remove(4)\n",
        "print(s)"
      ],
      "metadata": {
        "colab": {
          "base_uri": "https://localhost:8080/"
        },
        "id": "Vo_Dz7ZJLCg8",
        "outputId": "63ec4037-5d54-4130-940b-49e3a764ef0e"
      },
      "execution_count": null,
      "outputs": [
        {
          "output_type": "stream",
          "name": "stdout",
          "text": [
            "<class 'set'>\n",
            "set: {1, 2, 3, 4, 5, 6}\n",
            "{1, 2, 3, 4, 5, 6, 7}\n",
            "{1, 2, 3, 4, 5, 6, 7, 8, 9}\n",
            "{1, 3, 4, 5, 6, 7, 8, 9}\n",
            "{1, 3, 4, 5, 6, 7, 8, 9}\n",
            "{1, 3, 5, 6, 7, 8, 9}\n"
          ]
        }
      ]
    },
    {
      "cell_type": "code",
      "source": [
        "s={1,2,3,4,5,6}\n",
        "s.remove(10)\n",
        "print(\"set:\",s)"
      ],
      "metadata": {
        "colab": {
          "base_uri": "https://localhost:8080/",
          "height": 201
        },
        "id": "CS5gsVElMPns",
        "outputId": "fe18bc56-d24c-40b8-b648-34970f06270f"
      },
      "execution_count": null,
      "outputs": [
        {
          "output_type": "error",
          "ename": "KeyError",
          "evalue": "ignored",
          "traceback": [
            "\u001b[0;31m---------------------------------------------------------------------------\u001b[0m",
            "\u001b[0;31mKeyError\u001b[0m                                  Traceback (most recent call last)",
            "\u001b[0;32m<ipython-input-18-5a5074f1f86e>\u001b[0m in \u001b[0;36m<module>\u001b[0;34m\u001b[0m\n\u001b[1;32m      1\u001b[0m \u001b[0ms\u001b[0m\u001b[0;34m=\u001b[0m\u001b[0;34m{\u001b[0m\u001b[0;36m1\u001b[0m\u001b[0;34m,\u001b[0m\u001b[0;36m2\u001b[0m\u001b[0;34m,\u001b[0m\u001b[0;36m3\u001b[0m\u001b[0;34m,\u001b[0m\u001b[0;36m4\u001b[0m\u001b[0;34m,\u001b[0m\u001b[0;36m5\u001b[0m\u001b[0;34m,\u001b[0m\u001b[0;36m6\u001b[0m\u001b[0;34m}\u001b[0m\u001b[0;34m\u001b[0m\u001b[0;34m\u001b[0m\u001b[0m\n\u001b[0;32m----> 2\u001b[0;31m \u001b[0ms\u001b[0m\u001b[0;34m.\u001b[0m\u001b[0mremove\u001b[0m\u001b[0;34m(\u001b[0m\u001b[0;36m10\u001b[0m\u001b[0;34m)\u001b[0m\u001b[0;34m\u001b[0m\u001b[0;34m\u001b[0m\u001b[0m\n\u001b[0m\u001b[1;32m      3\u001b[0m \u001b[0mprint\u001b[0m\u001b[0;34m(\u001b[0m\u001b[0;34m\"set:\"\u001b[0m\u001b[0;34m,\u001b[0m\u001b[0ms\u001b[0m\u001b[0;34m)\u001b[0m\u001b[0;34m\u001b[0m\u001b[0;34m\u001b[0m\u001b[0m\n",
            "\u001b[0;31mKeyError\u001b[0m: 10"
          ]
        }
      ]
    },
    {
      "cell_type": "code",
      "source": [
        "s1={10,20,30}\n",
        "s2={11,22,30,40}\n",
        "print(\"s1 union s2:\",s1|s2)\n",
        "print(\"s1 intersction s2:\",s1&s2)\n",
        "print(\"difference of sets:\",s1-s2)\n",
        "print(s1.union(s2))\n",
        "print(s1.intersection(s2))\n",
        "print(s1.difference(s2))"
      ],
      "metadata": {
        "colab": {
          "base_uri": "https://localhost:8080/"
        },
        "id": "r2uayP4LM0Zw",
        "outputId": "8aaf6b01-7aa0-4de6-b6f9-3d563f69896e"
      },
      "execution_count": null,
      "outputs": [
        {
          "output_type": "stream",
          "name": "stdout",
          "text": [
            "s1 union s2: {20, 22, 40, 10, 11, 30}\n",
            "s1 intersction s2: {30}\n",
            "difference of sets: {10, 20}\n",
            "{20, 22, 40, 10, 11, 30}\n",
            "{30}\n",
            "{10, 20}\n"
          ]
        }
      ]
    },
    {
      "cell_type": "code",
      "source": [
        "#Superset\n",
        "s1={10,20}\n",
        "s2={10,20,30,40}\n",
        "s2.issuperset(s1)"
      ],
      "metadata": {
        "colab": {
          "base_uri": "https://localhost:8080/"
        },
        "id": "ymj1Bu9ANnO0",
        "outputId": "d4001ec0-ca6d-494b-9940-6a9fee8a7599"
      },
      "execution_count": null,
      "outputs": [
        {
          "output_type": "execute_result",
          "data": {
            "text/plain": [
              "True"
            ]
          },
          "metadata": {},
          "execution_count": 21
        }
      ]
    },
    {
      "cell_type": "code",
      "source": [
        "#symmetric difference\n",
        "s1={10,20,44}\n",
        "s2={10,20,30,40}\n",
        "print(s1^s2)\n",
        "print(s1.symmetric_difference(s2))"
      ],
      "metadata": {
        "colab": {
          "base_uri": "https://localhost:8080/"
        },
        "id": "WhZeg1PIOSxE",
        "outputId": "c95c2a2a-e030-4cd4-e04f-a69b58a8c69c"
      },
      "execution_count": null,
      "outputs": [
        {
          "output_type": "stream",
          "name": "stdout",
          "text": [
            "{40, 44, 30}\n",
            "{40, 44, 30}\n"
          ]
        }
      ]
    },
    {
      "cell_type": "markdown",
      "source": [
        "# Tuple\n",
        "\n",
        "\n",
        "*   count()\n",
        "*   index()  \n",
        "\n"
      ],
      "metadata": {
        "id": "H98G-fAtQAlQ"
      }
    },
    {
      "cell_type": "code",
      "source": [
        "t=(11,34,\"hello\",90,11)\n",
        "print(type(t))\n",
        "print(t)\n",
        "print(t.count(11))\n",
        "print(t.index(\"hello\"))"
      ],
      "metadata": {
        "colab": {
          "base_uri": "https://localhost:8080/"
        },
        "id": "ZCiYB4GPQu4d",
        "outputId": "641181ef-6599-4057-e185-699231f2e45c"
      },
      "execution_count": null,
      "outputs": [
        {
          "output_type": "stream",
          "name": "stdout",
          "text": [
            "<class 'tuple'>\n",
            "(11, 34, 'hello', 90, 11)\n",
            "2\n",
            "2\n"
          ]
        }
      ]
    },
    {
      "cell_type": "code",
      "source": [
        "#nested tuple\n",
        "t1=(1,3,5)\n",
        "t2=(2,4,6)\n",
        "t=(t1,t2)\n",
        "print(t)"
      ],
      "metadata": {
        "colab": {
          "base_uri": "https://localhost:8080/"
        },
        "id": "VXb9z6_FYYN-",
        "outputId": "87b0fd4a-7c8c-4cab-a200-eb3f07e8136b"
      },
      "execution_count": null,
      "outputs": [
        {
          "output_type": "stream",
          "name": "stdout",
          "text": [
            "((1, 3, 5), (2, 4, 6))\n"
          ]
        }
      ]
    },
    {
      "cell_type": "markdown",
      "source": [
        "# Dictionary\n",
        "\n",
        "*   Dictionary contains elements with 2 units keys and values\n",
        "*   Keys must be unique\n",
        "*   d.items()-returns all pairs\n",
        "*   d.update({1:\"hi\"})-add one or more items\n",
        "*   d.pop()-fetch and remove item\n",
        "*   d.popitem()-fecth and removes recently added item\n",
        "*   d.setdefault(1:\"hi\")-if the key is not in dict-it will be added or ntng will be done\n",
        "\n",
        "\n"
      ],
      "metadata": {
        "id": "BPd1rJVcRisF"
      }
    },
    {
      "cell_type": "code",
      "source": [
        "d={1:\"satya\",2:\"priya\"}\n",
        "print(type(dict))\n",
        "print(\"dictionary:\",d)\n",
        "print(d.keys())\n",
        "print(d.values())\n",
        "print(d.items())"
      ],
      "metadata": {
        "colab": {
          "base_uri": "https://localhost:8080/"
        },
        "id": "hm4htwyWR6rr",
        "outputId": "67061fbb-35b1-4da5-912a-2cc30432401c"
      },
      "execution_count": null,
      "outputs": [
        {
          "output_type": "stream",
          "name": "stdout",
          "text": [
            "<class 'type'>\n",
            "dictionary: {1: 'satya', 2: 'priya'}\n",
            "dict_keys([1, 2])\n",
            "dict_values(['satya', 'priya'])\n",
            "dict_items([(1, 'satya'), (2, 'priya')])\n"
          ]
        }
      ]
    },
    {
      "cell_type": "code",
      "source": [
        "d={1:\"satya\",2:\"priya\"}\n",
        "print(d[1])\n",
        "print(d.get(2))"
      ],
      "metadata": {
        "colab": {
          "base_uri": "https://localhost:8080/"
        },
        "id": "bRgHMbrcYOeO",
        "outputId": "f0805c42-7856-4436-c1f8-d548002d849e"
      },
      "execution_count": null,
      "outputs": [
        {
          "output_type": "stream",
          "name": "stdout",
          "text": [
            "satya\n",
            "priya\n"
          ]
        }
      ]
    },
    {
      "cell_type": "code",
      "source": [
        "l=[\"hi\",\"hello\"]\n",
        "print(dict.fromkeys(l))\n",
        "print(dict.fromkeys(l,1))"
      ],
      "metadata": {
        "colab": {
          "base_uri": "https://localhost:8080/"
        },
        "id": "jaabbHRzZ34o",
        "outputId": "fb3468ba-84be-46b1-c548-eaf0194138cb"
      },
      "execution_count": null,
      "outputs": [
        {
          "output_type": "stream",
          "name": "stdout",
          "text": [
            "{'hi': None, 'hello': None}\n",
            "{'hi': 1, 'hello': 1}\n"
          ]
        }
      ]
    },
    {
      "cell_type": "code",
      "source": [
        "d={1:\"satya\",2:\"priya\"}\n",
        "d.update({3:\"hi\",4:\"hello\"})\n",
        "print(d)\n",
        "d.pop(3)\n",
        "print(d)\n",
        "print(d.popitem())\n",
        "print(d)\n"
      ],
      "metadata": {
        "colab": {
          "base_uri": "https://localhost:8080/"
        },
        "id": "PfqwxCeCcBXx",
        "outputId": "65df9f30-1e13-4859-e8f0-ceec89973f8c"
      },
      "execution_count": null,
      "outputs": [
        {
          "output_type": "stream",
          "name": "stdout",
          "text": [
            "{1: 'satya', 2: 'priya', 3: 'hi', 4: 'hello'}\n",
            "{1: 'satya', 2: 'priya', 4: 'hello'}\n",
            "(4, 'hello')\n",
            "{1: 'satya', 2: 'priya'}\n"
          ]
        }
      ]
    }
  ]
}