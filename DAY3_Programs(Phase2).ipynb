{
  "nbformat": 4,
  "nbformat_minor": 0,
  "metadata": {
    "colab": {
      "provenance": [],
      "authorship_tag": "ABX9TyPRbgq+nZi0FK8ujoo+umtH",
      "include_colab_link": true
    },
    "kernelspec": {
      "name": "python3",
      "display_name": "Python 3"
    },
    "language_info": {
      "name": "python"
    }
  },
  "cells": [
    {
      "cell_type": "markdown",
      "metadata": {
        "id": "view-in-github",
        "colab_type": "text"
      },
      "source": [
        "<a href=\"https://colab.research.google.com/github/20A31A0511/satyapriya-eztraining-python/blob/main/DAY3_Programs(Phase2).ipynb\" target=\"_parent\"><img src=\"https://colab.research.google.com/assets/colab-badge.svg\" alt=\"Open In Colab\"/></a>"
      ]
    },
    {
      "cell_type": "code",
      "source": [
        "#Multiple concepts \n",
        "class Node:\n",
        "  def __init__(self,data):\n",
        "    self.data=data\n",
        "    self.next=None\n",
        "class linkedlist:\n",
        "  def __init__(self):\n",
        "    self.head=None                                        \n",
        "  def printlist(self):\n",
        "    temp=self.head\n",
        "    if not temp:\n",
        "      print(\"list is empty\")\n",
        "      return\n",
        "    else:\n",
        "      print(\"start:\",end=\" \")\n",
        "    while temp:\n",
        "      print(temp.data,end=\"->\")\n",
        "      temp=temp.next           \n",
        "    print(\"end\")\n",
        "  def insert(self,data):\n",
        "    new_node=Node(data)\n",
        "    if self.head is None:       #if the linked list is empty   \n",
        "      self.head=new_node\n",
        "    elif self.head.data>=new_node.data:\n",
        "      new_node.next=self.head\n",
        "      self.head=new_node\n",
        "    else:        \n",
        "      temp=self.head         #locate the node before insertion   \n",
        "      while temp.next and new_node.data>temp.next.data:\n",
        "        temp=temp.next                              \n",
        "      new_node.next=temp.next\n",
        "      temp.next=new_node\n",
        "  def delete(self,key):\n",
        "    if self.head is None:\n",
        "      print(\"Deletion Error: Linked list is empty\")\n",
        "      return\n",
        "    if self.head.data==key:\n",
        "      self.head=self.head.next\n",
        "      return\n",
        "    temp=self.head\n",
        "    while temp:\n",
        "      if temp.data==key:\n",
        "        break\n",
        "      previous=temp\n",
        "      temp=temp.next\n",
        "    if temp is None:\n",
        "      print(\"Deletion error: key not found\")\n",
        "    else:\n",
        "      previous.next=temp.next\n",
        "if __name__=='__main__':\n",
        "  LL=linkedlist()\n",
        "  print(' ')\n",
        "  LL.insert(10)\n",
        "  LL.insert(12)\n",
        "  LL.insert(8)\n",
        "  LL.insert(11)    \n",
        "  LL.insert(10)\n",
        "  LL.printlist()\n",
        "  LL.delete(12)\n",
        "  LL.delete(8)\n",
        "  LL.delete(10)\n",
        "  LL.printlist()                          "
      ],
      "metadata": {
        "colab": {
          "base_uri": "https://localhost:8080/"
        },
        "id": "S2P0nD7i92j_",
        "outputId": "c3933bb7-9d2b-45bc-d051-74a4dd1439a6"
      },
      "execution_count": 1,
      "outputs": [
        {
          "output_type": "stream",
          "name": "stdout",
          "text": [
            " \n",
            "start: 8->10->10->11->12->end\n",
            "start: 10->11->end\n"
          ]
        }
      ]
    },
    {
      "cell_type": "code",
      "source": [
        "#Double linked list creation\n",
        "class Node:\n",
        "  def __init__(self,data):\n",
        "    self.data=data\n",
        "    self.previous=None\n",
        "    self.next=None\n",
        "class dll:\n",
        "  def __init__(self):\n",
        "    self.head=None\n",
        "  def display(self):\n",
        "    if self.head is None:\n",
        "      print(\"linked list is empty\")\n",
        "    else:\n",
        "      temp=self.head\n",
        "      while temp:\n",
        "        print(temp.data,\"<-->\",end=\" \")\n",
        "        temp=temp.next\n",
        "l=dll()\n",
        "n1=Node(100)\n",
        "l.head=n1\n",
        "n2=Node(200)\n",
        "n2.prev=n1\n",
        "n1.next=n2\n",
        "l.display()          "
      ],
      "metadata": {
        "colab": {
          "base_uri": "https://localhost:8080/"
        },
        "id": "mG7CikMR2I4z",
        "outputId": "648750fd-93ea-4895-c445-a4e96798080c"
      },
      "execution_count": 2,
      "outputs": [
        {
          "output_type": "stream",
          "name": "stdout",
          "text": [
            "100 <--> 200 <--> "
          ]
        }
      ]
    },
    {
      "cell_type": "code",
      "source": [
        "#insertion at beginning of double linked list\n",
        "class Node:\n",
        "  def __init__(self,data):\n",
        "    self.data=data\n",
        "    self.previous=None\n",
        "    self.next=None\n",
        "class dll:\n",
        "  def __init__(self):\n",
        "    self.head=None\n",
        "  def insert_start(self,data):\n",
        "    n=Node(data)\n",
        "    temp=self.head\n",
        "    temp.prev=n\n",
        "    n.next=temp\n",
        "    self.head=n\n",
        "  def display(self):\n",
        "    if self.head is None:\n",
        "      print(\"linked list is empty\")\n",
        "    else:\n",
        "      temp=self.head\n",
        "      while temp:\n",
        "        print(temp.data,\"<-->\",end=\" \")\n",
        "        temp=temp.next\n",
        "l=dll()\n",
        "n1=Node(100)\n",
        "l.head=n1\n",
        "n2=Node(200)\n",
        "n1.next=n2\n",
        "n2.prev=n1\n",
        "l.insert_start(300)\n",
        "l.display()             "
      ],
      "metadata": {
        "colab": {
          "base_uri": "https://localhost:8080/"
        },
        "id": "PiRWw6jH7BuZ",
        "outputId": "5aa401b5-6bc6-4545-dfc9-7a72cfeeabc4"
      },
      "execution_count": 3,
      "outputs": [
        {
          "output_type": "stream",
          "name": "stdout",
          "text": [
            "300 <--> 100 <--> 200 <--> "
          ]
        }
      ]
    },
    {
      "cell_type": "code",
      "source": [
        "#insertion at end of double linked list\n",
        "class Node:\n",
        "  def __init__(self,data):\n",
        "    self.data=data\n",
        "    self.previous=None\n",
        "    self.next=None\n",
        "class dll:\n",
        "  def __init__(self):\n",
        "    self.head=None\n",
        "  def insert_end(self,data):\n",
        "    n=Node(data)\n",
        "    temp=self.head\n",
        "    while temp.next is not None:\n",
        "      temp=temp.next\n",
        "    temp.next=n\n",
        "    n.prev=temp\n",
        "  def display(self):\n",
        "    if self.head is None:\n",
        "      print(\"linked list is empty\")\n",
        "    else:\n",
        "      temp=self.head\n",
        "      while temp:\n",
        "        print(temp.data,\"<-->\",end=\" \")\n",
        "        temp=temp.next\n",
        "l=dll()\n",
        "n1=Node(100)\n",
        "l.head=n1\n",
        "n2=Node(200)\n",
        "n1.next=n2\n",
        "n2.prev=n1\n",
        "l.insert_end(250)\n",
        "l.display()             "
      ],
      "metadata": {
        "colab": {
          "base_uri": "https://localhost:8080/"
        },
        "id": "VwmqpOmq-9B7",
        "outputId": "ca4998ed-e95c-4700-ba19-6f02eef0e4dd"
      },
      "execution_count": 5,
      "outputs": [
        {
          "output_type": "stream",
          "name": "stdout",
          "text": [
            "100 <--> 200 <--> 250 <--> "
          ]
        }
      ]
    },
    {
      "cell_type": "code",
      "source": [
        "#insertion at particular position of double linked list\n",
        "class Node:\n",
        "  def __init__(self,data):\n",
        "    self.data=data\n",
        "    self.previous=None\n",
        "    self.next=None\n",
        "class dll:\n",
        "  def __init__(self):\n",
        "    self.head=None\n",
        "  def insert_pos(self,data,pos):\n",
        "    n=Node(data)\n",
        "    temp=self.head\n",
        "    for i in range(1,pos-1):\n",
        "      temp=temp.next\n",
        "    n.prev=temp\n",
        "    n.next=temp.next\n",
        "    temp.next.prev=n\n",
        "    temp.next=n  \n",
        "  def display(self):\n",
        "    if self.head is None:\n",
        "      print(\"linked list is empty\")\n",
        "    else:\n",
        "      temp=self.head\n",
        "      while temp:\n",
        "        print(temp.data,\"<-->\",end=\" \")\n",
        "        temp=temp.next\n",
        "l=dll()\n",
        "n1=Node(100)\n",
        "l.head=n1\n",
        "n2=Node(200)\n",
        "n1.next=n2\n",
        "n2.prev=n1\n",
        "l.insert_pos(250,2)\n",
        "l.display()             "
      ],
      "metadata": {
        "colab": {
          "base_uri": "https://localhost:8080/"
        },
        "id": "d-ceavbsAISA",
        "outputId": "9cee4ba3-c074-49b4-e14d-4b9171ebb71c"
      },
      "execution_count": 6,
      "outputs": [
        {
          "output_type": "stream",
          "name": "stdout",
          "text": [
            "100 <--> 250 <--> 200 <--> "
          ]
        }
      ]
    },
    {
      "cell_type": "code",
      "source": [
        "#deletion at start of double linked list\n",
        "class Node:\n",
        "  def __init__(self,data):\n",
        "    self.data=data\n",
        "    self.previous=None\n",
        "    self.next=None\n",
        "class dll:\n",
        "  def __init__(self):\n",
        "    self.head=None\n",
        "  def delete_begin(self):\n",
        "    temp=self.head\n",
        "    self.head=temp.next\n",
        "    temp.next=None\n",
        "  def display(self):\n",
        "    if self.head is None:\n",
        "      print(\"linked list is empty\")\n",
        "    else:\n",
        "      temp=self.head\n",
        "      while temp:\n",
        "        print(temp.data,\"<-->\",end=\" \")\n",
        "        temp=temp.next\n",
        "l=dll()\n",
        "n1=Node(100)\n",
        "l.head=n1\n",
        "n2=Node(200)\n",
        "n1.next=n2\n",
        "n2.prev=n1\n",
        "l.delete_begin()\n",
        "l.display()             "
      ],
      "metadata": {
        "colab": {
          "base_uri": "https://localhost:8080/"
        },
        "id": "3XOiVw1JEeTE",
        "outputId": "8bda0c06-fd2c-4173-ab58-7dfa07de3aee"
      },
      "execution_count": 7,
      "outputs": [
        {
          "output_type": "stream",
          "name": "stdout",
          "text": [
            "200 <--> "
          ]
        }
      ]
    },
    {
      "cell_type": "code",
      "source": [
        "#deleting at end of double linked list\n",
        "class Node:\n",
        "  def __init__(self,data):\n",
        "    self.data=data\n",
        "    self.previous=None\n",
        "    self.next=None\n",
        "class dll:\n",
        "  def __init__(self):\n",
        "    self.head=None\n",
        "  def delete_end(self):\n",
        "    temp=self.head.next\n",
        "    prev=self.head\n",
        "    while temp.next is not None:\n",
        "      temp=temp.next\n",
        "      prev=prev.next\n",
        "    prev.next=None\n",
        "  def display(self):\n",
        "    if self.head is None:\n",
        "      print(\"linked list is empty\")\n",
        "    else:\n",
        "      temp=self.head\n",
        "      while temp:\n",
        "        print(temp.data,\"<-->\",end=\" \")\n",
        "        temp=temp.next\n",
        "l=dll()\n",
        "n1=Node(100)\n",
        "l.head=n1\n",
        "n2=Node(200)\n",
        "n1.next=n2\n",
        "n2.prev=n1\n",
        "l.delete_end()\n",
        "l.display()             "
      ],
      "metadata": {
        "colab": {
          "base_uri": "https://localhost:8080/"
        },
        "id": "JQGrBEX3GDUA",
        "outputId": "a3275db8-3c5a-47c2-c0b3-bebb8fd929dc"
      },
      "execution_count": 8,
      "outputs": [
        {
          "output_type": "stream",
          "name": "stdout",
          "text": [
            "100 <--> "
          ]
        }
      ]
    },
    {
      "cell_type": "code",
      "source": [
        "#deleting at particular position\n",
        "class Node:\n",
        "  def __init__(self,data):\n",
        "    self.data=data\n",
        "    self.previous=None\n",
        "    self.next=None\n",
        "class dll:\n",
        "  def __init__(self):\n",
        "    self.head=None\n",
        "  def delete_pos(self,pos):      \n",
        "    temp=self.head.next\n",
        "    prev=self.head\n",
        "    for i in range(1,pos-1):\n",
        "      temp=temp.next\n",
        "      prev=prev.next\n",
        "    prev.next=temp.next\n",
        "    temp.next=None  \n",
        "  def display(self):\n",
        "    if self.head is None:\n",
        "      print(\"linked list is empty\")\n",
        "    else:\n",
        "      temp=self.head\n",
        "      while temp:\n",
        "        print(temp.data,\"<-->\",end=\" \")\n",
        "        temp=temp.next\n",
        "l=dll()\n",
        "n1=Node(100)\n",
        "l.head=n1       \n",
        "n2=Node(200)\n",
        "n1.next=n2\n",
        "n2.prev=n1\n",
        "n3=Node(300)\n",
        "n2.next=n3\n",
        "n3.prev=n2\n",
        "l.delete_pos(2)\n",
        "l.display()             "
      ],
      "metadata": {
        "colab": {
          "base_uri": "https://localhost:8080/"
        },
        "id": "0_otS9unIQoU",
        "outputId": "6a42e130-ea05-4efb-d447-3c15e6033a84"
      },
      "execution_count": 9,
      "outputs": [
        {
          "output_type": "stream",
          "name": "stdout",
          "text": [
            "100 <--> 300 <--> "
          ]
        }
      ]
    },
    {
      "cell_type": "code",
      "source": [
        "#creation and displaying circular linked list\n",
        "class Node:\n",
        "  def __init__(self,data):\n",
        "    self.data=data\n",
        "    self.next=None\n",
        "class createlist:\n",
        "  def __init__(self):\n",
        "    self.head=Node(None)\n",
        "    self.tail=Node(None)               \n",
        "    self.head.next=self.tail            #circular linked list only one node\n",
        "    self.tail.next=self.head    \n",
        "  def add(self,data):\n",
        "    newNode=Node(data)\n",
        "    if self.head.data is None:\n",
        "      self.head=newNode\n",
        "      self.tail=newNode\n",
        "      newNode.next=self.head\n",
        "    else:\n",
        "      self.tail.next=newNode\n",
        "      self.tail=newNode\n",
        "      self.tail.next=self.head\n",
        "  def display(self):\n",
        "    temp=self.head\n",
        "    if self.head is None:\n",
        "      print(\"list is empty\")\n",
        "      return\n",
        "    else:\n",
        "      print(\"Nodes of the circular linked list\")\n",
        "      print(temp.data,\"-->\")\n",
        "      while(temp.next!=self.head):\n",
        "        temp=temp.next\n",
        "        print(temp.data,\"-->\")        \n",
        "class CircularLinkedList:\n",
        "  cl=createlist()\n",
        "  cl.add(\"S\")\n",
        "  cl.add(\"M\")\n",
        "  cl.add(\"I\")\n",
        "  cl.add(\"L\")\n",
        "  cl.add(\"E\")\n",
        "  cl.display()        "
      ],
      "metadata": {
        "colab": {
          "base_uri": "https://localhost:8080/"
        },
        "id": "xUV7MkZpRm3m",
        "outputId": "269da4b8-c966-48e2-87ba-7a47d1070ebf"
      },
      "execution_count": 10,
      "outputs": [
        {
          "output_type": "stream",
          "name": "stdout",
          "text": [
            "Nodes of the circular linked list\n",
            "S -->\n",
            "M -->\n",
            "I -->\n",
            "L -->\n",
            "E -->\n"
          ]
        }
      ]
    }
  ]
}