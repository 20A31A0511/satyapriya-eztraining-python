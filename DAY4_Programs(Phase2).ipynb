{
  "nbformat": 4,
  "nbformat_minor": 0,
  "metadata": {
    "colab": {
      "provenance": [],
      "authorship_tag": "ABX9TyN2Lu1WDa0x3qZzhgNZUMug",
      "include_colab_link": true
    },
    "kernelspec": {
      "name": "python3",
      "display_name": "Python 3"
    },
    "language_info": {
      "name": "python"
    }
  },
  "cells": [
    {
      "cell_type": "markdown",
      "metadata": {
        "id": "view-in-github",
        "colab_type": "text"
      },
      "source": [
        "<a href=\"https://colab.research.google.com/github/20A31A0511/satyapriya-eztraining-python/blob/main/DAY4_Programs(Phase2).ipynb\" target=\"_parent\"><img src=\"https://colab.research.google.com/assets/colab-badge.svg\" alt=\"Open In Colab\"/></a>"
      ]
    },
    {
      "cell_type": "code",
      "execution_count": null,
      "metadata": {
        "colab": {
          "base_uri": "https://localhost:8080/"
        },
        "id": "Lv60f89IJ-4s",
        "outputId": "4a12de0d-ae69-4ac0-f8b1-4703142c1fe8"
      },
      "outputs": [
        {
          "name": "stdout",
          "output_type": "stream",
          "text": [
            "Select operation:: 1.push  2.pop  3.quit\n",
            "1\n",
            "Enter the element:11\n",
            "[11]\n",
            "Select operation:: 1.push  2.pop  3.quit\n",
            "1\n",
            "Enter the element:22\n",
            "[11, 22]\n",
            "Select operation:: 1.push  2.pop  3.quit\n",
            "1\n",
            "Enter the element:33\n",
            "[11, 22, 33]\n",
            "Select operation:: 1.push  2.pop  3.quit\n",
            "1\n",
            "Enter the element:44\n",
            "[11, 22, 33, 44]\n",
            "Select operation:: 1.push  2.pop  3.quit\n",
            "1\n",
            "Enter the element:55\n",
            "[11, 22, 33, 44, 55]\n",
            "Select operation:: 1.push  2.pop  3.quit\n",
            "2\n",
            "removed element: 55\n",
            "[11, 22, 33, 44]\n",
            "Select operation:: 1.push  2.pop  3.quit\n",
            "3\n"
          ]
        }
      ],
      "source": [
        "#Stack operations\n",
        "stack=[]\n",
        "def push():\n",
        "  n=int(input(\"Enter the element:\"))\n",
        "  stack.append(n)\n",
        "  print(stack)\n",
        "def pop():\n",
        "  if not stack:\n",
        "    print(\"satck is empty\")\n",
        "  else:\n",
        "    r=stack.pop()\n",
        "    print(\"removed element:\",r)\n",
        "    print(stack)\n",
        "while True:\n",
        "  print(\"Select operation:: 1.push  2.pop  3.quit\")\n",
        "  choice=int(input())\n",
        "  if choice==1:\n",
        "    push()\n",
        "  elif choice==2:\n",
        "    pop()\n",
        "  elif choice==3:\n",
        "    break\n",
        "  else:\n",
        "    print(\"Enter correct choice\")"
      ]
    },
    {
      "cell_type": "code",
      "source": [
        "#Stack using LinkedList\n",
        "class Node():\n",
        "  def __init__(self,data):\n",
        "    self.data=data\n",
        "    self.next=None\n",
        "class stack():\n",
        "  def __init__(self):\n",
        "    self.head=None\n",
        "  def isempty(self):\n",
        "    if self.head==None:\n",
        "      return True\n",
        "    else:\n",
        "      return False\n",
        "  def push(self,data):\n",
        "    if self.head==None:\n",
        "      self.head=Node(data)\n",
        "    else:\n",
        "      newnode=Node(data)\n",
        "      newnode.next=self.head\n",
        "      self.head=newnode\n",
        "  def pop(self):\n",
        "    if self.isempty():\n",
        "      return None\n",
        "    else:\n",
        "      poppednode=self.head\n",
        "      self.head=self.head.next\n",
        "      poppednode.next=None\n",
        "      return poppednode.data\n",
        "  def peek(self):\n",
        "    if self.isempty():\n",
        "      return None\n",
        "    else:\n",
        "      return self.head.data\n",
        "  def display(self):\n",
        "    t=self.head\n",
        "    if self.isempty():\n",
        "      print(\"Stack underflow\")\n",
        "    else:\n",
        "      while(t!=None):\n",
        "        print(t.data,end=\" \")\n",
        "        t=t.next\n",
        "        if(t!=None):\n",
        "          print(\"->\",end=\" \")\n",
        "      return\n",
        "if __name__==\"__main__\":\n",
        "  s=stack()\n",
        "  s.push(11)\n",
        "  s.push(22)\n",
        "  s.push(33)\n",
        "  s.push(44)\n",
        "  s.push(55)\n",
        "  s.display()\n",
        "  print()\n",
        "  s.pop()\n",
        "  s.display()\n",
        "  print()\n",
        "  s.pop()\n",
        "  s.display()\n",
        "  print()\n",
        "  print(s.peek())"
      ],
      "metadata": {
        "colab": {
          "base_uri": "https://localhost:8080/"
        },
        "id": "-9ER9t8NUttC",
        "outputId": "559730fe-6da7-4678-fe2f-1ee4a51cd3df"
      },
      "execution_count": null,
      "outputs": [
        {
          "output_type": "stream",
          "name": "stdout",
          "text": [
            "55 -> 44 -> 33 -> 22 -> 11 \n",
            "44 -> 33 -> 22 -> 11 \n",
            "33 -> 22 -> 11 \n",
            "33\n"
          ]
        }
      ]
    },
    {
      "cell_type": "code",
      "source": [
        "#Balanced or Unbalanced using stack\n",
        "s=input()\n",
        "stack=[]\n",
        "balanced=True\n",
        "for char in s:\n",
        "  if (char==\"(\" or char==\"[\" or char==\"{\"):\n",
        "    stack.append(char)\n",
        "  elif(char==\"}\"):\n",
        "    if(len(stack) and stack.pop()!=\"{\"):\n",
        "      balanced=False\n",
        "      break\n",
        "  elif(char==\"]\"):\n",
        "    if(len(stack) and stack.pop()!=\"[\"):\n",
        "      balanced=False\n",
        "      break\n",
        "  elif(char==\")\"):\n",
        "    if(len(stack) and stack.pop()!=\"(\"):\n",
        "      balanced=False\n",
        "      break\n",
        "  else:\n",
        "    balanced=False\n",
        "    break\n",
        "if(balanced==False and len(stack)):\n",
        "  print(\"Not Balanced\")\n",
        "else:\n",
        "  print(\"Balanced\")"
      ],
      "metadata": {
        "colab": {
          "base_uri": "https://localhost:8080/"
        },
        "id": "imHfFWzfkTaw",
        "outputId": "55c540a0-9301-4365-b1fb-31a14c7208f4"
      },
      "execution_count": null,
      "outputs": [
        {
          "output_type": "stream",
          "name": "stdout",
          "text": [
            "[[()]]\n",
            "Balanced\n"
          ]
        }
      ]
    },
    {
      "cell_type": "code",
      "source": [
        "#Queue implementetaion using array or list\n",
        "queue=[]\n",
        "def enqueue():\n",
        "  n=int(input(\"Enter the element:\"))\n",
        "  queue.append(n)\n",
        "  print(n,\"is added to queue\")\n",
        "def dequeue():\n",
        "  if not queue:\n",
        "    print(\"queue is empty\")\n",
        "  else:\n",
        "    r=queue.pop(0)\n",
        "    print(r,\"is the removed element\")\n",
        "def display():\n",
        "  print(queue)\n",
        "while True:\n",
        "  print(\"Select the operation:: 1.Add   2.Remove  3.Display  4.Quit\")\n",
        "  choice=int(input(\"Enter your choice:\"))\n",
        "  if choice==1:\n",
        "    enqueue()\n",
        "  elif choice==2:\n",
        "    dequeue()\n",
        "  elif choice==3:\n",
        "    display()\n",
        "  elif choice==4:\n",
        "    break\n",
        "  else:\n",
        "    print(\"Enter correct choice\")"
      ],
      "metadata": {
        "colab": {
          "base_uri": "https://localhost:8080/"
        },
        "id": "WFvYozlAqv7W",
        "outputId": "c13444f7-9b61-47af-d887-56321f6b16f5"
      },
      "execution_count": null,
      "outputs": [
        {
          "name": "stdout",
          "output_type": "stream",
          "text": [
            "Select the operation:: 1.Add   2.Remove  3.Display  4.Quit\n",
            "Enter your choice:1\n",
            "Enter the element:11\n",
            "11 is added to queue\n",
            "Select the operation:: 1.Add   2.Remove  3.Display  4.Quit\n",
            "Enter your choice:1\n",
            "Enter the element:22\n",
            "22 is added to queue\n",
            "Select the operation:: 1.Add   2.Remove  3.Display  4.Quit\n",
            "Enter your choice:1\n",
            "Enter the element:44\n",
            "44 is added to queue\n",
            "Select the operation:: 1.Add   2.Remove  3.Display  4.Quit\n",
            "Enter your choice:3\n",
            "[11, 22, 44]\n",
            "Select the operation:: 1.Add   2.Remove  3.Display  4.Quit\n",
            "Enter your choice:2\n",
            "11 is the removed element\n",
            "Select the operation:: 1.Add   2.Remove  3.Display  4.Quit\n",
            "Enter your choice:1\n",
            "Enter the element:66\n",
            "66 is added to queue\n",
            "Select the operation:: 1.Add   2.Remove  3.Display  4.Quit\n",
            "Enter your choice:3\n",
            "[22, 44, 66]\n",
            "Select the operation:: 1.Add   2.Remove  3.Display  4.Quit\n",
            "Enter your choice:4\n"
          ]
        }
      ]
    },
    {
      "cell_type": "code",
      "source": [
        "#Stack implementation using queue module\n",
        "from queue import LifoQueue\n",
        "s=LifoQueue(maxsize=3)\n",
        "print(\"The size of stack:\",s.qsize())\n",
        "s.put(10)\n",
        "s.put(20)\n",
        "s.put(30)\n",
        "print(s.full())\n",
        "print(\"The size of stack:\",s.qsize())\n",
        "print(\"The popped element:\",s.get())\n",
        "print(\"The popped element:\",s.get())\n",
        "print(\"The popped element:\",s.get())\n",
        "print(s.empty())"
      ],
      "metadata": {
        "colab": {
          "base_uri": "https://localhost:8080/"
        },
        "id": "6CmUh4nB_pnb",
        "outputId": "d2f5f4d1-591b-4459-fbc7-65472b09ef72"
      },
      "execution_count": null,
      "outputs": [
        {
          "output_type": "stream",
          "name": "stdout",
          "text": [
            "The size of stack: 0\n",
            "True\n",
            "The size of stack: 3\n",
            "The popped element: 30\n",
            "The popped element: 20\n",
            "The popped element: 10\n",
            "True\n"
          ]
        }
      ]
    },
    {
      "cell_type": "code",
      "source": [
        "#Queue implementation using queue module\n",
        "import queue\n",
        "q=queue.Queue(maxsize=3)\n",
        "q.put(10)\n",
        "q.put(20)\n",
        "q.put(30)\n",
        "print(\"The popped element:\",q.get())\n",
        "print(\"The popped element:\",q.get())\n",
        "print(\"The popped element:\",q.get())"
      ],
      "metadata": {
        "colab": {
          "base_uri": "https://localhost:8080/"
        },
        "id": "tAW28MFzCAMG",
        "outputId": "ad170bcd-e31f-4f45-cd35-24f707165c19"
      },
      "execution_count": null,
      "outputs": [
        {
          "output_type": "stream",
          "name": "stdout",
          "text": [
            "The popped element: 10\n",
            "The popped element: 20\n",
            "The popped element: 30\n"
          ]
        }
      ]
    },
    {
      "cell_type": "code",
      "source": [
        "#Queue implementation using Linked List\n",
        "class Node():\n",
        "  def __init__(self,data):\n",
        "    self.data=data\n",
        "    self.next=None\n",
        "class Queue():\n",
        "  def __init__(self):\n",
        "    self.head=None\n",
        "    self.last=None\n",
        "  def enqueue(self,data):\n",
        "    if self.last is None:\n",
        "      self.head=Node(data)\n",
        "      self.last=self.head\n",
        "    else:\n",
        "      self.last.next=Node(data)\n",
        "      self.last=self.last.next\n",
        "  def dequeue(self):\n",
        "    if self.head is None:\n",
        "      return None\n",
        "    else:\n",
        "      to_return = self.head.data\n",
        "      self.head=self.head.next\n",
        "      return to_return\n",
        "a_queue=Queue()\n",
        "while True:\n",
        "  print(\"enqueue <value>\")\n",
        "  print(\"dequeue\")\n",
        "  print(\"quit\")\n",
        "  do=input(\"What would you like to do?\").split()\n",
        "  operation=do[0].strip().lower()\n",
        "  if operation==\"enqueue\":\n",
        "    a_queue.enqueue(int(do[1]))\n",
        "  elif operation==\"dequeue\":\n",
        "    dequeued=a_queue.dequeue() \n",
        "    if dequeued is None:\n",
        "      print(\"Queue is empty\")\n",
        "    else:\n",
        "      print(\"Dequeued elemnet\",int(dequeued))\n",
        "  elif operation==\"quit\":\n",
        "    break "
      ],
      "metadata": {
        "colab": {
          "base_uri": "https://localhost:8080/"
        },
        "id": "j9MbWUO5GVUN",
        "outputId": "a2be29db-32ee-4e64-95d0-361d4d6ecc55"
      },
      "execution_count": null,
      "outputs": [
        {
          "name": "stdout",
          "output_type": "stream",
          "text": [
            "enqueue <value>\n",
            "dequeue\n",
            "quit\n",
            "What would you like to do?enqueue 400\n",
            "enqueue <value>\n",
            "dequeue\n",
            "quit\n",
            "What would you like to do?enqueue 300\n",
            "enqueue <value>\n",
            "dequeue\n",
            "quit\n",
            "What would you like to do?enqueue 200\n",
            "enqueue <value>\n",
            "dequeue\n",
            "quit\n",
            "What would you like to do?enqueue 100\n",
            "enqueue <value>\n",
            "dequeue\n",
            "quit\n",
            "What would you like to do?dequeue\n",
            "Dequeued elemnet 400\n",
            "enqueue <value>\n",
            "dequeue\n",
            "quit\n",
            "What would you like to do?quit\n"
          ]
        }
      ]
    },
    {
      "cell_type": "code",
      "source": [
        "#Removing Duplicates\n",
        "class Node:\n",
        "  def __init__(self,data):\n",
        "    self.data=data\n",
        "    self.next=None\n",
        "class LinkedList:\n",
        "  def __init__(self):\n",
        "    self.head=None\n",
        "    self.last_node=None\n",
        "  def append(self,data):\n",
        "    if self.last_node is None:\n",
        "      self.head=Node(data)\n",
        "      self.last_node=self.head\n",
        "    else:\n",
        "      self.last_node.next=Node(data)\n",
        "      self.last_node=self.last_node.next\n",
        "  def get_prev_node(self,ref_node):\n",
        "    temp=self.head\n",
        "    while(temp and temp.next!=ref_node):\n",
        "      temp=temp.next\n",
        "    return temp\n",
        "  def remove(self,node):\n",
        "    prev_node=self.get_prev_node(node)\n",
        "    if prev_node is None:\n",
        "      self.head=self.head.next\n",
        "    else:\n",
        "      prev_node.next=node.next\n",
        "  def display(self):\n",
        "    temp=self.head\n",
        "    while temp:\n",
        "      print(temp.data,end=\" \")\n",
        "      temp=temp.next\n",
        "  def remove_duplicates(llist):\n",
        "    temp1=llist.head\n",
        "    while temp1:\n",
        "      data=temp1.data\n",
        "      temp2=temp1.next\n",
        "      while temp2:\n",
        "        if temp2.data==data:\n",
        "          llist.remove(temp2)\n",
        "        temp2=temp2.next\n",
        "      temp1=temp1.next\n",
        "a_llist=LinkedList()\n",
        "data_list=input(\"please enter the elements in the list\")\n",
        "for data in data_list:\n",
        "  a_llist.append(int(data))\n",
        "remove_duplicates(a_llist)  \n",
        "print(\"The list with duplicates removed\")\n",
        "a_llist.display()"
      ],
      "metadata": {
        "id": "50R1ow3acUEj"
      },
      "execution_count": null,
      "outputs": []
    }
  ]
}