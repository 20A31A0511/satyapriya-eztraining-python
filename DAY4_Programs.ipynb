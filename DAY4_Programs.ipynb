{
  "nbformat": 4,
  "nbformat_minor": 0,
  "metadata": {
    "colab": {
      "provenance": [],
      "authorship_tag": "ABX9TyM7chvexuZgZukFR+1ld081",
      "include_colab_link": true
    },
    "kernelspec": {
      "name": "python3",
      "display_name": "Python 3"
    },
    "language_info": {
      "name": "python"
    }
  },
  "cells": [
    {
      "cell_type": "markdown",
      "metadata": {
        "id": "view-in-github",
        "colab_type": "text"
      },
      "source": [
        "<a href=\"https://colab.research.google.com/github/20A31A0511/satyapriya-eztraining-python/blob/main/DAY4_Programs.ipynb\" target=\"_parent\"><img src=\"https://colab.research.google.com/assets/colab-badge.svg\" alt=\"Open In Colab\"/></a>"
      ]
    },
    {
      "cell_type": "code",
      "execution_count": null,
      "metadata": {
        "colab": {
          "base_uri": "https://localhost:8080/"
        },
        "id": "QuLMZYsWWiUC",
        "outputId": "8dfa59fd-0611-4ef8-f353-613d070247af"
      },
      "outputs": [
        {
          "output_type": "stream",
          "name": "stdout",
          "text": [
            "{1: 1, 2: 4, 3: 9, 4: 16}\n"
          ]
        }
      ],
      "source": [
        "#dictionary \n",
        "d={n:n*n for n in range(1,5)}\n",
        "print(d)"
      ]
    },
    {
      "cell_type": "code",
      "source": [
        "old_dict={\"rice\":24,\"dal\":15,\"oil\":30}\n",
        "print(\"old_dict:\",old_dict)\n",
        "new_dict={product:price-10 for (product,price) in old_dict.items()}\n",
        "print(\"new_dict:\",new_dict)"
      ],
      "metadata": {
        "colab": {
          "base_uri": "https://localhost:8080/"
        },
        "id": "Ahe0CvkbYRYi",
        "outputId": "a99401e9-9d0e-422f-b7e2-935031582873"
      },
      "execution_count": null,
      "outputs": [
        {
          "output_type": "stream",
          "name": "stdout",
          "text": [
            "old_dict: {'rice': 24, 'dal': 15, 'oil': 30}\n",
            "new_dict: {'rice': 14, 'dal': 5, 'oil': 20}\n"
          ]
        }
      ]
    },
    {
      "cell_type": "code",
      "source": [
        "old_dict={\"satya\":20,\"sailaja\":34,\"divya\":26}\n",
        "print(\"old_dict:\",old_dict)\n",
        "new_dict={name:age for (name,age) in old_dict.items() if age>25}\n",
        "print(\"new_dict:\",new_dict)"
      ],
      "metadata": {
        "colab": {
          "base_uri": "https://localhost:8080/"
        },
        "id": "vUTUsUnyY9rv",
        "outputId": "41857500-6c7a-4734-bac4-cf781caaeff9"
      },
      "execution_count": null,
      "outputs": [
        {
          "output_type": "stream",
          "name": "stdout",
          "text": [
            "old_dict: {'satya': 20, 'sailaja': 34, 'divya': 26}\n",
            "new_dict: {'sailaja': 34, 'divya': 26}\n"
          ]
        }
      ]
    },
    {
      "cell_type": "code",
      "source": [
        "#create a list with eight customer names and display a dictionary which has customers names along with discounts for them from a particular shop\n",
        "import random\n",
        "customers=[\"a\",\"b\",\"c\",\"d\",\"e\",\"f\",\"g\",\"h\"]\n",
        "dict={names:random.randint(1,100) for names in customers}\n",
        "print(dict)"
      ],
      "metadata": {
        "colab": {
          "base_uri": "https://localhost:8080/"
        },
        "id": "rwN4w8bradfn",
        "outputId": "3c85edda-2f79-4c29-9bcf-c39693164e75"
      },
      "execution_count": null,
      "outputs": [
        {
          "output_type": "stream",
          "name": "stdout",
          "text": [
            "{'a': 34, 'b': 33, 'c': 41, 'd': 92, 'e': 96, 'f': 63, 'g': 24, 'h': 36}\n"
          ]
        }
      ]
    },
    {
      "cell_type": "code",
      "source": [
        "l1=[\"a\",\"b\",\"c\"]\n",
        "l2=[1,2,3]\n",
        "d={a:b for (a,b) in zip(l1,l2)}\n",
        "print(d)"
      ],
      "metadata": {
        "colab": {
          "base_uri": "https://localhost:8080/"
        },
        "id": "w8qdtUX8f-_l",
        "outputId": "3a970fc5-ae8f-4e5b-d451-c16587dd12d5"
      },
      "execution_count": null,
      "outputs": [
        {
          "output_type": "stream",
          "name": "stdout",
          "text": [
            "{'a': 1, 'b': 2, 'c': 3}\n"
          ]
        }
      ]
    },
    {
      "cell_type": "code",
      "source": [
        "#create 2 lists first list 5 student names and second list total marks and create dict with names as keys and percentages as values\n",
        "names=[\"a\",\"b\",\"c\",\"d\",\"e\"]\n",
        "marks=[100,248,340,432,300]\n",
        "percentage=[]\n",
        "for i in marks:\n",
        "  p=(i*100)/500\n",
        "  percentage.append(p)\n",
        "dict={keys:values for (keys,values)in zip(names,percentage)}\n",
        "print(dict)"
      ],
      "metadata": {
        "colab": {
          "base_uri": "https://localhost:8080/"
        },
        "id": "CCbpcqPBfLBa",
        "outputId": "341028a3-14cb-4081-f4ee-e62ef902e5da"
      },
      "execution_count": null,
      "outputs": [
        {
          "output_type": "stream",
          "name": "stdout",
          "text": [
            "{'a': 20.0, 'b': 49.6, 'c': 68.0, 'd': 86.4, 'e': 60.0}\n"
          ]
        }
      ]
    },
    {
      "cell_type": "code",
      "source": [
        "import random\n",
        "names=list(map(str,input(\"enter names:\").split(\",\")))\n",
        "marks=[]\n",
        "for i in range(len(names)):\n",
        "  a=(random.randint(300,500)/500)*100\n",
        "  marks.append(a)\n",
        "dict={x:y for (x,y) in zip(names,marks)}\n",
        "print(dict)"
      ],
      "metadata": {
        "colab": {
          "base_uri": "https://localhost:8080/"
        },
        "id": "TqN-_PM3in8o",
        "outputId": "6521d3e6-cea1-4eda-fdbb-607a12d90e51"
      },
      "execution_count": null,
      "outputs": [
        {
          "output_type": "stream",
          "name": "stdout",
          "text": [
            "enter names:a,b,c,d,e\n",
            "{'a': 66.4, 'b': 61.4, 'c': 75.2, 'd': 97.39999999999999, 'e': 95.0}\n"
          ]
        }
      ]
    },
    {
      "cell_type": "code",
      "source": [
        "#Strings\n",
        "n=\"hi i'm \"satya\"\"\n",
        "print(n)"
      ],
      "metadata": {
        "colab": {
          "base_uri": "https://localhost:8080/",
          "height": 131
        },
        "id": "uhFDqoERrKZa",
        "outputId": "025e9dad-eb4a-40d7-a5a8-40825b47b322"
      },
      "execution_count": null,
      "outputs": [
        {
          "output_type": "error",
          "ename": "SyntaxError",
          "evalue": "ignored",
          "traceback": [
            "\u001b[0;36m  File \u001b[0;32m\"<ipython-input-22-87844fa550eb>\"\u001b[0;36m, line \u001b[0;32m2\u001b[0m\n\u001b[0;31m    n=\"hi i'm \"satya\"\"\u001b[0m\n\u001b[0m               ^\u001b[0m\n\u001b[0;31mSyntaxError\u001b[0m\u001b[0;31m:\u001b[0m invalid syntax\n"
          ]
        }
      ]
    },
    {
      "cell_type": "code",
      "source": [
        "n=\"hi i'm\"\n",
        "print(n)\n",
        "m='\"satya\"'\n",
        "print(m)"
      ],
      "metadata": {
        "colab": {
          "base_uri": "https://localhost:8080/"
        },
        "id": "zvKp3LzqrcIM",
        "outputId": "57c548a4-ade6-4334-fe28-27582f29416e"
      },
      "execution_count": null,
      "outputs": [
        {
          "output_type": "stream",
          "name": "stdout",
          "text": [
            "hi i'm\n",
            "\"satya\"\n"
          ]
        }
      ]
    },
    {
      "cell_type": "code",
      "source": [
        "n='hi i\\'m'\n",
        "print(n)"
      ],
      "metadata": {
        "colab": {
          "base_uri": "https://localhost:8080/"
        },
        "id": "Ime89xtOrlWy",
        "outputId": "24a757df-50b9-481a-e6bf-1eae8195577f"
      },
      "execution_count": null,
      "outputs": [
        {
          "output_type": "stream",
          "name": "stdout",
          "text": [
            "hi i'm\n"
          ]
        }
      ]
    },
    {
      "cell_type": "code",
      "source": [
        "print(max(\"acb\"))\n",
        "print(\"a\">\"b\")"
      ],
      "metadata": {
        "colab": {
          "base_uri": "https://localhost:8080/"
        },
        "id": "2UgE8aX8sgfJ",
        "outputId": "e90d681a-53b1-42d1-af9f-6d9411cb3a26"
      },
      "execution_count": null,
      "outputs": [
        {
          "output_type": "stream",
          "name": "stdout",
          "text": [
            "c\n",
            "False\n"
          ]
        }
      ]
    },
    {
      "cell_type": "code",
      "source": [
        "#String functions\n",
        "s=\"satya priya\"\n",
        "print(s.upper())\n",
        "print(s.lower())\n",
        "print(s.capitalize())\n",
        "print(s.replace(\"a\",\"i\"))\n",
        "print(s.strip())\n",
        "s1=\"  satya  \"\n",
        "print(s1.strip())\n",
        "print(s.split())\n",
        "print(s.split(\"a\"))\n",
        "print(s.center(20,\"*\"))\n",
        "print(s.count(\"y\"))\n",
        "print(s.count(\"a\",2,7))\n",
        "print(s.count(\"a\",2,len(s)))\n",
        "print(s.endswith(\"a\",0,len(s)))\n",
        "print(s.find(\"y\",0,len(s)))\n",
        "print(s.index(\"s\",0,len(s)))"
      ],
      "metadata": {
        "colab": {
          "base_uri": "https://localhost:8080/"
        },
        "id": "bIRZm94BvZeH",
        "outputId": "99474825-86df-4e37-d62d-d9c56ad3f20a"
      },
      "execution_count": null,
      "outputs": [
        {
          "output_type": "stream",
          "name": "stdout",
          "text": [
            "SATYA PRIYA\n",
            "satya priya\n",
            "Satya priya\n",
            "sityi priyi\n",
            "satya priya\n",
            "satya\n",
            "['satya', 'priya']\n",
            "['s', 'ty', ' priy', '']\n",
            "****satya priya*****\n",
            "2\n",
            "1\n",
            "2\n",
            "True\n",
            "3\n",
            "0\n"
          ]
        }
      ]
    },
    {
      "cell_type": "code",
      "source": [
        "s=\"satya priya\"\n",
        "print(s.find(\"z\",0,len(s)))"
      ],
      "metadata": {
        "colab": {
          "base_uri": "https://localhost:8080/"
        },
        "id": "62SaFWMNzJej",
        "outputId": "cea2ae35-8528-4519-b346-ed93be8474d3"
      },
      "execution_count": null,
      "outputs": [
        {
          "output_type": "stream",
          "name": "stdout",
          "text": [
            "-1\n"
          ]
        }
      ]
    },
    {
      "cell_type": "code",
      "source": [
        "s=\"satya priya\"\n",
        "print(s.islower())\n",
        "print(s.isupper())\n",
        "print(s.istitle())\n",
        "print(max(s))\n",
        "print(min(s))\n",
        "s1=\"satyapriya\"\n",
        "print(min(s1))\n",
        "print(s.startswith(\"satya\",0,len(s)))\n",
        "print(s.startswith(\"s\",0,len(s)))\n",
        "print(s.rfind(\"a\",0,len(s)))\n",
        "print(s.find(\"a\",0,len(s)))"
      ],
      "metadata": {
        "colab": {
          "base_uri": "https://localhost:8080/"
        },
        "id": "shFbBp7JFDeA",
        "outputId": "85ca681c-5e9a-4fb4-b0bb-c43d187936ee"
      },
      "execution_count": null,
      "outputs": [
        {
          "output_type": "stream",
          "name": "stdout",
          "text": [
            "True\n",
            "False\n",
            "False\n",
            "y\n",
            " \n",
            "a\n",
            "True\n",
            "True\n",
            "10\n",
            "1\n"
          ]
        }
      ]
    },
    {
      "cell_type": "code",
      "source": [
        "#1.Get a string as input along with a character ,find out and display the particular character is present or not\n",
        "#2.Check weather the string is palindrome or not\n",
        "#3.Check weather the string contains space or not if yes count no of spaces in ur string and print it"
      ],
      "metadata": {
        "id": "cAd1dHDQMAwt"
      },
      "execution_count": null,
      "outputs": []
    },
    {
      "cell_type": "code",
      "source": [
        "#program 1\n",
        "s=input(\"enter a string:\")\n",
        "c=input(\"enter a character:\")\n",
        "if c in s:\n",
        "  print(\"character is present\")\n",
        "else:\n",
        "  print(\"character not present\")\n"
      ],
      "metadata": {
        "colab": {
          "base_uri": "https://localhost:8080/"
        },
        "id": "iACQGU0oMtbM",
        "outputId": "294e66a2-126c-45ee-f5b9-36a1b7570728"
      },
      "execution_count": null,
      "outputs": [
        {
          "output_type": "stream",
          "name": "stdout",
          "text": [
            "enter a string:satyapriya\n",
            "enter a character:s\n",
            "character is present\n"
          ]
        }
      ]
    },
    {
      "cell_type": "code",
      "source": [
        "s=input(\"enter a string:\")\n",
        "c=input(\"enter a character:\")\n",
        "for i in s:\n",
        "  if i==c:\n",
        "    flag=1\n",
        "    break\n",
        "  else:\n",
        "    flag=0\n",
        "if flag==1:\n",
        "  print(\"character is present\")\n",
        "  print(\"character:\",c)\n",
        "else:\n",
        "  print(\"character not present\")"
      ],
      "metadata": {
        "colab": {
          "base_uri": "https://localhost:8080/"
        },
        "id": "wQw5bSIwVQ5D",
        "outputId": "566da054-cdf3-451b-9803-2f109eb28bfa"
      },
      "execution_count": null,
      "outputs": [
        {
          "output_type": "stream",
          "name": "stdout",
          "text": [
            "enter a string:priya\n",
            "enter a character:y\n",
            "character is present\n",
            "character: y\n"
          ]
        }
      ]
    },
    {
      "cell_type": "code",
      "source": [
        "s=input(\"enter a string:\")\n",
        "c=input(\"enter a character:\")\n",
        "a=\"yes\" if c in s else \"no\"\n",
        "print(a)"
      ],
      "metadata": {
        "colab": {
          "base_uri": "https://localhost:8080/"
        },
        "id": "tXBEE3EpYfum",
        "outputId": "aed7acec-6476-426d-f767-8d3fa0a4e257"
      },
      "execution_count": null,
      "outputs": [
        {
          "output_type": "stream",
          "name": "stdout",
          "text": [
            "enter a string:hello\n",
            "enter a character:u\n",
            "no\n"
          ]
        }
      ]
    },
    {
      "cell_type": "code",
      "source": [
        "#program 2\n",
        "s=input(\"enter a string:\")\n",
        "t=s[::-1]\n",
        "if(s==t):\n",
        "  print(\"string is palindrome\")\n",
        "else:\n",
        "  print(\"string is not palindrome\")"
      ],
      "metadata": {
        "colab": {
          "base_uri": "https://localhost:8080/"
        },
        "id": "IhQ1_FCTNn-V",
        "outputId": "9574b3e0-2154-4fab-aa6f-fb7ebe6d77c3"
      },
      "execution_count": null,
      "outputs": [
        {
          "output_type": "stream",
          "name": "stdout",
          "text": [
            "enter a string:noon\n",
            "string is palindrome\n"
          ]
        }
      ]
    },
    {
      "cell_type": "code",
      "source": [
        "#program3\n",
        "s=input(\"enter a string:\")\n",
        "count=0\n",
        "for i in range(0,len(s)):\n",
        "  if s[i]==\" \":\n",
        "    count+=1\n",
        "if count>0:\n",
        "  print(\"spaces are present\")\n",
        "  print(\"count:\",count)\n",
        "else:\n",
        "  print(\"spaces not present\")"
      ],
      "metadata": {
        "colab": {
          "base_uri": "https://localhost:8080/"
        },
        "id": "gj8QV0vKOClp",
        "outputId": "68a99090-ba48-4b63-cdf8-4926e5700dd0"
      },
      "execution_count": null,
      "outputs": [
        {
          "output_type": "stream",
          "name": "stdout",
          "text": [
            "enter a string:  satya\n",
            "spaces are present\n",
            "count: 2\n"
          ]
        }
      ]
    },
    {
      "cell_type": "code",
      "source": [
        "s=input(\"enter a string:\")\n",
        "count=0\n",
        "for i in s:\n",
        "  if i==\" \":\n",
        "    count+=1\n",
        "if count>0:\n",
        "  print(\"spaces are present\")\n",
        "  print(\"count:\",count)\n",
        "else:\n",
        "  print(\"spaces not present\")"
      ],
      "metadata": {
        "colab": {
          "base_uri": "https://localhost:8080/"
        },
        "outputId": "13956a2d-6ce2-4a8a-9035-de210e4de9c9",
        "id": "sVWM_dJjb1tU"
      },
      "execution_count": null,
      "outputs": [
        {
          "output_type": "stream",
          "name": "stdout",
          "text": [
            "enter a string:  sa ty a\n",
            "spaces are present\n",
            "count: 4\n"
          ]
        }
      ]
    },
    {
      "cell_type": "code",
      "source": [
        "#create a list with vowels get one string as input count vowels from the string and display the count\n",
        "l=[\"a\",\"e\",\"i\",\"o\",\"u\"]\n",
        "s=input(\"enter a string:\")\n",
        "count=0\n",
        "for i in l:\n",
        "  for j in range(0,len(s)):\n",
        "    if s[j]==i:\n",
        "      count+=1\n",
        "print(\"count:\",count)"
      ],
      "metadata": {
        "colab": {
          "base_uri": "https://localhost:8080/"
        },
        "id": "sE6V95A2bmsJ",
        "outputId": "56c3b534-9266-4361-b84d-69241ed74c15"
      },
      "execution_count": null,
      "outputs": [
        {
          "output_type": "stream",
          "name": "stdout",
          "text": [
            "enter a string:education\n",
            "count: 5\n"
          ]
        }
      ]
    },
    {
      "cell_type": "code",
      "source": [
        "#math module\n",
        "import math\n",
        "print(math.ceil(11.11))\n",
        "print(math.floor(11.11))\n",
        "print(math.sqrt(121))\n",
        "print(math.factorial(6))\n",
        "print(math.pow(4,4))\n",
        "print(math.fmod(10,3))\n",
        "a,b=divmod(10,3)\n",
        "print(a,b)"
      ],
      "metadata": {
        "colab": {
          "base_uri": "https://localhost:8080/"
        },
        "id": "P-qH5rxpk5Sk",
        "outputId": "e24d6ebb-1737-447a-c93b-6e6d04f73d9e"
      },
      "execution_count": null,
      "outputs": [
        {
          "output_type": "stream",
          "name": "stdout",
          "text": [
            "12\n",
            "11\n",
            "11.0\n",
            "720\n",
            "256.0\n",
            "1.0\n",
            "3 1\n"
          ]
        }
      ]
    }
  ]
}