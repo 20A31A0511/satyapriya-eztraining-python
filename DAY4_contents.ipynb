{
  "nbformat": 4,
  "nbformat_minor": 0,
  "metadata": {
    "colab": {
      "provenance": [],
      "authorship_tag": "ABX9TyO2lUkmPQr2NNuzcp0g1md+",
      "include_colab_link": true
    },
    "kernelspec": {
      "name": "python3",
      "display_name": "Python 3"
    },
    "language_info": {
      "name": "python"
    }
  },
  "cells": [
    {
      "cell_type": "markdown",
      "metadata": {
        "id": "view-in-github",
        "colab_type": "text"
      },
      "source": [
        "<a href=\"https://colab.research.google.com/github/20A31A0511/satyapriya-eztraining-python/blob/main/DAY4_contents.ipynb\" target=\"_parent\"><img src=\"https://colab.research.google.com/assets/colab-badge.svg\" alt=\"Open In Colab\"/></a>"
      ]
    },
    {
      "cell_type": "markdown",
      "source": [
        "#String Functions\n",
        "\n",
        "\n",
        "*   s.upper()\n",
        "*   s.lower() or s.casefold()\n",
        "*   s.capitalise()\n",
        "*   s.replace(\"h\",\"a\")\n",
        "*   s.strip()-removes spaces at starting and ending of the string\n",
        "*   s.split(),s.split(\",\"),s.split(\"a\")\n",
        "*   s.center(31,\"*\")-s.center(width,fillchar)\n",
        "*   s.count()\n",
        "*   s.count(\"a\",5,len(s))\n",
        "*   s.endswith(\"a\",0,len(s))\n",
        "*   s.find(\"a\",0,len(s)) \n",
        "*   s.index(\"a\",0,len(s))\n",
        "*   s.islower()\n",
        "*   s.upper()\n",
        "*   s.istitle()\n",
        "*   max(s)\n",
        "*   min(s)\n",
        "*   s.startwith(\"hello\",0,len(s))\n",
        "*   s.rfind(\"a\",0,len(s))-from reverse first occurance or last occurance\n",
        "\n",
        "\n",
        "\n",
        "\n",
        "\n",
        "\n",
        "\n",
        "\n"
      ],
      "metadata": {
        "id": "wmCQMnmAWuNd"
      }
    },
    {
      "cell_type": "markdown",
      "source": [
        "# Mutable and Immutable\n",
        "### Mutable:\n",
        "       \n",
        "\n",
        "*   List\n",
        "*   Set \n",
        "*   Dictionary\n",
        "\n",
        "### Immutable:\n",
        "\n",
        "\n",
        "*   Integer\n",
        "*   Float\n",
        "*   Tuple\n",
        "*   String\n",
        "*   Bool\n",
        "\n",
        "\n",
        "\n",
        "\n"
      ],
      "metadata": {
        "id": "qGhg9oMLIRST"
      }
    },
    {
      "cell_type": "markdown",
      "source": [
        "# Math Module\n",
        "\n",
        "\n",
        "*   math.ceil()  \n",
        "*   math.floor()\n",
        "*   math.sqrt()\n",
        "*   math.factorial()\n",
        "*   math.pow()\n",
        "*   math.fmod()\n",
        "*   divmod()\n",
        "\n",
        "\n"
      ],
      "metadata": {
        "id": "LGP6iQVoqpTI"
      }
    }
  ]
}