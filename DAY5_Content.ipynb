{
  "nbformat": 4,
  "nbformat_minor": 0,
  "metadata": {
    "colab": {
      "provenance": [],
      "authorship_tag": "ABX9TyPN8UinVe4e6FPVzrmgoaQm",
      "include_colab_link": true
    },
    "kernelspec": {
      "name": "python3",
      "display_name": "Python 3"
    },
    "language_info": {
      "name": "python"
    }
  },
  "cells": [
    {
      "cell_type": "markdown",
      "metadata": {
        "id": "view-in-github",
        "colab_type": "text"
      },
      "source": [
        "<a href=\"https://colab.research.google.com/github/20A31A0511/satyapriya-eztraining-python/blob/main/DAY5_Content.ipynb\" target=\"_parent\"><img src=\"https://colab.research.google.com/assets/colab-badge.svg\" alt=\"Open In Colab\"/></a>"
      ]
    },
    {
      "cell_type": "markdown",
      "source": [
        "# Random Module\n",
        "\n",
        "\n",
        "*   r.random()-will return random number between 0.0 and 1.0.it  includes 0.0 and excludes 1.0\n",
        "*   r.uniform()-returns random number between range includes the range values \n",
        "*   r.shuffle()\n",
        "*   r.sample(x,2)\n",
        "*   r.choice()\n",
        "*   r.choices(a,k=10)\n",
        "*   r.randint()\n",
        "\n"
      ],
      "metadata": {
        "id": "yxYjURoPZZQO"
      }
    },
    {
      "cell_type": "markdown",
      "source": [
        "# Calendar\n",
        "\n",
        "\n",
        "*   calendar.calendar()\n",
        "*   calendar.month()\n",
        "*   calendar.setfirstweekday(calendar.WEDNESDAY)\n",
        "\n"
      ],
      "metadata": {
        "id": "163ygcRzhmfW"
      }
    },
    {
      "cell_type": "markdown",
      "source": [
        "# Datetime \n",
        "\n",
        "\n",
        "*   datetime.datetime.now()\n",
        "*   sv=a.strftime(\"%Y\")\n",
        "*   fv=a.strftime(\"%Y\")\n",
        "\n"
      ],
      "metadata": {
        "id": "5-0PfzOGmdMF"
      }
    },
    {
      "cell_type": "markdown",
      "source": [
        "# Functions\n",
        "### Classifications\n",
        "\n",
        "1.   predefined functions\n",
        "2.   user defined functions\n",
        "\n",
        "*   For code reusability we use functions\n",
        "*   Lets say we want to use a particular concept multiple times in our pgm instead of writing the same code mutliple times we can write it once include that inside a function and can call the function where ever we need it\n",
        "\n",
        "### Types\n",
        "*   Functions without args without return values\n",
        "*   without args and return values\n",
        "*   with args and return values\n",
        "*   with args and without rreturn values\n",
        "\n",
        "\n",
        "\n"
      ],
      "metadata": {
        "id": "v1WcrWWhmdso"
      }
    },
    {
      "cell_type": "markdown",
      "source": [
        "# Recursive function\n",
        "  \n",
        "*   A function which calls itself\n",
        "\n",
        "\n",
        "\n",
        "\n",
        "\n"
      ],
      "metadata": {
        "id": "8fQ3XPUCVmn4"
      }
    }
  ]
}