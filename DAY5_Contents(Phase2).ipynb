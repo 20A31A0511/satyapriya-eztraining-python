{
  "nbformat": 4,
  "nbformat_minor": 0,
  "metadata": {
    "colab": {
      "provenance": [],
      "authorship_tag": "ABX9TyMZljQwIhYeSkYBlyCg2Kf+",
      "include_colab_link": true
    },
    "kernelspec": {
      "name": "python3",
      "display_name": "Python 3"
    },
    "language_info": {
      "name": "python"
    }
  },
  "cells": [
    {
      "cell_type": "markdown",
      "metadata": {
        "id": "view-in-github",
        "colab_type": "text"
      },
      "source": [
        "<a href=\"https://colab.research.google.com/github/20A31A0511/satyapriya-eztraining-python/blob/main/DAY5_Contents(Phase2).ipynb\" target=\"_parent\"><img src=\"https://colab.research.google.com/assets/colab-badge.svg\" alt=\"Open In Colab\"/></a>"
      ]
    },
    {
      "cell_type": "markdown",
      "source": [
        "# **BINARY TREES**\n",
        "\n",
        "*   A node can have maximum of 2 children\n",
        "\n",
        "### Traversal Methods\n",
        "\n",
        "*   Breadth First Search(Level order traversal)\n",
        "*   Depth First Search\n",
        "      *   Inorder::Left-Root-Right(LDR)\n",
        "      *   Preorder::Root-Left-Right(DLR)\n",
        "      *   Postorder::Left-Right-Root(LRD)\n",
        "\n",
        "### Types of binary trees\n",
        "\n",
        "*   Full Binary Tree::All nodes have 0 or 2 children\n",
        "*   Pathelogical/Degenerate Tree::Each node has only one child\n",
        "*   Skewed Tree:: Left skewed and Right skewed(all left nodes or all right nodes)\n",
        "*   Complete Tree::Every level should be full or complete in last level\n",
        "*   Perfect Binary Tree::All internal nodes who have 2 childern and leaf nodes both must be on same level\n",
        "*   balanced Tree::For all the nodes height of left subtree minus height of right subtree can be 0 or 1\n",
        "\n",
        "### Binary Search Trees\n",
        "\n",
        "*   All the left side elements should be lesser than its parent and right side should be greater than its parent"
      ],
      "metadata": {
        "id": "MkdMV8E1lr9p"
      }
    }
  ]
}