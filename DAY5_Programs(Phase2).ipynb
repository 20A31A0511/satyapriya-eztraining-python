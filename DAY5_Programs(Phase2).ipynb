{
  "nbformat": 4,
  "nbformat_minor": 0,
  "metadata": {
    "colab": {
      "provenance": [],
      "authorship_tag": "ABX9TyNHGmgTJdtKBjM+fAmQWRta",
      "include_colab_link": true
    },
    "kernelspec": {
      "name": "python3",
      "display_name": "Python 3"
    },
    "language_info": {
      "name": "python"
    }
  },
  "cells": [
    {
      "cell_type": "markdown",
      "metadata": {
        "id": "view-in-github",
        "colab_type": "text"
      },
      "source": [
        "<a href=\"https://colab.research.google.com/github/20A31A0511/satyapriya-eztraining-python/blob/main/DAY5_Programs(Phase2).ipynb\" target=\"_parent\"><img src=\"https://colab.research.google.com/assets/colab-badge.svg\" alt=\"Open In Colab\"/></a>"
      ]
    },
    {
      "cell_type": "code",
      "source": [
        "#Binary Trees\n",
        "class BinaryTree():\n",
        "  def __init__(self,data):\n",
        "    self.data=data\n",
        "    self.leftchild=None\n",
        "    self.rightchild=None\n",
        "Node1=BinaryTree(50)\n",
        "Node2=BinaryTree(20)\n",
        "Node3=BinaryTree(45)\n",
        "Node4=BinaryTree(11)\n",
        "Node5=BinaryTree(15)\n",
        "Node6=BinaryTree(30)\n",
        "Node7=BinaryTree(78)\n",
        "Node1.leftchild=Node2\n",
        "Node1.rightchild=Node3\n",
        "Node2.leftchild=Node4\n",
        "Node2.rightchild=Node5\n",
        "Node3.leftchild=Node6\n",
        "Node3.rightchild=Node7\n",
        "print(\"root node:\",Node1.data)\n",
        "print(\"left child of root node:\",Node1.leftchild.data)\n",
        "print(\"right child of root node:\",Node1.rightchild.data)\n",
        "print(\"left child of node2:\",Node2.leftchild.data)\n",
        "print(\"right child of node2:\",Node2.rightchild.data)\n",
        "print(\"left child of node3:\",Node3.leftchild.data)\n",
        "print(\"right child of node3 is:\",Node3.rightchild.data)"
      ],
      "metadata": {
        "id": "5hrlmBGYR5ov",
        "colab": {
          "base_uri": "https://localhost:8080/"
        },
        "outputId": "d8de76e7-df94-4864-b84f-1303ea9dd76d"
      },
      "execution_count": null,
      "outputs": [
        {
          "output_type": "stream",
          "name": "stdout",
          "text": [
            "root node: 50\n",
            "left child of root node: 20\n",
            "right child of root node: 45\n",
            "left child of node2: 11\n",
            "right child of node2: 15\n",
            "left child of node3: 30\n",
            "right child of node3: 78\n"
          ]
        }
      ]
    },
    {
      "cell_type": "code",
      "source": [
        "#Traversal methods\n",
        "class Node():\n",
        "  def __init__(self,key):\n",
        "    self.left=None\n",
        "    self.right=None\n",
        "    self.val=key\n",
        "def Inorder(root):\n",
        "  if root:\n",
        "    Inorder(root.left)\n",
        "    print(root.val,end=\"\")\n",
        "    Inorder(root.right)\n",
        "def Postorder(root):\n",
        "  if root:\n",
        "    Postorder(root.left)\n",
        "    Postorder(root.right)\n",
        "    print(root.val,end=\"\")\n",
        "def Preorder(root):\n",
        "  if root:\n",
        "    print(root.val,end=\"\")\n",
        "    Preorder(root.left)\n",
        "    Preorder(root.right)\n",
        "root=Node(1)\n",
        "root.left=Node(2)\n",
        "root.right=Node(3)\n",
        "root.left.left=Node(4)\n",
        "root.left.right=Node(5)\n",
        "print(\"PREORDER\")\n",
        "Preorder(root)\n",
        "print()\n",
        "print(\"POSTORDER\")\n",
        "Postorder(root)\n",
        "print()\n",
        "print(\"INORDER\")\n",
        "Inorder(root)\n",
        "print()"
      ],
      "metadata": {
        "colab": {
          "base_uri": "https://localhost:8080/"
        },
        "id": "etlkGZA3J_OK",
        "outputId": "0ebea773-0398-4f5c-c0dc-5eded7adc016"
      },
      "execution_count": null,
      "outputs": [
        {
          "output_type": "stream",
          "name": "stdout",
          "text": [
            "PREORDER\n",
            "12453\n",
            "POSTORDER\n",
            "45231\n",
            "INORDER\n",
            "42513\n"
          ]
        }
      ]
    },
    {
      "cell_type": "code",
      "source": [
        "#Binary Tree\n",
        "class Node():\n",
        "  def __init__(self,key):\n",
        "    self.left=None\n",
        "    self.right=None\n",
        "    self.val=key\n",
        "def insert(root,key):\n",
        "  if root is None:\n",
        "    return Node(key)\n",
        "  else:\n",
        "    if root.val==key:\n",
        "      return Node(key)\n",
        "    elif root.val<key:\n",
        "      root.right=insert(root.right,key)\n",
        "    else:\n",
        "      root.left=insert(root.left,key)\n",
        "  return root\n",
        "def inorder(root):\n",
        "  if root:\n",
        "    inorder(root.left)\n",
        "    print(root.val)\n",
        "    inorder(root.right)\n",
        "r=Node(50)\n",
        "r=insert(r,30)\n",
        "r=insert(r,20)\n",
        "r=insert(r,40)\n",
        "r=insert(r,70)\n",
        "r=insert(r,60)\n",
        "r=insert(r,80)\n",
        "inorder(r)"
      ],
      "metadata": {
        "colab": {
          "base_uri": "https://localhost:8080/"
        },
        "id": "rml-zLJLhohS",
        "outputId": "c90dfd67-8dc5-4c6a-bbe7-6d87ffa83547"
      },
      "execution_count": null,
      "outputs": [
        {
          "output_type": "stream",
          "name": "stdout",
          "text": [
            "20\n",
            "30\n",
            "40\n",
            "50\n",
            "60\n",
            "70\n",
            "80\n"
          ]
        }
      ]
    },
    {
      "cell_type": "code",
      "source": [
        "#Binary Tree Deletion\n",
        "class Node():\n",
        "  def __init__(self,key):\n",
        "    self.left=None\n",
        "    self.right=None\n",
        "    self.val=key\n",
        "def inorder(root):\n",
        "  if root:\n",
        "    inorder(root.left)\n",
        "    print(root.val)\n",
        "    inorder(root.right)\n",
        "def insert(root,key):\n",
        "  if root is None:\n",
        "    return Node(key)\n",
        "  else:\n",
        "    if root.val==key:\n",
        "      return root\n",
        "    elif root.val<key:\n",
        "      root.right=insert(root.right,key)\n",
        "    else:\n",
        "      root.left=insert(root.left,key)\n",
        "  return root\n",
        "def minvalueNode(node):\n",
        "  temp=node\n",
        "  while(temp.left is not None):\n",
        "    temp=temp.left\n",
        "  return temp\n",
        "def deletenode(root,key):\n",
        "  if root is None:\n",
        "    return root\n",
        "  if key<root.val:\n",
        "    root.left=deletenode(root.left,key)\n",
        "  elif(key>root.val):\n",
        "    root.right=deletenode(root.right,key)\n",
        "  else:\n",
        "    if root.left is None:\n",
        "      temp=root.right\n",
        "      root=None\n",
        "      return temp\n",
        "    elif root.right is None:\n",
        "      temp=root.left\n",
        "      root=None\n",
        "      return temp\n",
        "    temp=minvalueNode(root.right)\n",
        "    root.val=temp.val\n",
        "    root.right=deletenode(root.right,temp.val)\n",
        "  return root \n",
        "root=None\n",
        "root=insert(root,50)\n",
        "root=insert(root,30)\n",
        "root=insert(root,20)\n",
        "root=insert(root,40)\n",
        "root=insert(root,70)\n",
        "root=insert(root,60)\n",
        "root=insert(root,80)\n",
        "print(\"Inorder tarversal of the given tree\")\n",
        "inorder(root)\n",
        "print(\"\\nDelete 20\")\n",
        "root=deletenode(root,20)\n",
        "print(\"Inorder tarversal of the modified tree\")\n",
        "inorder(root)\n",
        "print(\"\\nDelete 30\")\n",
        "root=deletenode(root,30)\n",
        "print(\"Inorder tarversal of the modified tree\")\n",
        "inorder(root)\n",
        "print(\"\\nDelete 50\")\n",
        "root=deletenode(root,50)\n",
        "print(\"Inorder tarversal of the modified tree\")\n",
        "inorder(root)"
      ],
      "metadata": {
        "id": "QxZ8CJnipzUK",
        "colab": {
          "base_uri": "https://localhost:8080/"
        },
        "outputId": "b4012ff2-b5bf-483d-8814-ec89845bbae5"
      },
      "execution_count": 8,
      "outputs": [
        {
          "output_type": "stream",
          "name": "stdout",
          "text": [
            "Inorder tarversal of the given tree\n",
            "20\n",
            "30\n",
            "40\n",
            "50\n",
            "60\n",
            "70\n",
            "80\n",
            "\n",
            "Delete 20\n",
            "Inorder tarversal of the modified tree\n",
            "30\n",
            "40\n",
            "50\n",
            "60\n",
            "70\n",
            "80\n",
            "\n",
            "Delete 30\n",
            "Inorder tarversal of the modified tree\n",
            "40\n",
            "50\n",
            "60\n",
            "70\n",
            "80\n",
            "\n",
            "Delete 50\n",
            "Inorder tarversal of the modified tree\n",
            "40\n",
            "60\n",
            "70\n",
            "80\n"
          ]
        }
      ]
    }
  ]
}