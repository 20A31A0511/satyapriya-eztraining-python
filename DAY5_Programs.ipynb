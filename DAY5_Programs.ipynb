{
  "nbformat": 4,
  "nbformat_minor": 0,
  "metadata": {
    "colab": {
      "provenance": [],
      "authorship_tag": "ABX9TyOmIg8gXXr3a5f0wvDnB7H7",
      "include_colab_link": true
    },
    "kernelspec": {
      "name": "python3",
      "display_name": "Python 3"
    },
    "language_info": {
      "name": "python"
    }
  },
  "cells": [
    {
      "cell_type": "markdown",
      "metadata": {
        "id": "view-in-github",
        "colab_type": "text"
      },
      "source": [
        "<a href=\"https://colab.research.google.com/github/20A31A0511/satyapriya-eztraining-python/blob/main/DAY5_Programs.ipynb\" target=\"_parent\"><img src=\"https://colab.research.google.com/assets/colab-badge.svg\" alt=\"Open In Colab\"/></a>"
      ]
    },
    {
      "cell_type": "code",
      "execution_count": null,
      "metadata": {
        "colab": {
          "base_uri": "https://localhost:8080/"
        },
        "id": "YCcy_znfYv0h",
        "outputId": "ab18b8b1-2865-4bf4-b4aa-d55e4804237e"
      },
      "outputs": [
        {
          "output_type": "stream",
          "name": "stdout",
          "text": [
            "['t', 'y', 'a', 'i']\n",
            "None\n",
            "[1, 4, 3, 6, 5, 2]\n",
            "2\n",
            "i\n",
            "0.20425092034993098\n",
            "[1, 3, 2, 6, 3, 2, 3, 6, 4, 6, 3, 6]\n",
            "28\n",
            "['s', 'i', 'i', 'a', 's', 's', 'y', 'a', 'y', 'a', 'a', 'a', 'r', 'a', 'p']\n",
            "3.4386824593466647\n"
          ]
        }
      ],
      "source": [
        "#Random module\n",
        "import random as r\n",
        "x=\"satya priya\"\n",
        "print(r.sample(x,4))\n",
        "l=[1,2,3,4,5,6]\n",
        "print(r.shuffle(l))\n",
        "print(l)\n",
        "print(r.choice(l))\n",
        "x=\"satya priya\"\n",
        "print(r.choice(x))\n",
        "a=r.random()\n",
        "print(a)\n",
        "l=[1,2,3,4,5,6]\n",
        "print(r.choices(l,k=12))\n",
        "print(r.randint(20,30))\n",
        "print(r.choices(x,k=15))\n",
        "print(r.uniform(2,11))"
      ]
    },
    {
      "cell_type": "code",
      "source": [
        "import random as r\n",
        "l=[1,2,3,4,5]\n",
        "print(r.choices(l,a=10))"
      ],
      "metadata": {
        "colab": {
          "base_uri": "https://localhost:8080/",
          "height": 201
        },
        "id": "va8ldlZCgKNR",
        "outputId": "d44db5ae-0da6-48a5-a282-c45ffda2947e"
      },
      "execution_count": 2,
      "outputs": [
        {
          "output_type": "error",
          "ename": "TypeError",
          "evalue": "ignored",
          "traceback": [
            "\u001b[0;31m---------------------------------------------------------------------------\u001b[0m",
            "\u001b[0;31mTypeError\u001b[0m                                 Traceback (most recent call last)",
            "\u001b[0;32m<ipython-input-2-3b4811a1840e>\u001b[0m in \u001b[0;36m<module>\u001b[0;34m\u001b[0m\n\u001b[1;32m      1\u001b[0m \u001b[0;32mimport\u001b[0m \u001b[0mrandom\u001b[0m \u001b[0;32mas\u001b[0m \u001b[0mr\u001b[0m\u001b[0;34m\u001b[0m\u001b[0;34m\u001b[0m\u001b[0m\n\u001b[1;32m      2\u001b[0m \u001b[0ml\u001b[0m\u001b[0;34m=\u001b[0m\u001b[0;34m[\u001b[0m\u001b[0;36m1\u001b[0m\u001b[0;34m,\u001b[0m\u001b[0;36m2\u001b[0m\u001b[0;34m,\u001b[0m\u001b[0;36m3\u001b[0m\u001b[0;34m,\u001b[0m\u001b[0;36m4\u001b[0m\u001b[0;34m,\u001b[0m\u001b[0;36m5\u001b[0m\u001b[0;34m]\u001b[0m\u001b[0;34m\u001b[0m\u001b[0;34m\u001b[0m\u001b[0m\n\u001b[0;32m----> 3\u001b[0;31m \u001b[0mprint\u001b[0m\u001b[0;34m(\u001b[0m\u001b[0mr\u001b[0m\u001b[0;34m.\u001b[0m\u001b[0mchoices\u001b[0m\u001b[0;34m(\u001b[0m\u001b[0ml\u001b[0m\u001b[0;34m,\u001b[0m\u001b[0ma\u001b[0m\u001b[0;34m=\u001b[0m\u001b[0;36m10\u001b[0m\u001b[0;34m)\u001b[0m\u001b[0;34m)\u001b[0m\u001b[0;34m\u001b[0m\u001b[0;34m\u001b[0m\u001b[0m\n\u001b[0m",
            "\u001b[0;31mTypeError\u001b[0m: choices() got an unexpected keyword argument 'a'"
          ]
        }
      ]
    },
    {
      "cell_type": "code",
      "source": [
        "#to find out all the functions in a module\n",
        "z=dir(r)\n",
        "print(z)"
      ],
      "metadata": {
        "colab": {
          "base_uri": "https://localhost:8080/"
        },
        "id": "jTnpzp-bg2Al",
        "outputId": "3cc18c30-8748-4f5b-b73e-44fc9826033b"
      },
      "execution_count": null,
      "outputs": [
        {
          "output_type": "stream",
          "name": "stdout",
          "text": [
            "['BPF', 'LOG4', 'NV_MAGICCONST', 'RECIP_BPF', 'Random', 'SG_MAGICCONST', 'SystemRandom', 'TWOPI', '_Sequence', '_Set', '__all__', '__builtins__', '__cached__', '__doc__', '__file__', '__loader__', '__name__', '__package__', '__spec__', '_accumulate', '_acos', '_bisect', '_ceil', '_cos', '_e', '_exp', '_inst', '_log', '_os', '_pi', '_random', '_repeat', '_sha512', '_sin', '_sqrt', '_test', '_test_generator', '_urandom', '_warn', 'betavariate', 'choice', 'choices', 'expovariate', 'gammavariate', 'gauss', 'getrandbits', 'getstate', 'lognormvariate', 'normalvariate', 'paretovariate', 'randint', 'random', 'randrange', 'sample', 'seed', 'setstate', 'shuffle', 'triangular', 'uniform', 'vonmisesvariate', 'weibullvariate']\n"
          ]
        }
      ]
    },
    {
      "cell_type": "code",
      "source": [
        "#calendar module\n",
        "import calendar\n",
        "print(\"Full calendar\")\n",
        "print(calendar.calendar(2023))\n",
        "print(\"Particular month\")\n",
        "print(calendar.month(2023,12))\n",
        "print(\"set first day of the week\")\n",
        "calendar.setfirstweekday(calendar.WEDNESDAY)\n",
        "print(calendar.month(2022,12))"
      ],
      "metadata": {
        "colab": {
          "base_uri": "https://localhost:8080/"
        },
        "id": "avnf3NbzjAHh",
        "outputId": "9222cccf-0c2d-4589-c5ff-e3a3b9856d3b"
      },
      "execution_count": null,
      "outputs": [
        {
          "output_type": "stream",
          "name": "stdout",
          "text": [
            "Full calendar\n",
            "                                  2023\n",
            "\n",
            "      January                   February                   March\n",
            "We Th Fr Sa Su Mo Tu      We Th Fr Sa Su Mo Tu      We Th Fr Sa Su Mo Tu\n",
            "             1  2  3       1  2  3  4  5  6  7       1  2  3  4  5  6  7\n",
            " 4  5  6  7  8  9 10       8  9 10 11 12 13 14       8  9 10 11 12 13 14\n",
            "11 12 13 14 15 16 17      15 16 17 18 19 20 21      15 16 17 18 19 20 21\n",
            "18 19 20 21 22 23 24      22 23 24 25 26 27 28      22 23 24 25 26 27 28\n",
            "25 26 27 28 29 30 31                                29 30 31\n",
            "\n",
            "       April                      May                       June\n",
            "We Th Fr Sa Su Mo Tu      We Th Fr Sa Su Mo Tu      We Th Fr Sa Su Mo Tu\n",
            "          1  2  3  4                      1  2          1  2  3  4  5  6\n",
            " 5  6  7  8  9 10 11       3  4  5  6  7  8  9       7  8  9 10 11 12 13\n",
            "12 13 14 15 16 17 18      10 11 12 13 14 15 16      14 15 16 17 18 19 20\n",
            "19 20 21 22 23 24 25      17 18 19 20 21 22 23      21 22 23 24 25 26 27\n",
            "26 27 28 29 30            24 25 26 27 28 29 30      28 29 30\n",
            "                          31\n",
            "\n",
            "        July                     August                  September\n",
            "We Th Fr Sa Su Mo Tu      We Th Fr Sa Su Mo Tu      We Th Fr Sa Su Mo Tu\n",
            "          1  2  3  4                         1             1  2  3  4  5\n",
            " 5  6  7  8  9 10 11       2  3  4  5  6  7  8       6  7  8  9 10 11 12\n",
            "12 13 14 15 16 17 18       9 10 11 12 13 14 15      13 14 15 16 17 18 19\n",
            "19 20 21 22 23 24 25      16 17 18 19 20 21 22      20 21 22 23 24 25 26\n",
            "26 27 28 29 30 31         23 24 25 26 27 28 29      27 28 29 30\n",
            "                          30 31\n",
            "\n",
            "      October                   November                  December\n",
            "We Th Fr Sa Su Mo Tu      We Th Fr Sa Su Mo Tu      We Th Fr Sa Su Mo Tu\n",
            "             1  2  3       1  2  3  4  5  6  7             1  2  3  4  5\n",
            " 4  5  6  7  8  9 10       8  9 10 11 12 13 14       6  7  8  9 10 11 12\n",
            "11 12 13 14 15 16 17      15 16 17 18 19 20 21      13 14 15 16 17 18 19\n",
            "18 19 20 21 22 23 24      22 23 24 25 26 27 28      20 21 22 23 24 25 26\n",
            "25 26 27 28 29 30 31      29 30                     27 28 29 30 31\n",
            "\n",
            "Particular month\n",
            "   December 2023\n",
            "We Th Fr Sa Su Mo Tu\n",
            "       1  2  3  4  5\n",
            " 6  7  8  9 10 11 12\n",
            "13 14 15 16 17 18 19\n",
            "20 21 22 23 24 25 26\n",
            "27 28 29 30 31\n",
            "\n",
            "set first day of the week\n",
            "   December 2022\n",
            "We Th Fr Sa Su Mo Tu\n",
            "    1  2  3  4  5  6\n",
            " 7  8  9 10 11 12 13\n",
            "14 15 16 17 18 19 20\n",
            "21 22 23 24 25 26 27\n",
            "28 29 30 31\n",
            "\n"
          ]
        }
      ]
    },
    {
      "cell_type": "code",
      "source": [
        "#Datetime module\n",
        "import datetime\n",
        "a=datetime.datetime.now()\n",
        "print(a)\n",
        "sv=a.strftime(\"%Y\")\n",
        "fv=a.strftime(\"%Y\")\n",
        "print(\"short version:\",sv)\n",
        "print(\"full version:\",fv)"
      ],
      "metadata": {
        "colab": {
          "base_uri": "https://localhost:8080/"
        },
        "id": "gSnGXf7bknsc",
        "outputId": "d77a7081-db8c-49c5-c7f4-695743c0e88d"
      },
      "execution_count": null,
      "outputs": [
        {
          "output_type": "stream",
          "name": "stdout",
          "text": [
            "2023-02-03 04:45:09.788641\n",
            "short version: 2023\n",
            "full version: 2023\n"
          ]
        }
      ]
    },
    {
      "cell_type": "code",
      "source": [
        "#without args and return values\n",
        "def sample():\n",
        "  print(\"hi\")\n",
        "  print(\"good morning\")\n",
        "sample()"
      ],
      "metadata": {
        "colab": {
          "base_uri": "https://localhost:8080/"
        },
        "id": "PnyD4E5ko6WS",
        "outputId": "32fa4b08-98e9-4607-aabd-a42a0db5638a"
      },
      "execution_count": null,
      "outputs": [
        {
          "output_type": "stream",
          "name": "stdout",
          "text": [
            "hi\n",
            "good morning\n"
          ]
        }
      ]
    },
    {
      "cell_type": "code",
      "source": [
        "#without args and return values\n",
        "def sample():\n",
        "  print(\"hi\")\n",
        "  print(\"good morning\")\n",
        "sample()\n",
        "print(\"hello\")\n",
        "sample()"
      ],
      "metadata": {
        "colab": {
          "base_uri": "https://localhost:8080/"
        },
        "id": "BzjTu9_8pL0G",
        "outputId": "f059e793-6427-4658-a007-3e7424b87ec2"
      },
      "execution_count": null,
      "outputs": [
        {
          "output_type": "stream",
          "name": "stdout",
          "text": [
            "hi\n",
            "good morning\n",
            "hello\n",
            "hi\n",
            "good morning\n"
          ]
        }
      ]
    },
    {
      "cell_type": "code",
      "source": [
        "#without args and return values\n",
        "def product():\n",
        "  n1=int(input(\"Enter a number:\"))\n",
        "  n2=int(input(\"Enter a number:\"))\n",
        "  n3=int(input(\"Enter a number:\"))\n",
        "  prod=n1*n2*n3\n",
        "  print(\"product:\",prod)\n",
        "product()"
      ],
      "metadata": {
        "colab": {
          "base_uri": "https://localhost:8080/"
        },
        "id": "JATd54CPpxKO",
        "outputId": "b6f10528-2179-4115-b3e5-29e55ca32d2d"
      },
      "execution_count": null,
      "outputs": [
        {
          "output_type": "stream",
          "name": "stdout",
          "text": [
            "Enter a number:9\n",
            "Enter a number:6\n",
            "Enter a number:3\n",
            "product: 162\n"
          ]
        }
      ]
    },
    {
      "cell_type": "code",
      "source": [
        "#without args and with return values\n",
        "def product():\n",
        "  n1=int(input(\"Enter a number:\"))\n",
        "  n2=int(input(\"Enter a number:\"))\n",
        "  n3=int(input(\"Enter a number:\"))\n",
        "  prod=n1*n2*n3\n",
        "  return prod\n",
        "res=product()\n",
        "print(\"product:\",res)"
      ],
      "metadata": {
        "colab": {
          "base_uri": "https://localhost:8080/"
        },
        "id": "AQJ5iKMKq_T2",
        "outputId": "26641f8a-51cc-4118-f124-cfe1ae923df7"
      },
      "execution_count": null,
      "outputs": [
        {
          "output_type": "stream",
          "name": "stdout",
          "text": [
            "Enter a number:9\n",
            "Enter a number:6\n",
            "Enter a number:3\n",
            "product: 162\n"
          ]
        }
      ]
    },
    {
      "cell_type": "code",
      "source": [
        "#with args and without return values\n",
        "def product(n1,n2,n3):\n",
        "  prod=n1*n2*n3\n",
        "  print(\"product:\",prod)\n",
        "product(9,6,3)"
      ],
      "metadata": {
        "colab": {
          "base_uri": "https://localhost:8080/"
        },
        "id": "Qi6qu2OMswXt",
        "outputId": "0530e0d7-06f7-4838-91e6-783b6e653ab0"
      },
      "execution_count": null,
      "outputs": [
        {
          "output_type": "stream",
          "name": "stdout",
          "text": [
            "product: 162\n"
          ]
        }
      ]
    },
    {
      "cell_type": "code",
      "source": [
        "#with args and without return values\n",
        "def product(a,b,c):\n",
        "  prod=a*b*c\n",
        "  print(\"product:\",prod)\n",
        "n1=int(input(\"Enter a number:\"))\n",
        "n2=int(input(\"Enter a number:\"))\n",
        "n3=int(input(\"Enter a number:\"))\n",
        "product(n1,n2,n3)"
      ],
      "metadata": {
        "colab": {
          "base_uri": "https://localhost:8080/"
        },
        "id": "kLxrCx2VtwLw",
        "outputId": "79d8ca22-056f-4493-ef9d-4b0f5d309c7a"
      },
      "execution_count": null,
      "outputs": [
        {
          "output_type": "stream",
          "name": "stdout",
          "text": [
            "Enter a number:9\n",
            "Enter a number:6\n",
            "Enter a number:3\n",
            "product: 162\n"
          ]
        }
      ]
    },
    {
      "cell_type": "code",
      "source": [
        "#with args and return values\n",
        "def product(a,b,c):\n",
        "  prod=a*b*c\n",
        "  return prod\n",
        "n1,n2,n3=map(int,input(\"Enter a number:\").split(\",\"))\n",
        "result=product(n1,n2,n3)\n",
        "print(\"result:\",result)"
      ],
      "metadata": {
        "colab": {
          "base_uri": "https://localhost:8080/"
        },
        "id": "pwyv-e4gwZC-",
        "outputId": "4fa9fc40-d2fc-4c8e-ba13-70de1016df09"
      },
      "execution_count": null,
      "outputs": [
        {
          "output_type": "stream",
          "name": "stdout",
          "text": [
            "Enter a number:9,6,3\n",
            "result: 162\n"
          ]
        }
      ]
    },
    {
      "cell_type": "code",
      "source": [
        "#lemons program using fuction type 1\n",
        "def lemons():\n",
        "  n=int(input(\"enter the lemons:\"))\n",
        "  if n>21:\n",
        "    excess=n-21\n",
        "    print(\"Excess lemons\",excess)\n",
        "  else:\n",
        "    less=21-n\n",
        "    print(\"Less lemons\",less)\n",
        "lemons()"
      ],
      "metadata": {
        "colab": {
          "base_uri": "https://localhost:8080/"
        },
        "id": "1gCCMnopy5Dg",
        "outputId": "b1b689f3-6b74-4777-db43-529074ea20e3"
      },
      "execution_count": null,
      "outputs": [
        {
          "output_type": "stream",
          "name": "stdout",
          "text": [
            "enter the lemons:18\n",
            "Less lemons 3\n"
          ]
        }
      ]
    },
    {
      "cell_type": "code",
      "source": [
        "#Find the factors of the given number using functions type 2\n",
        "def factors():\n",
        "  num=int(input(\"enter a number:\"))\n",
        "  l=[]\n",
        "  for i in range(1,num+1):\n",
        "    if num%i==0:\n",
        "      l.append(i)\n",
        "  return l\n",
        "result=factors()\n",
        "print(\"factors:\",result)"
      ],
      "metadata": {
        "colab": {
          "base_uri": "https://localhost:8080/"
        },
        "id": "ZmkPRXPIy-Lv",
        "outputId": "346a5552-f5a1-45c2-8e95-0c6caf532330"
      },
      "execution_count": null,
      "outputs": [
        {
          "output_type": "stream",
          "name": "stdout",
          "text": [
            "enter a number:9\n",
            "factors: [1, 3, 9]\n"
          ]
        }
      ]
    },
    {
      "cell_type": "code",
      "source": [
        "#print multiplication table for the given number using function type 3\n",
        "def multiplication_table(n):\n",
        "  for i in range(1,11):\n",
        "    print(n,\"X\",i,\"=\",i*n)\n",
        "num=int(input(\"enter a number:\"))\n",
        "multiplication_table(num)"
      ],
      "metadata": {
        "colab": {
          "base_uri": "https://localhost:8080/"
        },
        "id": "5jn0517pzEbV",
        "outputId": "21c7adfb-8333-4cc4-a3fe-bbf716cd3c6b"
      },
      "execution_count": null,
      "outputs": [
        {
          "output_type": "stream",
          "name": "stdout",
          "text": [
            "enter a number:5\n",
            "5 X 1 = 5\n",
            "5 X 2 = 10\n",
            "5 X 3 = 15\n",
            "5 X 4 = 20\n",
            "5 X 5 = 25\n",
            "5 X 6 = 30\n",
            "5 X 7 = 35\n",
            "5 X 8 = 40\n",
            "5 X 9 = 45\n",
            "5 X 10 = 50\n"
          ]
        }
      ]
    },
    {
      "cell_type": "code",
      "source": [
        "#find out sum of digits of numbers using functions type 4\n",
        "def sum_of_digits(num):\n",
        "  sum=0\n",
        "  while num>0:\n",
        "    rem=num%10\n",
        "    sum=sum+rem\n",
        "    num=num//10\n",
        "  return sum\n",
        "n=int(input(\"enter a number:\"))\n",
        "sum_of_digits(n)"
      ],
      "metadata": {
        "colab": {
          "base_uri": "https://localhost:8080/"
        },
        "id": "k4zuUzTWzMFi",
        "outputId": "86434913-634a-4196-a5a2-ff75d9877c4c"
      },
      "execution_count": null,
      "outputs": [
        {
          "name": "stdout",
          "output_type": "stream",
          "text": [
            "enter a number:12\n"
          ]
        },
        {
          "output_type": "execute_result",
          "data": {
            "text/plain": [
              "3"
            ]
          },
          "metadata": {},
          "execution_count": 56
        }
      ]
    },
    {
      "cell_type": "code",
      "source": [
        "#recursion\n",
        "def display():\n",
        "  n=int(input(\"enter a number:\"))\n",
        "  if n==1:\n",
        "    display()\n",
        "  else:\n",
        "    print(\"over\")\n",
        "display()"
      ],
      "metadata": {
        "colab": {
          "base_uri": "https://localhost:8080/"
        },
        "id": "A0KKBjNAPx1E",
        "outputId": "4772423b-05b4-48c3-8805-d74497034e2d"
      },
      "execution_count": null,
      "outputs": [
        {
          "output_type": "stream",
          "name": "stdout",
          "text": [
            "enter a number:1\n",
            "enter a number:1\n",
            "enter a number:3\n",
            "over\n"
          ]
        }
      ]
    },
    {
      "cell_type": "code",
      "source": [
        "#factorial of a number\n",
        "def fact(n):\n",
        "  if n==0:\n",
        "    return 1\n",
        "  return n*fact(n-1)\n",
        "num=int(input(\"Enter a number:\"))\n",
        "print(\"factorial:\",fact(num))"
      ],
      "metadata": {
        "colab": {
          "base_uri": "https://localhost:8080/"
        },
        "id": "T6dR1Lh2XQG6",
        "outputId": "57f009de-b83e-46fa-c302-f26c20e978cf"
      },
      "execution_count": null,
      "outputs": [
        {
          "output_type": "stream",
          "name": "stdout",
          "text": [
            "Enter a number:5\n",
            "factorial: 120\n"
          ]
        }
      ]
    },
    {
      "cell_type": "code",
      "source": [
        "#fibonacci series\n",
        "num = 10\n",
        "n1, n2 = 0, 1\n",
        "print(\"Fibonacci Series:\", n1, n2, end=\" \")\n",
        "for i in range(2, num):\n",
        "    n3 = n1 + n2\n",
        "    n1 = n2\n",
        "    n2 = n3\n",
        "    print(n3, end=\" \")\n",
        "print()"
      ],
      "metadata": {
        "id": "GXvTIPyyapuH",
        "colab": {
          "base_uri": "https://localhost:8080/"
        },
        "outputId": "01717f6b-ffe2-46d7-e71a-0dc9b90ca097"
      },
      "execution_count": null,
      "outputs": [
        {
          "output_type": "stream",
          "name": "stdout",
          "text": [
            "Fibonacci Series: 0 1 1 2 3 5 8 13 21 34 \n"
          ]
        }
      ]
    },
    {
      "cell_type": "code",
      "source": [
        "#fibonacci using recursion\n",
        "def fibonacciSeries(i):\n",
        "  if i <= 1:\n",
        "    return i\n",
        "  else:\n",
        "    return (fibonacciSeries(i - 1) + fibonacciSeries(i - 2))\n",
        "num=10\n",
        "if num <=0:\n",
        "  print(\"Please enter a Positive Number\")\n",
        "else:\n",
        "  print(\"Fibonacci Series:\", end=\" \")\n",
        "for i in range(num):\n",
        "  print(fibonacciSeries(i), end=\" \")\n"
      ],
      "metadata": {
        "id": "-0uFb7yvaLAU",
        "colab": {
          "base_uri": "https://localhost:8080/"
        },
        "outputId": "d5e95afa-eeb4-4317-9191-1d0c6c9ff95f"
      },
      "execution_count": null,
      "outputs": [
        {
          "output_type": "stream",
          "name": "stdout",
          "text": [
            "Fibonacci Series: 0 1 1 2 3 5 8 13 21 34 "
          ]
        }
      ]
    },
    {
      "cell_type": "code",
      "source": [
        "def sum_sub(a,b):\n",
        "  sum=a+b\n",
        "  sub=a-b\n",
        "  return sum,sub\n",
        "res1,res2=sum_sub(22,11)\n",
        "print(\"sum:\",res1,\"difference:\",res2)"
      ],
      "metadata": {
        "id": "O65peMxxadQo",
        "colab": {
          "base_uri": "https://localhost:8080/"
        },
        "outputId": "12cd6a50-d021-4682-aa56-e3a07d7bb48a"
      },
      "execution_count": null,
      "outputs": [
        {
          "output_type": "stream",
          "name": "stdout",
          "text": [
            "sum: 33 difference: 11\n"
          ]
        }
      ]
    },
    {
      "cell_type": "code",
      "source": [
        "#variable length method\n",
        "def sum(*a):\n",
        "  c=0\n",
        "  for i in a:\n",
        "    c=c+i\n",
        "  print(c)\n",
        "sum(4,8,7)"
      ],
      "metadata": {
        "colab": {
          "base_uri": "https://localhost:8080/"
        },
        "id": "0XRtVcV-t4H_",
        "outputId": "8fe7e128-5492-4e63-d08d-a5e4571b8578"
      },
      "execution_count": null,
      "outputs": [
        {
          "output_type": "stream",
          "name": "stdout",
          "text": [
            "19\n"
          ]
        }
      ]
    }
  ]
}