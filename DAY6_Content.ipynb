{
  "nbformat": 4,
  "nbformat_minor": 0,
  "metadata": {
    "colab": {
      "provenance": [],
      "authorship_tag": "ABX9TyM03U1ISRrYHWZ3X6LJTKy8",
      "include_colab_link": true
    },
    "kernelspec": {
      "name": "python3",
      "display_name": "Python 3"
    },
    "language_info": {
      "name": "python"
    }
  },
  "cells": [
    {
      "cell_type": "markdown",
      "metadata": {
        "id": "view-in-github",
        "colab_type": "text"
      },
      "source": [
        "<a href=\"https://colab.research.google.com/github/20A31A0511/satyapriya-eztraining-python/blob/main/DAY6_Content.ipynb\" target=\"_parent\"><img src=\"https://colab.research.google.com/assets/colab-badge.svg\" alt=\"Open In Colab\"/></a>"
      ]
    },
    {
      "cell_type": "markdown",
      "source": [
        "# Exception Handling\n",
        "\n",
        "*   when there is an exception the developer doesn't want interruption in the program flow,to achieve this we are using exceptiion handling\n",
        "\n"
      ],
      "metadata": {
        "id": "E78b_Nr3o6XV"
      }
    },
    {
      "cell_type": "markdown",
      "source": [
        "# **OOPS-Object Oriented Programming Structure**\n",
        "\n",
        "*   It is a efficient concept used in all object oriented programming languages like python,java\n",
        "*   For multiple reasons we use oops concept for example code reusability,data security,hiding data\n",
        "\n",
        "### Class\n",
        "\n",
        "*   It is a blue print\n",
        "*   example bird,laptop\n",
        "\n",
        "### Object\n",
        "\n",
        "*   It is a thing created based on class\n",
        "*   note:one class can have multiple objects\n",
        "*   examples:class is laptop objects are lenovo,hp,dell etc\n",
        "*   bird is class objects are parrot,peacock etc\n",
        "\n",
        "\n",
        "\n",
        "\n",
        "\n",
        "\n",
        "\n"
      ],
      "metadata": {
        "id": "XUunKVjizdru"
      }
    }
  ]
}