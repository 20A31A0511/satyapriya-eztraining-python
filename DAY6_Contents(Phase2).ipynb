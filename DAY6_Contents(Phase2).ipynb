{
  "nbformat": 4,
  "nbformat_minor": 0,
  "metadata": {
    "colab": {
      "provenance": [],
      "authorship_tag": "ABX9TyOGR6JoOShwpeAdcxsav7XQ",
      "include_colab_link": true
    },
    "kernelspec": {
      "name": "python3",
      "display_name": "Python 3"
    },
    "language_info": {
      "name": "python"
    }
  },
  "cells": [
    {
      "cell_type": "markdown",
      "metadata": {
        "id": "view-in-github",
        "colab_type": "text"
      },
      "source": [
        "<a href=\"https://colab.research.google.com/github/20A31A0511/satyapriya-eztraining-python/blob/main/DAY6_Contents(Phase2).ipynb\" target=\"_parent\"><img src=\"https://colab.research.google.com/assets/colab-badge.svg\" alt=\"Open In Colab\"/></a>"
      ]
    },
    {
      "cell_type": "markdown",
      "source": [
        "# **GRAPHS**\n",
        "\n",
        "*   Adjacency connection should be there for a route or path\n",
        "*   G=(V,E) V-Vertices,E-Edges\n",
        "*   Types of graphs: \n",
        "      *   Directed Graph\n",
        "      *   Undirected Graph\n",
        "      *   Weigh Graph\n",
        "\n",
        "### Representation of graph\n",
        "*   Types:\n",
        "      *   List of edges\n",
        "      *   Adjacency Matrix\n",
        "      *   Adjacency List\n",
        "\n",
        "### Graph Traversal \n",
        "\n",
        "*   In BFS visit a vertex and move on to all adjacent vertices\n",
        "*   In DFS after visiting a node select one adjacent vertex and explore it completely move on with other vertex"
      ],
      "metadata": {
        "id": "qJyZeAN8rGGZ"
      }
    },
    {
      "cell_type": "markdown",
      "source": [
        "# DIJKSTRA ALGORITHM\n",
        "*   It comes under greedy method where solution for the given problem will be figured out stage by stage\n",
        "*   It helps you to find out shortest path from one vertex to all other vertices\n",
        "*   Drawback::If weight of any edge is a negative number this algorithm won't work for that "
      ],
      "metadata": {
        "id": "ZQfBKcflvPox"
      }
    }
  ]
}