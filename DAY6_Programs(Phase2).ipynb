{
  "nbformat": 4,
  "nbformat_minor": 0,
  "metadata": {
    "colab": {
      "provenance": [],
      "authorship_tag": "ABX9TyPqP1dP/BvL/eE7kAUGNJJG",
      "include_colab_link": true
    },
    "kernelspec": {
      "name": "python3",
      "display_name": "Python 3"
    },
    "language_info": {
      "name": "python"
    }
  },
  "cells": [
    {
      "cell_type": "markdown",
      "metadata": {
        "id": "view-in-github",
        "colab_type": "text"
      },
      "source": [
        "<a href=\"https://colab.research.google.com/github/20A31A0511/satyapriya-eztraining-python/blob/main/DAY6_Programs(Phase2).ipynb\" target=\"_parent\"><img src=\"https://colab.research.google.com/assets/colab-badge.svg\" alt=\"Open In Colab\"/></a>"
      ]
    },
    {
      "cell_type": "code",
      "execution_count": null,
      "metadata": {
        "id": "PwnMu_pjcJ3S",
        "colab": {
          "base_uri": "https://localhost:8080/"
        },
        "outputId": "b22491c0-f29e-4f09-e2c2-6e02dd89ef51"
      },
      "outputs": [
        {
          "output_type": "stream",
          "name": "stdout",
          "text": [
            "[('a', 'c'), ('b', 'c'), ('b', 'e'), ('c', 'd'), ('c', 'e'), ('c', 'a'), ('c', 'b'), ('e', 'b'), ('e', 'c'), ('d', 'c')]\n"
          ]
        }
      ],
      "source": [
        "#Implementation of graph\n",
        "from collections import defaultdict\n",
        "graph=defaultdict(list)\n",
        "def addEdge(graph,u,v):\n",
        "  graph[u].append(v)\n",
        "def generate_edges(graph):\n",
        "  edges=[]\n",
        "  for node in graph:\n",
        "    for neighbour in graph[node]:\n",
        "      edges.append((node,neighbour))\n",
        "  return edges\n",
        "addEdge(graph,'a','c')\n",
        "addEdge(graph,'b','c')\n",
        "addEdge(graph,'b','e')\n",
        "addEdge(graph,'c','d')\n",
        "addEdge(graph,'c','e')\n",
        "addEdge(graph,'c','a')\n",
        "addEdge(graph,'c','b')\n",
        "addEdge(graph,'e','b')\n",
        "addEdge(graph,'d','c')\n",
        "addEdge(graph,'e','c')\n",
        "print(generate_edges(graph))"
      ]
    },
    {
      "cell_type": "code",
      "source": [
        "#Adjacency Matrix\n",
        "class graph(object):\n",
        "  def __init__(self,size):\n",
        "    self.adjmatrix=[]\n",
        "    for i in range(size):\n",
        "      self.adjmatrix.append([0 for i in range(size)])\n",
        "    self.size=size\n",
        "  def add_edge(self,v1,v2):\n",
        "    if v1==v2:\n",
        "      print(\"same vertex %d and %d \"%(v1,v2))\n",
        "    self.adjmatrix[v1][v2]=1\n",
        "    self.adjmatrix[v2][v1]=1\n",
        "  def remove_edges(self,v1,v2):\n",
        "    if self.adjmatrix[v1][v2]==0:\n",
        "      print(\"No edge between %d and %d\"%(v1,v2))\n",
        "      return\n",
        "    self.adjmatrix[v1][v2]=0\n",
        "    self.adjmatrix[v2][v1]=0\n",
        "  def __len__(self):\n",
        "    return self.size\n",
        "  def print_matrix(self):\n",
        "    for row in self.adjmatrix:\n",
        "      for val in row:\n",
        "        print('{:4}'.format(val))\n",
        "def main():\n",
        "  g=graph(5)\n",
        "  g.add_edge(0,1)\n",
        "  g.add_edge(0,2)\n",
        "  g.add_edge(1,2)\n",
        "  g.add_edge(2,0)\n",
        "  g.add_edge(2,3)\n",
        "  g.print_matrix()\n",
        "if __name__==\"__main__\":\n",
        "  main()"
      ],
      "metadata": {
        "id": "lqcDooHf4NPa",
        "colab": {
          "base_uri": "https://localhost:8080/"
        },
        "outputId": "3de148ec-a362-4229-e562-07ac66e603a8"
      },
      "execution_count": null,
      "outputs": [
        {
          "output_type": "stream",
          "name": "stdout",
          "text": [
            "   0\n",
            "   1\n",
            "   1\n",
            "   0\n",
            "   0\n",
            "   1\n",
            "   0\n",
            "   1\n",
            "   0\n",
            "   0\n",
            "   1\n",
            "   1\n",
            "   0\n",
            "   1\n",
            "   0\n",
            "   0\n",
            "   0\n",
            "   1\n",
            "   0\n",
            "   0\n",
            "   0\n",
            "   0\n",
            "   0\n",
            "   0\n",
            "   0\n"
          ]
        }
      ]
    },
    {
      "cell_type": "code",
      "source": [
        "#BFS\n",
        "graph={\n",
        "    '5':['3','7'],\n",
        "    '3':['2','4'],\n",
        "    '7':['8'],\n",
        "    '2':[],\n",
        "    '4':['8'],\n",
        "    '8':[]\n",
        "}\n",
        "visited=[]\n",
        "queue=[]\n",
        "def bfs(visited,graph,node):\n",
        "  visited.append(node)\n",
        "  queue.append(node)\n",
        "  while(queue):\n",
        "    m=queue.pop(0)\n",
        "    print(m)\n",
        "    for neighbour in graph[m]:\n",
        "      if neighbour not in visited:\n",
        "        visited.append(neighbour) \n",
        "        queue.append(neighbour)\n",
        "bfs(visited,graph,'5')"
      ],
      "metadata": {
        "colab": {
          "base_uri": "https://localhost:8080/"
        },
        "id": "b9rPTpiyZOVK",
        "outputId": "86aba168-41bb-443b-c84f-caf516583238"
      },
      "execution_count": null,
      "outputs": [
        {
          "output_type": "stream",
          "name": "stdout",
          "text": [
            "5\n",
            "3\n",
            "7\n",
            "2\n",
            "4\n",
            "8\n"
          ]
        }
      ]
    },
    {
      "cell_type": "code",
      "source": [
        "#DFS\n",
        "graph={\n",
        "    '5':['3','7'],\n",
        "    '3':['2','4'],\n",
        "    '7':['8'],\n",
        "    '2':[],\n",
        "    '4':['8'],\n",
        "    '8':[]\n",
        "}\n",
        "visited=set()\n",
        "def dfs(visited,graph,node):\n",
        "  if node not in visited:\n",
        "    print(node)\n",
        "    visited.add(node)\n",
        "    for neighbour in graph[node]:\n",
        "      dfs(visited,graph,neighbour)\n",
        "dfs(visited,graph,'3') "
      ],
      "metadata": {
        "colab": {
          "base_uri": "https://localhost:8080/"
        },
        "id": "J9A59QbNnb2S",
        "outputId": "b5e33821-46c7-42da-d84b-c5955ad52233"
      },
      "execution_count": null,
      "outputs": [
        {
          "output_type": "stream",
          "name": "stdout",
          "text": [
            "3\n",
            "2\n",
            "4\n",
            "8\n"
          ]
        }
      ]
    },
    {
      "cell_type": "code",
      "source": [],
      "metadata": {
        "id": "8tQKCsi4svbg"
      },
      "execution_count": null,
      "outputs": []
    }
  ]
}