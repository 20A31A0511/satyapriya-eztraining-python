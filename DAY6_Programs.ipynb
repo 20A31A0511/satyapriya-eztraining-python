{
  "nbformat": 4,
  "nbformat_minor": 0,
  "metadata": {
    "colab": {
      "provenance": [],
      "authorship_tag": "ABX9TyN7eNegG8ljMfbMfkBAgYq/",
      "include_colab_link": true
    },
    "kernelspec": {
      "name": "python3",
      "display_name": "Python 3"
    },
    "language_info": {
      "name": "python"
    }
  },
  "cells": [
    {
      "cell_type": "markdown",
      "metadata": {
        "id": "view-in-github",
        "colab_type": "text"
      },
      "source": [
        "<a href=\"https://colab.research.google.com/github/20A31A0511/satyapriya-eztraining-python/blob/main/DAY6_Programs.ipynb\" target=\"_parent\"><img src=\"https://colab.research.google.com/assets/colab-badge.svg\" alt=\"Open In Colab\"/></a>"
      ]
    },
    {
      "cell_type": "code",
      "execution_count": null,
      "metadata": {
        "colab": {
          "base_uri": "https://localhost:8080/"
        },
        "id": "39sZCMvHl2PM",
        "outputId": "01ca2dd2-2d81-4d52-db5a-8be0c9ca7724"
      },
      "outputs": [
        {
          "output_type": "stream",
          "name": "stdout",
          "text": [
            "please note, a number can't be divided by zero division by zero\n",
            "bye\n"
          ]
        }
      ],
      "source": [
        "a=100\n",
        "b=0\n",
        "try:\n",
        "  print(a/b)\n",
        "except Exception as e:\n",
        "  print(\"please note, a number can't be divided by zero\",e)\n",
        "print(\"bye\")"
      ]
    },
    {
      "cell_type": "code",
      "source": [
        "a=100\n",
        "b=0\n",
        "try:\n",
        "  print(\"resource open\")\n",
        "  print(a/b)\n",
        "except Exception as e:\n",
        "  print(\"please note, a number can't be divided by zero\",e)\n",
        "finally:\n",
        "  print(\"resource closed\")"
      ],
      "metadata": {
        "colab": {
          "base_uri": "https://localhost:8080/"
        },
        "id": "mjKVw7H-sNEi",
        "outputId": "8f68c216-2041-4b2b-b8ea-d4cdc4a299aa"
      },
      "execution_count": null,
      "outputs": [
        {
          "output_type": "stream",
          "name": "stdout",
          "text": [
            "resource open\n",
            "please note, a number can't be divided by zero division by zero\n",
            "resource closed\n"
          ]
        }
      ]
    },
    {
      "cell_type": "code",
      "source": [
        "a=10\n",
        "try:\n",
        "  b=int(input(\"Enter a number:\"))\n",
        "  print(\"resource open\")\n",
        "  print(a/b)\n",
        "except ZeroDivisionError as e:\n",
        "  print(\"please note,number can't be divided by zero\")\n",
        "except ValueError as e:\n",
        "  print(\"invalid error\",e)\n",
        "except Exception as e:\n",
        "  print(\"other error\",e)\n",
        "finally:\n",
        "  print(\"resources closed\") \n"
      ],
      "metadata": {
        "colab": {
          "base_uri": "https://localhost:8080/"
        },
        "id": "VG4twnrMvIja",
        "outputId": "87c51bb5-0813-4b58-a0bf-83f05c713a8d"
      },
      "execution_count": null,
      "outputs": [
        {
          "output_type": "stream",
          "name": "stdout",
          "text": [
            "Enter a number:satya\n",
            "invalid error invalid literal for int() with base 10: 'satya'\n",
            "resources closed\n"
          ]
        }
      ]
    },
    {
      "cell_type": "code",
      "source": [
        "x=11\n",
        "if x%2!=0:\n",
        "  raise Exception(\"x should be even number\")\n",
        "else:\n",
        "  print(\"x is even....correct\")"
      ],
      "metadata": {
        "colab": {
          "base_uri": "https://localhost:8080/",
          "height": 235
        },
        "id": "egURxFOUyte-",
        "outputId": "faa60409-0e4d-415c-8815-7a0157b6b648"
      },
      "execution_count": null,
      "outputs": [
        {
          "output_type": "error",
          "ename": "Exception",
          "evalue": "ignored",
          "traceback": [
            "\u001b[0;31m---------------------------------------------------------------------------\u001b[0m",
            "\u001b[0;31mException\u001b[0m                                 Traceback (most recent call last)",
            "\u001b[0;32m<ipython-input-5-b755c6927251>\u001b[0m in \u001b[0;36m<module>\u001b[0;34m\u001b[0m\n\u001b[1;32m      1\u001b[0m \u001b[0mx\u001b[0m\u001b[0;34m=\u001b[0m\u001b[0;36m11\u001b[0m\u001b[0;34m\u001b[0m\u001b[0;34m\u001b[0m\u001b[0m\n\u001b[1;32m      2\u001b[0m \u001b[0;32mif\u001b[0m \u001b[0mx\u001b[0m\u001b[0;34m%\u001b[0m\u001b[0;36m2\u001b[0m\u001b[0;34m!=\u001b[0m\u001b[0;36m0\u001b[0m\u001b[0;34m:\u001b[0m\u001b[0;34m\u001b[0m\u001b[0;34m\u001b[0m\u001b[0m\n\u001b[0;32m----> 3\u001b[0;31m   \u001b[0;32mraise\u001b[0m \u001b[0mException\u001b[0m\u001b[0;34m(\u001b[0m\u001b[0;34m\"x should be even number\"\u001b[0m\u001b[0;34m)\u001b[0m\u001b[0;34m\u001b[0m\u001b[0;34m\u001b[0m\u001b[0m\n\u001b[0m\u001b[1;32m      4\u001b[0m \u001b[0;32melse\u001b[0m\u001b[0;34m:\u001b[0m\u001b[0;34m\u001b[0m\u001b[0;34m\u001b[0m\u001b[0m\n\u001b[1;32m      5\u001b[0m   \u001b[0mprint\u001b[0m\u001b[0;34m(\u001b[0m\u001b[0;34m\"x is even....correct\"\u001b[0m\u001b[0;34m)\u001b[0m\u001b[0;34m\u001b[0m\u001b[0;34m\u001b[0m\u001b[0m\n",
            "\u001b[0;31mException\u001b[0m: x should be even number"
          ]
        }
      ]
    },
    {
      "cell_type": "code",
      "source": [
        "class computer():\n",
        "  def config(self):\n",
        "    print(\"yes\")\n",
        "lenovo=computer()\n",
        "lenovo.config()\n",
        "dell=computer()\n",
        "dell.config()"
      ],
      "metadata": {
        "colab": {
          "base_uri": "https://localhost:8080/"
        },
        "id": "pNfoydTA0TUr",
        "outputId": "b8966c01-d368-4f32-cb95-e772061ef161"
      },
      "execution_count": null,
      "outputs": [
        {
          "output_type": "stream",
          "name": "stdout",
          "text": [
            "yes\n",
            "yes\n"
          ]
        }
      ]
    },
    {
      "cell_type": "code",
      "source": [
        "#constructor\n",
        "class employee:\n",
        "  def __init__(self,name,id):\n",
        "    self.name=name\n",
        "    self.id=id\n",
        "  def display(self):\n",
        "    print(\"Name: %s \\nId: %d\" % (self.name,self.id))\n",
        "emp1=employee(\"satya\",511)\n",
        "emp2=employee(\"priya\",512)\n",
        "emp1.display()\n",
        "emp2.display()"
      ],
      "metadata": {
        "colab": {
          "base_uri": "https://localhost:8080/"
        },
        "id": "ehlf9vbv-Z-m",
        "outputId": "30e90cb4-4dea-4f3e-c008-bab82e007a4d"
      },
      "execution_count": null,
      "outputs": [
        {
          "output_type": "stream",
          "name": "stdout",
          "text": [
            "Name: satya \n",
            "Id: 511\n",
            "Name: priya \n",
            "Id: 512\n"
          ]
        }
      ]
    },
    {
      "cell_type": "code",
      "source": [
        "class computer():\n",
        "  a=20\n",
        "  b=10\n",
        "  print(\"class variable inside class\",a)\n",
        "  def config(self):\n",
        "    c=100\n",
        "    print(\"yes\")\n",
        "    print(\"instance access\",self.b)\n",
        "lenovo=computer()\n",
        "print(lenovo.a)\n",
        "print(lenovo.a+lenovo.b)\n",
        "dell=computer()\n",
        "print(\"dell\",dell.a)\n",
        "lenovo.config()"
      ],
      "metadata": {
        "colab": {
          "base_uri": "https://localhost:8080/"
        },
        "id": "R9qiIlBICj33",
        "outputId": "0829c910-408a-4794-9ced-6db2c5ba4ac4"
      },
      "execution_count": null,
      "outputs": [
        {
          "output_type": "stream",
          "name": "stdout",
          "text": [
            "class variable inside class 20\n",
            "20\n",
            "30\n",
            "dell 20\n",
            "yes\n",
            "instance access 10\n"
          ]
        }
      ]
    }
  ]
}