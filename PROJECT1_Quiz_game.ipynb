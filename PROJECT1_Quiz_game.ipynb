{
  "nbformat": 4,
  "nbformat_minor": 0,
  "metadata": {
    "colab": {
      "provenance": [],
      "authorship_tag": "ABX9TyNR8J140XGutG9LEz+6Qreh",
      "include_colab_link": true
    },
    "kernelspec": {
      "name": "python3",
      "display_name": "Python 3"
    },
    "language_info": {
      "name": "python"
    }
  },
  "cells": [
    {
      "cell_type": "markdown",
      "metadata": {
        "id": "view-in-github",
        "colab_type": "text"
      },
      "source": [
        "<a href=\"https://colab.research.google.com/github/20A31A0511/satyapriya-eztraining-python/blob/main/PROJECT1_Quiz_game.ipynb\" target=\"_parent\"><img src=\"https://colab.research.google.com/assets/colab-badge.svg\" alt=\"Open In Colab\"/></a>"
      ]
    },
    {
      "cell_type": "code",
      "execution_count": null,
      "metadata": {
        "colab": {
          "base_uri": "https://localhost:8080/"
        },
        "id": "99xDhCL7f8nB",
        "outputId": "a1146921-8810-41e9-92ef-c38fdbedfef2"
      },
      "outputs": [
        {
          "output_type": "stream",
          "name": "stdout",
          "text": [
            "Enter your name:satyapriya\n",
            "hello satyapriya welcome to the quiz\n",
            "\n",
            "Which of the following character is used to give single line comments in python?\n",
            "1.//\n",
            "2.#\n",
            "3.!\n",
            "4./*\n",
            "do you want to skip the question (yes/no):no\n",
            "Enter your answer:2\n",
            "correct answer,you got one point\n",
            "your current score: 1\n",
            "Do you want to quit the quiz? (yes/no):no\n",
            "\n",
            "Which keyword is used for functions in python language?\n",
            "1.function\n",
            "2.def\n",
            "3.Fun\n",
            "4.Define\n",
            "do you want to skip the question (yes/no):no\n",
            "Enter your answer:2\n",
            "correct answer,you got one point\n",
            "your current score: 2\n",
            "Do you want to quit the quiz? (yes/no):no\n",
            "\n",
            "Which of the following is not a datatype in python?\n",
            "1.Tuples\n",
            "2.Lists\n",
            "3.Class\n",
            "4.Dictionary\n",
            "do you want to skip the question (yes/no):no\n",
            "Enter your answer:3\n",
            "correct answer,you got one point\n",
            "your current score: 3\n",
            "Do you want to quit the quiz? (yes/no):no\n",
            "\n",
            "Which of the following is a python tuple?\n",
            "1.{1,2,3}\n",
            "2.[1,2,3]\n",
            "3.(1,2,3)\n",
            "4.{}\n",
            "do you want to skip the question (yes/no):3\n",
            "Enter your answer:3\n",
            "correct answer,you got one point\n",
            "your current score: 4\n",
            "Do you want to quit the quiz? (yes/no):no\n",
            "\n",
            "What is the output of the following code?\n",
            "     len([\"hello\",2,3,4])\n",
            "1.error\n",
            "2.6\n",
            "3.4\n",
            "4.7\n",
            "do you want to skip the question (yes/no):no\n",
            "Enter your answer:3\n",
            "correct answer,you got one point\n",
            "your current score: 5\n",
            "Do you want to quit the quiz? (yes/no):no\n",
            "Your total score: 5\n"
          ]
        }
      ],
      "source": [
        "q1=\"\"\"Which of the following character is used to give single line comments in python?\n",
        "1.//\n",
        "2.#\n",
        "3.!\n",
        "4./*\"\"\"\n",
        "q2=\"\"\"Which keyword is used for functions in python language?\n",
        "1.function\n",
        "2.def\n",
        "3.Fun\n",
        "4.Define\"\"\"\n",
        "q3=\"\"\"Which of the following is not a datatype in python?\n",
        "1.Tuples\n",
        "2.Lists\n",
        "3.Class\n",
        "4.Dictionary\"\"\"\n",
        "q4=\"\"\"Which of the following is a python tuple?\n",
        "1.{1,2,3}\n",
        "2.[1,2,3]\n",
        "3.(1,2,3)\n",
        "4.{}\"\"\"\n",
        "q5=\"\"\"What is the output of the following code?\n",
        "     len([\"hello\",2,3,4])\n",
        "1.error\n",
        "2.6\n",
        "3.4\n",
        "4.7\"\"\"\n",
        "questions={q1:\"2\",q2:\"2\",q3:\"3\",q4:\"3\",q5:\"3\"}\n",
        "score=0\n",
        "name=input(\"Enter your name:\")\n",
        "print(\"hello\",name,\"welcome to the quiz\")\n",
        "for i in questions:\n",
        "  print()\n",
        "  print(i)\n",
        "  flag1=input(\"do you want to skip the question (yes/no):\")\n",
        "  if flag1==\"yes\":\n",
        "    continue\n",
        "  ans=input(\"Enter your answer:\")\n",
        "  if ans==questions[i]:\n",
        "    print(\"correct answer,you got one point\")\n",
        "    score+=1\n",
        "    print(\"your current score:\",score)\n",
        "  else:\n",
        "    print(\"Wrong answer,you lost a point\")\n",
        "    score-=1\n",
        "    print(\"Your current score:\",score)\n",
        "  flag2=input(\"Do you want to quit the quiz? (yes/no):\")\n",
        "  if flag2==\"yes\":\n",
        "    break\n",
        "print(\"Your total score:\",score)"
      ]
    }
  ]
}